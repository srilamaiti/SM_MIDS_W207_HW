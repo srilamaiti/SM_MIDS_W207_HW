{
  "nbformat": 4,
  "nbformat_minor": 0,
  "metadata": {
    "colab": {
      "provenance": [],
      "collapsed_sections": [],
      "authorship_tag": "ABX9TyOvTQ8ELNcbV23lvMV4sosF",
      "include_colab_link": true
    },
    "kernelspec": {
      "name": "python3",
      "display_name": "Python 3"
    },
    "language_info": {
      "name": "python"
    },
    "accelerator": "TPU"
  },
  "cells": [
    {
      "cell_type": "markdown",
      "metadata": {
        "id": "view-in-github",
        "colab_type": "text"
      },
      "source": [
        "<a href=\"https://colab.research.google.com/github/srilamaiti/SM_MIDS_W207_HW/blob/main/facial_emotion_classification.ipynb\" target=\"_parent\"><img src=\"https://colab.research.google.com/assets/colab-badge.svg\" alt=\"Open In Colab\"/></a>"
      ]
    },
    {
      "cell_type": "code",
      "execution_count": 80,
      "metadata": {
        "id": "REzJNE-kUsYZ",
        "colab": {
          "base_uri": "https://localhost:8080/"
        },
        "outputId": "dc5c8525-b937-4566-cece-b6a2f2793da9"
      },
      "outputs": [
        {
          "output_type": "stream",
          "name": "stdout",
          "text": [
            "Drive already mounted at /content/gdrive; to attempt to forcibly remount, call drive.mount(\"/content/gdrive\", force_remount=True).\n"
          ]
        }
      ],
      "source": [
        "import pandas as pd\n",
        "import numpy as np\n",
        "import os\n",
        "import random\n",
        "import joblib\n",
        "import glob\n",
        "import random\n",
        "from imutils import rotate as rotate\n",
        "from itertools import product\n",
        "import gc\n",
        "from sklearn.utils import shuffle\n",
        "import cv2 as cv\n",
        "import skimage.io as skio\n",
        "\n",
        "import matplotlib.pyplot as plt\n",
        "import seaborn as sns\n",
        "import plotly.express as px\n",
        "import matplotlib.patches as patches\n",
        "from matplotlib.patches import Polygon\n",
        "\n",
        "import tensorflow as tf\n",
        "from tensorflow.keras.preprocessing.image import ImageDataGenerator\n",
        "from tensorflow.keras.layers import RandomFlip\n",
        "from tensorflow.keras.layers import RandomZoom\n",
        "from tensorflow.keras.layers import RandomRotation\n",
        "from tensorflow.keras.layers import Conv2D\n",
        "from tensorflow.keras.layers import MaxPooling2D\n",
        "from tensorflow.keras.layers import AveragePooling2D\n",
        "from tensorflow.keras.layers import Dense\n",
        "from tensorflow.keras.layers import Flatten\n",
        "from tensorflow.keras.layers import Dropout\n",
        "from tensorflow.keras.models import Sequential\n",
        "from tensorflow.keras.layers import BatchNormalization\n",
        "from tensorflow.keras.optimizers import Adam\n",
        "from keras.applications.vgg16 import VGG16\n",
        "from keras.layers import GlobalMaxPooling2D\n",
        "from tensorflow.keras.applications import ResNet50\n",
        "\n",
        "from tensorflow.keras.preprocessing.image import array_to_img\n",
        "from tensorflow.keras.preprocessing.image import img_to_array\n",
        "from tensorflow.keras.preprocessing.image import load_img\n",
        "from tensorflow.python.ops.numpy_ops import np_config\n",
        "from keras.callbacks import ModelCheckpoint\n",
        "from keras.callbacks import EarlyStopping\n",
        "from keras.callbacks import ReduceLROnPlateau\n",
        "np_config.enable_numpy_behavior()\n",
        "from PIL import Image\n",
        "import cv2\n",
        "\n",
        "from fastai.vision import *\n",
        "from fastai.metrics import error_rate, accuracy\n",
        "\n",
        "# Required to read the data from Kaggle\n",
        "from google.colab import drive\n",
        "drive.mount('/content/gdrive')\n",
        "os.environ['KAGGLE_CONFIG_DIR'] = \"/content/gdrive/MyDrive/Kaggle\"\n",
        "\n",
        "import warnings\n",
        "warnings.simplefilter(\"ignore\", category=DeprecationWarning)"
      ]
    },
    {
      "cell_type": "code",
      "source": [
        "labels = ['happy', 'sad', 'fear', 'angry', 'neutral', 'surprise', 'disgust']\n",
        "label_dict = {'happy' : 1, 'sad' : 2, 'fear' : 3, 'angry' : 4, 'neutral' : 5, 'surprise' : 6, 'disgust' : 7}"
      ],
      "metadata": {
        "id": "VNbuggheU3sZ"
      },
      "execution_count": 30,
      "outputs": []
    },
    {
      "cell_type": "code",
      "source": [
        "current_working_dir = '/content/gdrive/MyDrive' #os.getcwd()\n",
        "image_file_extension = '.jpg'\n",
        "train_path = 'fdtct_train'\n",
        "test_path = 'fdtct_test'\n",
        "validation_path = 'fdtct_validation'\n",
        "\n",
        "happy_path = 'happy'\n",
        "sad_path = 'sad'\n",
        "disgust_path = 'disgust'\n",
        "angry_path = 'angry'\n",
        "surprise_path = 'surprise'\n",
        "fear_path = 'fear'\n",
        "neutral_path = 'neutral'"
      ],
      "metadata": {
        "id": "t1ton3tLU3vz"
      },
      "execution_count": 3,
      "outputs": []
    },
    {
      "cell_type": "code",
      "source": [
        "def get_file_names(dir, image_file_extension = 'jpg'):\n",
        "    \"\"\"\n",
        "    This function lists all the files in the directory.\n",
        "    \"\"\"\n",
        "    return glob.glob(dir + '/*.'+ image_file_extension)"
      ],
      "metadata": {
        "id": "pqyMituepbCJ"
      },
      "execution_count": 4,
      "outputs": []
    },
    {
      "cell_type": "code",
      "source": [
        "def read_image_file_in_np_array(image_file_name_list):\n",
        "    \"\"\"\n",
        "    This function reads each image file in a Numpy array and returns it.\n",
        "    \"\"\"\n",
        "    return np.asarray([cv2.imread(image_file) for image_file in image_file_name_list])"
      ],
      "metadata": {
        "id": "L3_bZ721s1JY"
      },
      "execution_count": 5,
      "outputs": []
    },
    {
      "cell_type": "code",
      "source": [
        "def convert_np_array_to_tensor(np_image_array):\n",
        "    \"\"\"\n",
        "    This function converts the numpy array representation of each image in tensor.\n",
        "    \"\"\"\n",
        "    return tf.convert_to_tensor(np_image_array, dtype = tf.float32)"
      ],
      "metadata": {
        "id": "-SD82yzlxKjv"
      },
      "execution_count": 16,
      "outputs": []
    },
    {
      "cell_type": "code",
      "source": [
        "def create_label(array_length, val):\n",
        "    \"\"\"\n",
        "    This function creates array of the given value\n",
        "    \"\"\"\n",
        "    label_np = np.empty(array_length); label_np.fill(val)\n",
        "    return label_np"
      ],
      "metadata": {
        "id": "FuIQ5JEwz6E2"
      },
      "execution_count": 32,
      "outputs": []
    },
    {
      "cell_type": "code",
      "source": [
        "def convert_to_grayscale(tf_image_list):\n",
        "    \"\"\"\n",
        "    This function converts color image to grayscale.\n",
        "    \"\"\"\n",
        "    return tf.image.rgb_to_grayscale(tf_image_list) / 255.0"
      ],
      "metadata": {
        "id": "ex08CpqJ3X3G"
      },
      "execution_count": 43,
      "outputs": []
    },
    {
      "cell_type": "code",
      "source": [
        "train_happy_file_list = get_file_names(dir = os.path.join(current_working_dir, train_path, happy_path))\n",
        "train_sad_file_list = get_file_names(dir = os.path.join(current_working_dir, train_path, sad_path))\n",
        "train_angry_file_list = get_file_names(dir = os.path.join(current_working_dir, train_path, angry_path))\n",
        "train_surprise_file_list = get_file_names(dir = os.path.join(current_working_dir, train_path, surprise_path))\n",
        "train_fear_file_list = get_file_names(dir = os.path.join(current_working_dir, train_path, fear_path))\n",
        "train_neutral_file_list = get_file_names(dir = os.path.join(current_working_dir, train_path, neutral_path))\n",
        "train_disgust_file_list = get_file_names(dir = os.path.join(current_working_dir, train_path, disgust_path))"
      ],
      "metadata": {
        "id": "zb32fK9_U31v"
      },
      "execution_count": 6,
      "outputs": []
    },
    {
      "cell_type": "code",
      "source": [
        "print(f\"Number of train happy files: {len(train_happy_file_list)}\")\n",
        "print(f\"Number of train sad files: {len(train_sad_file_list)}\")\n",
        "print(f\"Number of train angry files: {len(train_angry_file_list)}\")\n",
        "print(f\"Number of train neutral files: {len(train_neutral_file_list)}\")\n",
        "print(f\"Number of train disgust files: {len(train_disgust_file_list)}\")\n",
        "print(f\"Number of train fear files: {len(train_fear_file_list)}\")\n",
        "print(f\"Number of train surprise files: {len(train_surprise_file_list)}\")"
      ],
      "metadata": {
        "colab": {
          "base_uri": "https://localhost:8080/"
        },
        "id": "w0zQ6LiHrqRr",
        "outputId": "16356e70-2f98-4c86-a4b0-0ec5cf202b07"
      },
      "execution_count": 7,
      "outputs": [
        {
          "output_type": "stream",
          "name": "stdout",
          "text": [
            "Number of train happy files: 350\n",
            "Number of train sad files: 350\n",
            "Number of train angry files: 350\n",
            "Number of train neutral files: 350\n",
            "Number of train disgust files: 350\n",
            "Number of train fear files: 350\n",
            "Number of train surprise files: 350\n"
          ]
        }
      ]
    },
    {
      "cell_type": "code",
      "source": [
        "test_happy_file_list = get_file_names(dir = os.path.join(current_working_dir, test_path, happy_path))\n",
        "test_sad_file_list = get_file_names(dir = os.path.join(current_working_dir, test_path, sad_path))\n",
        "test_angry_file_list = get_file_names(dir = os.path.join(current_working_dir, test_path, angry_path))\n",
        "test_surprise_file_list = get_file_names(dir = os.path.join(current_working_dir, test_path, surprise_path))\n",
        "test_fear_file_list = get_file_names(dir = os.path.join(current_working_dir, test_path, fear_path))\n",
        "test_neutral_file_list = get_file_names(dir = os.path.join(current_working_dir, test_path, neutral_path))\n",
        "test_disgust_file_list = get_file_names(dir = os.path.join(current_working_dir, test_path, disgust_path))"
      ],
      "metadata": {
        "id": "eM-9OMDCrQHc"
      },
      "execution_count": 8,
      "outputs": []
    },
    {
      "cell_type": "code",
      "source": [
        "print(f\"Number of test happy files: {len(test_happy_file_list)}\")\n",
        "print(f\"Number of test sad files: {len(test_sad_file_list)}\")\n",
        "print(f\"Number of test angry files: {len(test_angry_file_list)}\")\n",
        "print(f\"Number of test neutral files: {len(test_neutral_file_list)}\")\n",
        "print(f\"Number of test disgust files: {len(test_disgust_file_list)}\")\n",
        "print(f\"Number of test fear files: {len(test_fear_file_list)}\")\n",
        "print(f\"Number of test surprise files: {len(test_surprise_file_list)}\")"
      ],
      "metadata": {
        "colab": {
          "base_uri": "https://localhost:8080/"
        },
        "id": "PcrWVNqbsGzd",
        "outputId": "d36de559-106a-4a71-b501-6129d906ba10"
      },
      "execution_count": 9,
      "outputs": [
        {
          "output_type": "stream",
          "name": "stdout",
          "text": [
            "Number of test happy files: 112\n",
            "Number of test sad files: 112\n",
            "Number of test angry files: 112\n",
            "Number of test neutral files: 112\n",
            "Number of test disgust files: 111\n",
            "Number of test fear files: 112\n",
            "Number of test surprise files: 112\n"
          ]
        }
      ]
    },
    {
      "cell_type": "code",
      "source": [
        "validation_happy_file_list = get_file_names(dir = os.path.join(current_working_dir, validation_path, happy_path))\n",
        "validation_sad_file_list = get_file_names(dir = os.path.join(current_working_dir, validation_path, sad_path))\n",
        "validation_angry_file_list = get_file_names(dir = os.path.join(current_working_dir, validation_path, angry_path))\n",
        "validation_surprise_file_list = get_file_names(dir = os.path.join(current_working_dir, validation_path, surprise_path))\n",
        "validation_fear_file_list = get_file_names(dir = os.path.join(current_working_dir, validation_path, fear_path))\n",
        "validation_neutral_file_list = get_file_names(dir = os.path.join(current_working_dir, validation_path, neutral_path))\n",
        "validation_disgust_file_list = get_file_names(dir = os.path.join(current_working_dir, validation_path, disgust_path))"
      ],
      "metadata": {
        "id": "5gy51wXcrQM8"
      },
      "execution_count": 10,
      "outputs": []
    },
    {
      "cell_type": "code",
      "source": [
        "print(f\"Number of validation happy files: {len(validation_happy_file_list)}\")\n",
        "print(f\"Number of validation sad files: {len(validation_sad_file_list)}\")\n",
        "print(f\"Number of validation angry files: {len(validation_angry_file_list)}\")\n",
        "print(f\"Number of validation neutral files: {len(validation_neutral_file_list)}\")\n",
        "print(f\"Number of validation disgust files: {len(validation_disgust_file_list)}\")\n",
        "print(f\"Number of validation fear files: {len(validation_fear_file_list)}\")\n",
        "print(f\"Number of validation surprise files: {len(validation_surprise_file_list)}\")"
      ],
      "metadata": {
        "colab": {
          "base_uri": "https://localhost:8080/"
        },
        "id": "Mp-zu-_5rQQ1",
        "outputId": "67a57d6e-17bd-4498-ea1b-798c49a8a996"
      },
      "execution_count": 11,
      "outputs": [
        {
          "output_type": "stream",
          "name": "stdout",
          "text": [
            "Number of validation happy files: 87\n",
            "Number of validation sad files: 87\n",
            "Number of validation angry files: 87\n",
            "Number of validation neutral files: 87\n",
            "Number of validation disgust files: 87\n",
            "Number of validation fear files: 87\n",
            "Number of validation surprise files: 87\n"
          ]
        }
      ]
    },
    {
      "cell_type": "code",
      "source": [
        "import matplotlib.pyplot as plt\n",
        "image = plt.imread(os.path.join(current_working_dir, validation_path, happy_path) + '/100.jpg')\n",
        "plt.imshow(image)"
      ],
      "metadata": {
        "colab": {
          "base_uri": "https://localhost:8080/",
          "height": 285
        },
        "id": "16CtQhuqrQT6",
        "outputId": "39065238-23d6-4541-f54f-86673e0713cf"
      },
      "execution_count": 12,
      "outputs": [
        {
          "output_type": "execute_result",
          "data": {
            "text/plain": [
              "<matplotlib.image.AxesImage at 0x7efb73e98bd0>"
            ]
          },
          "metadata": {},
          "execution_count": 12
        },
        {
          "output_type": "display_data",
          "data": {
            "text/plain": [
              "<Figure size 432x288 with 1 Axes>"
            ],
            "image/png": "[encoded data removed]"
          },
          "metadata": {
            "needs_background": "light"
          }
        }
      ]
    },
    {
      "cell_type": "code",
      "source": [
        "train_happy_np = read_image_file_in_np_array(image_file_name_list = train_happy_file_list)\n",
        "train_sad_np = read_image_file_in_np_array(image_file_name_list = train_sad_file_list)\n",
        "train_angry_np = read_image_file_in_np_array(image_file_name_list = train_angry_file_list)\n",
        "train_fear_np = read_image_file_in_np_array(image_file_name_list = train_fear_file_list)\n",
        "train_surprise_np = read_image_file_in_np_array(image_file_name_list = train_surprise_file_list)\n",
        "train_neutral_np = read_image_file_in_np_array(image_file_name_list = train_neutral_file_list)\n",
        "train_disgust_np = read_image_file_in_np_array(image_file_name_list = train_disgust_file_list)"
      ],
      "metadata": {
        "id": "sFHpOj7sshZT"
      },
      "execution_count": 13,
      "outputs": []
    },
    {
      "cell_type": "code",
      "source": [
        "validation_happy_np = read_image_file_in_np_array(image_file_name_list = validation_happy_file_list)\n",
        "validation_sad_np = read_image_file_in_np_array(image_file_name_list = validation_sad_file_list)\n",
        "validation_angry_np = read_image_file_in_np_array(image_file_name_list = validation_angry_file_list)\n",
        "validation_fear_np = read_image_file_in_np_array(image_file_name_list = validation_fear_file_list)\n",
        "validation_surprise_np = read_image_file_in_np_array(image_file_name_list = validation_surprise_file_list)\n",
        "validation_neutral_np = read_image_file_in_np_array(image_file_name_list = validation_neutral_file_list)\n",
        "validation_disgust_np = read_image_file_in_np_array(image_file_name_list = validation_disgust_file_list)"
      ],
      "metadata": {
        "id": "jrmy91X9shca"
      },
      "execution_count": 14,
      "outputs": []
    },
    {
      "cell_type": "code",
      "source": [
        "test_happy_np = read_image_file_in_np_array(image_file_name_list = test_happy_file_list)\n",
        "test_sad_np = read_image_file_in_np_array(image_file_name_list = test_sad_file_list)\n",
        "test_angry_np = read_image_file_in_np_array(image_file_name_list = test_angry_file_list)\n",
        "test_fear_np = read_image_file_in_np_array(image_file_name_list = test_fear_file_list)\n",
        "test_surprise_np = read_image_file_in_np_array(image_file_name_list = test_surprise_file_list)\n",
        "test_neutral_np = read_image_file_in_np_array(image_file_name_list = test_neutral_file_list)\n",
        "test_disgust_np = read_image_file_in_np_array(image_file_name_list = test_disgust_file_list)"
      ],
      "metadata": {
        "id": "m2dqw1onshfi"
      },
      "execution_count": 15,
      "outputs": []
    },
    {
      "cell_type": "code",
      "source": [
        "print(f\"Shape of train_happy_np : {train_happy_np.shape}\")\n",
        "print(f\"Shape of train_sad_np : {train_sad_np.shape}\")\n",
        "print(f\"Shape of train_angry_np : {train_angry_np.shape}\")\n",
        "print(f\"Shape of train_fear_np : {train_fear_np.shape}\")\n",
        "print(f\"Shape of train_surprise_np : {train_surprise_np.shape}\")\n",
        "print(f\"Shape of train_neutral_np : {train_neutral_np.shape}\")\n",
        "print(f\"Shape of train_disgust_np : {train_disgust_np.shape}\")"
      ],
      "metadata": {
        "colab": {
          "base_uri": "https://localhost:8080/"
        },
        "id": "thlJBLvNshic",
        "outputId": "19dbda02-033a-48b5-adb2-778ded05652a"
      },
      "execution_count": 17,
      "outputs": [
        {
          "output_type": "stream",
          "name": "stdout",
          "text": [
            "Shape of train_happy_np : (350, 48, 48, 3)\n",
            "Shape of train_sad_np : (350, 48, 48, 3)\n",
            "Shape of train_angry_np : (350, 48, 48, 3)\n",
            "Shape of train_fear_np : (350, 48, 48, 3)\n",
            "Shape of train_surprise_np : (350, 48, 48, 3)\n",
            "Shape of train_neutral_np : (350, 48, 48, 3)\n",
            "Shape of train_disgust_np : (350, 48, 48, 3)\n"
          ]
        }
      ]
    },
    {
      "cell_type": "code",
      "source": [
        "print(f\"Shape of test_happy_np : {test_happy_np.shape}\")\n",
        "print(f\"Shape of test_sad_np : {test_sad_np.shape}\")\n",
        "print(f\"Shape of test_angry_np : {test_angry_np.shape}\")\n",
        "print(f\"Shape of test_fear_np : {test_fear_np.shape}\")\n",
        "print(f\"Shape of test_surprise_np : {test_surprise_np.shape}\")\n",
        "print(f\"Shape of test_neutral_np : {test_neutral_np.shape}\")\n",
        "print(f\"Shape of test_disgust_np : {test_disgust_np.shape}\")"
      ],
      "metadata": {
        "colab": {
          "base_uri": "https://localhost:8080/"
        },
        "id": "sM2U4vWSrQXS",
        "outputId": "f9642333-6767-49f5-e059-38386cbf4f9c"
      },
      "execution_count": 18,
      "outputs": [
        {
          "output_type": "stream",
          "name": "stdout",
          "text": [
            "Shape of test_happy_np : (112, 48, 48, 3)\n",
            "Shape of test_sad_np : (112, 48, 48, 3)\n",
            "Shape of test_angry_np : (112, 48, 48, 3)\n",
            "Shape of test_fear_np : (112, 48, 48, 3)\n",
            "Shape of test_surprise_np : (112, 48, 48, 3)\n",
            "Shape of test_neutral_np : (112, 48, 48, 3)\n",
            "Shape of test_disgust_np : (111, 48, 48, 3)\n"
          ]
        }
      ]
    },
    {
      "cell_type": "code",
      "source": [
        "print(f\"Shape of validation_happy_np : {validation_happy_np.shape}\")\n",
        "print(f\"Shape of validation_sad_np : {validation_sad_np.shape}\")\n",
        "print(f\"Shape of validation_angry_np : {validation_angry_np.shape}\")\n",
        "print(f\"Shape of validation_fear_np : {validation_fear_np.shape}\")\n",
        "print(f\"Shape of validation_surprise_np : {validation_surprise_np.shape}\")\n",
        "print(f\"Shape of validation_neutral_np : {validation_neutral_np.shape}\")\n",
        "print(f\"Shape of validation_disgust_np : {validation_disgust_np.shape}\")"
      ],
      "metadata": {
        "colab": {
          "base_uri": "https://localhost:8080/"
        },
        "id": "kwHwh_CGrQac",
        "outputId": "63860f5c-ff91-4eee-cfe2-8d657ab7f4fd"
      },
      "execution_count": 19,
      "outputs": [
        {
          "output_type": "stream",
          "name": "stdout",
          "text": [
            "Shape of validation_happy_np : (87, 48, 48, 3)\n",
            "Shape of validation_sad_np : (87, 48, 48, 3)\n",
            "Shape of validation_angry_np : (87, 48, 48, 3)\n",
            "Shape of validation_fear_np : (87, 48, 48, 3)\n",
            "Shape of validation_surprise_np : (87, 48, 48, 3)\n",
            "Shape of validation_neutral_np : (87, 48, 48, 3)\n",
            "Shape of validation_disgust_np : (87, 48, 48, 3)\n"
          ]
        }
      ]
    },
    {
      "cell_type": "code",
      "source": [
        "train_happy_tf = convert_np_array_to_tensor(train_happy_np)\n",
        "train_sad_tf = convert_np_array_to_tensor(train_sad_np)\n",
        "train_angry_tf = convert_np_array_to_tensor(train_angry_np)\n",
        "train_fear_tf = convert_np_array_to_tensor(train_fear_np)\n",
        "train_surprise_tf = convert_np_array_to_tensor(train_surprise_np)\n",
        "train_neutral_tf = convert_np_array_to_tensor(train_neutral_np)\n",
        "train_disgust_tf = convert_np_array_to_tensor(train_disgust_np)"
      ],
      "metadata": {
        "id": "wIErFRc6wxOS"
      },
      "execution_count": 20,
      "outputs": []
    },
    {
      "cell_type": "code",
      "source": [
        "validation_happy_tf = convert_np_array_to_tensor(validation_happy_np)\n",
        "validation_sad_tf = convert_np_array_to_tensor(validation_sad_np)\n",
        "validation_angry_tf = convert_np_array_to_tensor(validation_angry_np)\n",
        "validation_fear_tf = convert_np_array_to_tensor(validation_fear_np)\n",
        "validation_surprise_tf = convert_np_array_to_tensor(validation_surprise_np)\n",
        "validation_neutral_tf = convert_np_array_to_tensor(validation_neutral_np)\n",
        "validation_disgust_tf = convert_np_array_to_tensor(validation_disgust_np)"
      ],
      "metadata": {
        "id": "a0rRimnMwxQv"
      },
      "execution_count": 21,
      "outputs": []
    },
    {
      "cell_type": "code",
      "source": [
        "test_happy_tf = convert_np_array_to_tensor(test_happy_np)\n",
        "test_sad_tf = convert_np_array_to_tensor(test_sad_np)\n",
        "test_angry_tf = convert_np_array_to_tensor(test_angry_np)\n",
        "test_fear_tf = convert_np_array_to_tensor(test_fear_np)\n",
        "test_surprise_tf = convert_np_array_to_tensor(test_surprise_np)\n",
        "test_neutral_tf = convert_np_array_to_tensor(test_neutral_np)\n",
        "test_disgust_tf = convert_np_array_to_tensor(test_disgust_np)"
      ],
      "metadata": {
        "id": "pmQaJA2LwxTl"
      },
      "execution_count": 22,
      "outputs": []
    },
    {
      "cell_type": "code",
      "source": [
        "print(f\"Shape of train_happy_tf : {train_happy_tf.shape}\")\n",
        "print(f\"Shape of train_sad_tf : {train_sad_tf.shape}\")\n",
        "print(f\"Shape of train_angry_tf : {train_angry_tf.shape}\")\n",
        "print(f\"Shape of train_fear_tf : {train_fear_tf.shape}\")\n",
        "print(f\"Shape of train_surprise_tf : {train_surprise_tf.shape}\")\n",
        "print(f\"Shape of train_neutral_tf : {train_neutral_tf.shape}\")\n",
        "print(f\"Shape of train_disgust_tf : {train_disgust_tf.shape}\")"
      ],
      "metadata": {
        "colab": {
          "base_uri": "https://localhost:8080/"
        },
        "id": "zKjWj6fRwxWc",
        "outputId": "a9926a93-1168-4900-becb-2af3349ea7d5"
      },
      "execution_count": 23,
      "outputs": [
        {
          "output_type": "stream",
          "name": "stdout",
          "text": [
            "Shape of train_happy_tf : (350, 48, 48, 3)\n",
            "Shape of train_sad_tf : (350, 48, 48, 3)\n",
            "Shape of train_angry_tf : (350, 48, 48, 3)\n",
            "Shape of train_fear_tf : (350, 48, 48, 3)\n",
            "Shape of train_surprise_tf : (350, 48, 48, 3)\n",
            "Shape of train_neutral_tf : (350, 48, 48, 3)\n",
            "Shape of train_disgust_tf : (350, 48, 48, 3)\n"
          ]
        }
      ]
    },
    {
      "cell_type": "code",
      "source": [
        "print(f\"Shape of test_happy_tf : {test_happy_tf.shape}\")\n",
        "print(f\"Shape of test_sad_tf : {test_sad_tf.shape}\")\n",
        "print(f\"Shape of test_angry_tf : {test_angry_tf.shape}\")\n",
        "print(f\"Shape of test_fear_tf : {test_fear_tf.shape}\")\n",
        "print(f\"Shape of test_surprise_tf : {test_surprise_tf.shape}\")\n",
        "print(f\"Shape of test_neutral_tf : {test_neutral_tf.shape}\")\n",
        "print(f\"Shape of test_disgust_tf : {test_disgust_tf.shape}\")"
      ],
      "metadata": {
        "colab": {
          "base_uri": "https://localhost:8080/"
        },
        "id": "pxrheiXVwxZ1",
        "outputId": "53fcd57e-f021-42ab-f84b-9a181057c86c"
      },
      "execution_count": 24,
      "outputs": [
        {
          "output_type": "stream",
          "name": "stdout",
          "text": [
            "Shape of test_happy_tf : (112, 48, 48, 3)\n",
            "Shape of test_sad_tf : (112, 48, 48, 3)\n",
            "Shape of test_angry_tf : (112, 48, 48, 3)\n",
            "Shape of test_fear_tf : (112, 48, 48, 3)\n",
            "Shape of test_surprise_tf : (112, 48, 48, 3)\n",
            "Shape of test_neutral_tf : (112, 48, 48, 3)\n",
            "Shape of test_disgust_tf : (111, 48, 48, 3)\n"
          ]
        }
      ]
    },
    {
      "cell_type": "code",
      "source": [
        "print(f\"Shape of validation_happy_tf : {validation_happy_tf.shape}\")\n",
        "print(f\"Shape of validation_sad_tf : {validation_sad_tf.shape}\")\n",
        "print(f\"Shape of validation_angry_tf : {validation_angry_tf.shape}\")\n",
        "print(f\"Shape of validation_fear_tf : {validation_fear_tf.shape}\")\n",
        "print(f\"Shape of validation_surprise_tf : {validation_surprise_tf.shape}\")\n",
        "print(f\"Shape of validation_neutral_tf : {validation_neutral_tf.shape}\")\n",
        "print(f\"Shape of validation_disgust_tf : {validation_disgust_tf.shape}\")"
      ],
      "metadata": {
        "colab": {
          "base_uri": "https://localhost:8080/"
        },
        "id": "PkbM28Htwxc-",
        "outputId": "c5f0f2bb-0459-4f62-d1e5-180fbfb5ce66"
      },
      "execution_count": 25,
      "outputs": [
        {
          "output_type": "stream",
          "name": "stdout",
          "text": [
            "Shape of validation_happy_tf : (87, 48, 48, 3)\n",
            "Shape of validation_sad_tf : (87, 48, 48, 3)\n",
            "Shape of validation_angry_tf : (87, 48, 48, 3)\n",
            "Shape of validation_fear_tf : (87, 48, 48, 3)\n",
            "Shape of validation_surprise_tf : (87, 48, 48, 3)\n",
            "Shape of validation_neutral_tf : (87, 48, 48, 3)\n",
            "Shape of validation_disgust_tf : (87, 48, 48, 3)\n"
          ]
        }
      ]
    },
    {
      "cell_type": "code",
      "source": [
        "label_train_happy_np = create_label(array_length = len(train_happy_np), val = label_dict['happy'])\n",
        "label_train_sad_np = create_label(array_length = len(train_sad_np), val = label_dict['sad'])\n",
        "label_train_angry_np = create_label(array_length = len(train_angry_np), val = label_dict['angry'])\n",
        "label_train_fear_np = create_label(array_length = len(train_fear_np), val = label_dict['fear'])\n",
        "label_train_surprise_np = create_label(array_length = len(train_surprise_np), val = label_dict['surprise'])\n",
        "label_train_disgust_np = create_label(array_length = len(train_disgust_np), val = label_dict['disgust'])\n",
        "label_train_neutral_np = create_label(array_length = len(train_neutral_np), val = label_dict['neutral'])"
      ],
      "metadata": {
        "id": "OhtYoBJmwxgE"
      },
      "execution_count": 37,
      "outputs": []
    },
    {
      "cell_type": "code",
      "source": [
        "label_test_happy_np = create_label(array_length = len(test_happy_np), val = label_dict['happy'])\n",
        "label_test_sad_np = create_label(array_length = len(test_sad_np), val = label_dict['sad'])\n",
        "label_test_angry_np = create_label(array_length = len(test_angry_np), val = label_dict['angry'])\n",
        "label_test_fear_np = create_label(array_length = len(test_fear_np), val = label_dict['fear'])\n",
        "label_test_surprise_np = create_label(array_length = len(test_surprise_np), val = label_dict['surprise'])\n",
        "label_test_disgust_np = create_label(array_length = len(test_disgust_np), val = label_dict['disgust'])\n",
        "label_test_neutral_np = create_label(array_length = len(test_neutral_np), val = label_dict['neutral'])"
      ],
      "metadata": {
        "id": "5bK0E_5t1rB0"
      },
      "execution_count": 38,
      "outputs": []
    },
    {
      "cell_type": "code",
      "source": [
        "label_validation_happy_np = create_label(array_length = len(validation_happy_np), val = label_dict['happy'])\n",
        "label_validation_sad_np = create_label(array_length = len(validation_sad_np), val = label_dict['sad'])\n",
        "label_validation_angry_np = create_label(array_length = len(validation_angry_np), val = label_dict['angry'])\n",
        "label_validation_fear_np = create_label(array_length = len(validation_fear_np), val = label_dict['fear'])\n",
        "label_validation_surprise_np = create_label(array_length = len(validation_surprise_np), val = label_dict['surprise'])\n",
        "label_validation_disgust_np = create_label(array_length = len(validation_disgust_np), val = label_dict['disgust'])\n",
        "label_validation_neutral_np = create_label(array_length = len(validation_neutral_np), val = label_dict['neutral'])"
      ],
      "metadata": {
        "id": "Sv1P4dNc1rfN"
      },
      "execution_count": 39,
      "outputs": []
    },
    {
      "cell_type": "code",
      "source": [
        "print(f\"Shape of label_train_happy_np : {label_train_happy_np.shape}\")\n",
        "print(f\"Shape of label_train_sad_np : {label_train_sad_np.shape}\")\n",
        "print(f\"Shape of label_train_angry_np : {label_train_angry_np.shape}\")\n",
        "print(f\"Shape of label_train_fear_np : {label_train_fear_np.shape}\")\n",
        "print(f\"Shape of label_train_surprise_np : {label_train_surprise_np.shape}\")\n",
        "print(f\"Shape of label_train_neutral_np : {label_train_neutral_np.shape}\")\n",
        "print(f\"Shape of label_train_disgust_np : {label_train_disgust_np.shape}\")"
      ],
      "metadata": {
        "colab": {
          "base_uri": "https://localhost:8080/"
        },
        "id": "9Bo-jwZd1rmP",
        "outputId": "6298b2c8-2580-4a3f-c185-5b8934e95e2e"
      },
      "execution_count": 40,
      "outputs": [
        {
          "output_type": "stream",
          "name": "stdout",
          "text": [
            "Shape of label_train_happy_np : (350,)\n",
            "Shape of label_train_sad_np : (350,)\n",
            "Shape of label_train_angry_np : (350,)\n",
            "Shape of label_train_fear_np : (350,)\n",
            "Shape of label_train_surprise_np : (350,)\n",
            "Shape of label_train_neutral_np : (350,)\n",
            "Shape of label_train_disgust_np : (350,)\n"
          ]
        }
      ]
    },
    {
      "cell_type": "code",
      "source": [
        "print(f\"Shape of label_test_happy_np : {label_test_happy_np.shape}\")\n",
        "print(f\"Shape of label_test_sad_np : {label_test_sad_np.shape}\")\n",
        "print(f\"Shape of label_test_angry_np : {label_test_angry_np.shape}\")\n",
        "print(f\"Shape of label_test_fear_np : {label_test_fear_np.shape}\")\n",
        "print(f\"Shape of label_test_surprise_np : {label_test_surprise_np.shape}\")\n",
        "print(f\"Shape of label_test_neutral_np : {label_test_neutral_np.shape}\")\n",
        "print(f\"Shape of label_test_disgust_np : {label_test_disgust_np.shape}\")"
      ],
      "metadata": {
        "colab": {
          "base_uri": "https://localhost:8080/"
        },
        "id": "M85YAN3y1rr9",
        "outputId": "dee72f21-fb84-4737-d5cd-0ec24c279f72"
      },
      "execution_count": 41,
      "outputs": [
        {
          "output_type": "stream",
          "name": "stdout",
          "text": [
            "Shape of label_test_happy_np : (112,)\n",
            "Shape of label_test_sad_np : (112,)\n",
            "Shape of label_test_angry_np : (112,)\n",
            "Shape of label_test_fear_np : (112,)\n",
            "Shape of label_test_surprise_np : (112,)\n",
            "Shape of label_test_neutral_np : (112,)\n",
            "Shape of label_test_disgust_np : (111,)\n"
          ]
        }
      ]
    },
    {
      "cell_type": "code",
      "source": [
        "print(f\"Shape of label_validation_happy_np : {label_validation_happy_np.shape}\")\n",
        "print(f\"Shape of label_validation_sad_np : {label_validation_sad_np.shape}\")\n",
        "print(f\"Shape of label_validation_angry_np : {label_validation_angry_np.shape}\")\n",
        "print(f\"Shape of label_validation_fear_np : {label_validation_fear_np.shape}\")\n",
        "print(f\"Shape of label_validation_surprise_np : {label_validation_surprise_np.shape}\")\n",
        "print(f\"Shape of label_validation_neutral_np : {label_validation_neutral_np.shape}\")\n",
        "print(f\"Shape of label_validation_disgust_np : {label_validation_disgust_np.shape}\")"
      ],
      "metadata": {
        "colab": {
          "base_uri": "https://localhost:8080/"
        },
        "id": "zhWVrpDqwxju",
        "outputId": "11f7b4b3-f5e5-406f-cddf-01ce6b1bc7be"
      },
      "execution_count": 42,
      "outputs": [
        {
          "output_type": "stream",
          "name": "stdout",
          "text": [
            "Shape of label_validation_happy_np : (87,)\n",
            "Shape of label_validation_sad_np : (87,)\n",
            "Shape of label_validation_angry_np : (87,)\n",
            "Shape of label_validation_fear_np : (87,)\n",
            "Shape of label_validation_surprise_np : (87,)\n",
            "Shape of label_validation_neutral_np : (87,)\n",
            "Shape of label_validation_disgust_np : (87,)\n"
          ]
        }
      ]
    },
    {
      "cell_type": "code",
      "source": [
        "train_happy_tf = convert_to_grayscale(train_happy_tf)\n",
        "train_sad_tf = convert_to_grayscale(train_sad_tf)\n",
        "train_angry_tf = convert_to_grayscale(train_angry_tf)\n",
        "train_fear_tf = convert_to_grayscale(train_fear_tf)\n",
        "train_surprise_tf = convert_to_grayscale(train_surprise_tf)\n",
        "train_neutral_tf = convert_to_grayscale(train_neutral_tf)\n",
        "train_disgust_tf = convert_to_grayscale(train_disgust_tf)"
      ],
      "metadata": {
        "id": "Go6qV4Xm3CRH"
      },
      "execution_count": 44,
      "outputs": []
    },
    {
      "cell_type": "code",
      "source": [
        "test_happy_tf = convert_to_grayscale(test_happy_tf)\n",
        "test_sad_tf = convert_to_grayscale(test_sad_tf)\n",
        "test_angry_tf = convert_to_grayscale(test_angry_tf)\n",
        "test_fear_tf = convert_to_grayscale(test_fear_tf)\n",
        "test_surprise_tf = convert_to_grayscale(test_surprise_tf)\n",
        "test_neutral_tf = convert_to_grayscale(test_neutral_tf)\n",
        "test_disgust_tf = convert_to_grayscale(test_disgust_tf)"
      ],
      "metadata": {
        "id": "QzEFryJ_3CUb"
      },
      "execution_count": 45,
      "outputs": []
    },
    {
      "cell_type": "code",
      "source": [
        "validation_happy_tf = convert_to_grayscale(validation_happy_tf)\n",
        "validation_sad_tf = convert_to_grayscale(validation_sad_tf)\n",
        "validation_angry_tf = convert_to_grayscale(validation_angry_tf)\n",
        "validation_fear_tf = convert_to_grayscale(validation_fear_tf)\n",
        "validation_surprise_tf = convert_to_grayscale(validation_surprise_tf)\n",
        "validation_neutral_tf = convert_to_grayscale(validation_neutral_tf)\n",
        "validation_disgust_tf = convert_to_grayscale(validation_disgust_tf)"
      ],
      "metadata": {
        "id": "mNgtQgDN3CXD"
      },
      "execution_count": 46,
      "outputs": []
    },
    {
      "cell_type": "code",
      "source": [
        "total_train = len(train_happy_np) + len(train_sad_np) + len(train_angry_np) + len(train_fear_np) + len(train_disgust_np) + len(train_surprise_np) + len(train_neutral_np)\n",
        "total_validation = len(validation_happy_np) + len(validation_sad_np) + len(validation_angry_np) + len(validation_fear_np) + len(validation_disgust_np) + len(validation_surprise_np) + len(validation_neutral_np)\n",
        "total_test = len(test_happy_np) + len(test_sad_np) + len(test_angry_np) + len(test_fear_np) + len(test_disgust_np) + len(test_surprise_np) + len(test_neutral_np)"
      ],
      "metadata": {
        "id": "IUgLhiFI3CZ5"
      },
      "execution_count": 49,
      "outputs": []
    },
    {
      "cell_type": "code",
      "source": [
        "print(f\"Total train : {total_train}\")\n",
        "print(f\"Total test : {total_test}\")\n",
        "print(f\"Total validation : {total_validation}\")"
      ],
      "metadata": {
        "colab": {
          "base_uri": "https://localhost:8080/"
        },
        "id": "cKS8LGXN3CeE",
        "outputId": "d9403abf-da01-4974-a1e2-a933ea12cb47"
      },
      "execution_count": 50,
      "outputs": [
        {
          "output_type": "stream",
          "name": "stdout",
          "text": [
            "Total train : 2450\n",
            "Total test : 783\n",
            "Total validation : 609\n"
          ]
        }
      ]
    },
    {
      "cell_type": "code",
      "source": [
        "batch_size = 100\n",
        "image_shape = 48"
      ],
      "metadata": {
        "id": "-m55gsnS3CkU"
      },
      "execution_count": 51,
      "outputs": []
    },
    {
      "cell_type": "code",
      "source": [
        "image_gen = ImageDataGenerator(rescale=1./255, horizontal_flip=True)\n",
        "\n",
        "train_data_gen = image_gen.flow_from_directory(batch_size=batch_size,\n",
        "                                               directory=os.path.join(current_working_dir, train_path),\n",
        "                                               shuffle=True,\n",
        "                                               target_size=(image_shape,image_shape))"
      ],
      "metadata": {
        "colab": {
          "base_uri": "https://localhost:8080/"
        },
        "id": "cY8DkV8e3CpB",
        "outputId": "ec8f4f09-6446-4437-dccc-9c5769398734"
      },
      "execution_count": 52,
      "outputs": [
        {
          "output_type": "stream",
          "name": "stdout",
          "text": [
            "Found 2450 images belonging to 7 classes.\n"
          ]
        }
      ]
    },
    {
      "cell_type": "code",
      "source": [
        "def plotImages(images_arr):\n",
        "    fig, axes = plt.subplots(1, 5, figsize=(20,20))\n",
        "    axes = axes.flatten()\n",
        "    for img, ax in zip( images_arr, axes):\n",
        "        ax.imshow(img)\n",
        "    plt.tight_layout()\n",
        "    plt.show()\n",
        "\n",
        "\n",
        "augmented_images = [train_data_gen[0][0][0] for i in range(5)]\n",
        "plotImages(augmented_images)"
      ],
      "metadata": {
        "colab": {
          "base_uri": "https://localhost:8080/",
          "height": 294
        },
        "id": "Fom63UWo3CxD",
        "outputId": "da2b2e78-4281-45d2-a281-105b7d4c98c1"
      },
      "execution_count": 53,
      "outputs": [
        {
          "output_type": "display_data",
          "data": {
            "text/plain": [
              "<Figure size 1440x1440 with 5 Axes>"
            ],
            "image/png": "[encoded data removed]"
          },
          "metadata": {
            "needs_background": "light"
          }
        }
      ]
    },
    {
      "cell_type": "code",
      "source": [
        "image_gen_train = ImageDataGenerator(\n",
        "      rescale=1./255,\n",
        "      rotation_range=45,\n",
        "      width_shift_range=0.15,\n",
        "      height_shift_range=0.15,\n",
        "      #shear_range=0.2,\n",
        "      zoom_range=0.5,\n",
        "      horizontal_flip=False,\n",
        "      fill_mode='nearest')\n",
        "\n",
        "train_data_gen = image_gen_train.flow_from_directory(batch_size=batch_size,\n",
        "                                                     directory=os.path.join(current_working_dir, train_path),\n",
        "                                                     shuffle=True,\n",
        "                                                     target_size=(image_shape,image_shape),\n",
        "                                                     class_mode='sparse')"
      ],
      "metadata": {
        "colab": {
          "base_uri": "https://localhost:8080/"
        },
        "id": "aJyBHt8D6yRq",
        "outputId": "51708944-db1c-42c1-a5a5-053ef527a56b"
      },
      "execution_count": 54,
      "outputs": [
        {
          "output_type": "stream",
          "name": "stdout",
          "text": [
            "Found 2450 images belonging to 7 classes.\n"
          ]
        }
      ]
    },
    {
      "cell_type": "code",
      "source": [
        "augmented_images = [train_data_gen[0][0][0] for i in range(5)]\n",
        "plotImages(augmented_images)"
      ],
      "metadata": {
        "colab": {
          "base_uri": "https://localhost:8080/",
          "height": 294
        },
        "id": "FovGbZxs6yUx",
        "outputId": "e35bdda8-f0dd-4c84-a18f-31141e54a8c3"
      },
      "execution_count": 55,
      "outputs": [
        {
          "output_type": "display_data",
          "data": {
            "text/plain": [
              "<Figure size 1440x1440 with 5 Axes>"
            ],
            "image/png": "[encoded data removed]"
          },
          "metadata": {
            "needs_background": "light"
          }
        }
      ]
    },
    {
      "cell_type": "code",
      "source": [
        "image_gen_val = ImageDataGenerator(rescale=1./255)\n",
        "\n",
        "val_data_gen = image_gen_val.flow_from_directory(batch_size=batch_size,\n",
        "                                                 directory=os.path.join(current_working_dir, validation_path),\n",
        "                                                 target_size=(image_shape, image_shape),\n",
        "                                                 class_mode='sparse')"
      ],
      "metadata": {
        "colab": {
          "base_uri": "https://localhost:8080/"
        },
        "id": "XF4rRm0c6yY8",
        "outputId": "32ecda4d-d561-403d-c94b-9aac5cc0936c"
      },
      "execution_count": 56,
      "outputs": [
        {
          "output_type": "stream",
          "name": "stdout",
          "text": [
            "Found 609 images belonging to 7 classes.\n"
          ]
        }
      ]
    },
    {
      "cell_type": "code",
      "source": [
        "model1 = tf.keras.models.Sequential([\n",
        "    tf.keras.layers.Conv2D(16, (3,3), padding='same', activation='relu', input_shape=(image_shape, image_shape, 3)),\n",
        "    tf.keras.layers.MaxPooling2D(2, 2),\n",
        "\n",
        "    tf.keras.layers.Conv2D(32, (3,3), padding='same', activation='relu'),\n",
        "    tf.keras.layers.MaxPooling2D(2,2),\n",
        "\n",
        "    tf.keras.layers.Conv2D(64, (3,3), padding='same', activation='relu'),\n",
        "    tf.keras.layers.MaxPooling2D(2,2),\n",
        "\n",
        "    tf.keras.layers.Flatten(),\n",
        "    tf.keras.layers.Dropout(0.2),\n",
        "    tf.keras.layers.Dense(512, activation='relu'),\n",
        "    tf.keras.layers.Dropout(0.2),\n",
        "    tf.keras.layers.Dense(7)\n",
        "])"
      ],
      "metadata": {
        "id": "SdUVmykX6ycB"
      },
      "execution_count": 64,
      "outputs": []
    },
    {
      "cell_type": "code",
      "source": [
        "model1.compile(optimizer='adam',\n",
        "              loss=tf.keras.losses.SparseCategoricalCrossentropy(from_logits=True),\n",
        "              metrics=['accuracy'])"
      ],
      "metadata": {
        "id": "gdGEWeA36yfL"
      },
      "execution_count": 65,
      "outputs": []
    },
    {
      "cell_type": "code",
      "source": [
        "model1.summary()"
      ],
      "metadata": {
        "colab": {
          "base_uri": "https://localhost:8080/"
        },
        "id": "duJvhNA16yiS",
        "outputId": "69d4b66e-0789-476e-ff9d-b78dec517198"
      },
      "execution_count": 66,
      "outputs": [
        {
          "output_type": "stream",
          "name": "stdout",
          "text": [
            "Model: \"sequential_2\"\n",
            "_________________________________________________________________\n",
            " Layer (type)                Output Shape              Param #   \n",
            "=================================================================\n",
            " conv2d_6 (Conv2D)           (None, 48, 48, 16)        448       \n",
            "                                                                 \n",
            " max_pooling2d_6 (MaxPooling  (None, 24, 24, 16)       0         \n",
            " 2D)                                                             \n",
            "                                                                 \n",
            " conv2d_7 (Conv2D)           (None, 24, 24, 32)        4640      \n",
            "                                                                 \n",
            " max_pooling2d_7 (MaxPooling  (None, 12, 12, 32)       0         \n",
            " 2D)                                                             \n",
            "                                                                 \n",
            " conv2d_8 (Conv2D)           (None, 12, 12, 64)        18496     \n",
            "                                                                 \n",
            " max_pooling2d_8 (MaxPooling  (None, 6, 6, 64)         0         \n",
            " 2D)                                                             \n",
            "                                                                 \n",
            " flatten_2 (Flatten)         (None, 2304)              0         \n",
            "                                                                 \n",
            " dropout_4 (Dropout)         (None, 2304)              0         \n",
            "                                                                 \n",
            " dense_4 (Dense)             (None, 512)               1180160   \n",
            "                                                                 \n",
            " dropout_5 (Dropout)         (None, 512)               0         \n",
            "                                                                 \n",
            " dense_5 (Dense)             (None, 7)                 3591      \n",
            "                                                                 \n",
            "=================================================================\n",
            "Total params: 1,207,335\n",
            "Trainable params: 1,207,335\n",
            "Non-trainable params: 0\n",
            "_________________________________________________________________\n"
          ]
        }
      ]
    },
    {
      "cell_type": "code",
      "source": [
        "epochs=80\n",
        "history1 = model1.fit_generator(\n",
        "    train_data_gen,\n",
        "    steps_per_epoch=int(np.ceil(total_train / float(batch_size))),\n",
        "    epochs=epochs,\n",
        "    validation_data=val_data_gen,\n",
        "    validation_steps=int(np.ceil(total_validation / float(batch_size)))\n",
        ")"
      ],
      "metadata": {
        "colab": {
          "base_uri": "https://localhost:8080/"
        },
        "id": "qQpItDXY3C0u",
        "outputId": "515894a9-9539-4f60-ba06-8f4515eeb261"
      },
      "execution_count": 68,
      "outputs": [
        {
          "output_type": "stream",
          "name": "stderr",
          "text": [
            "/usr/local/lib/python3.7/dist-packages/ipykernel_launcher.py:7: UserWarning: `Model.fit_generator` is deprecated and will be removed in a future version. Please use `Model.fit`, which supports generators.\n",
            "  import sys\n"
          ]
        },
        {
          "output_type": "stream",
          "name": "stdout",
          "text": [
            "Epoch 1/80\n",
            "25/25 [==============================] - 18s 722ms/step - loss: 1.9270 - accuracy: 0.1845 - val_loss: 1.9186 - val_accuracy: 0.1905\n",
            "Epoch 2/80\n",
            "25/25 [==============================] - 19s 768ms/step - loss: 1.9156 - accuracy: 0.1939 - val_loss: 1.8899 - val_accuracy: 0.2299\n",
            "Epoch 3/80\n",
            "25/25 [==============================] - 14s 541ms/step - loss: 1.9092 - accuracy: 0.2016 - val_loss: 1.8845 - val_accuracy: 0.2282\n",
            "Epoch 4/80\n",
            "25/25 [==============================] - 13s 535ms/step - loss: 1.8998 - accuracy: 0.2008 - val_loss: 1.8633 - val_accuracy: 0.2430\n",
            "Epoch 5/80\n",
            "25/25 [==============================] - 13s 522ms/step - loss: 1.8828 - accuracy: 0.2322 - val_loss: 1.8610 - val_accuracy: 0.2562\n",
            "Epoch 6/80\n",
            "25/25 [==============================] - 13s 533ms/step - loss: 1.8784 - accuracy: 0.2192 - val_loss: 1.8537 - val_accuracy: 0.2479\n",
            "Epoch 7/80\n",
            "25/25 [==============================] - 13s 529ms/step - loss: 1.8736 - accuracy: 0.2380 - val_loss: 1.8446 - val_accuracy: 0.2972\n",
            "Epoch 8/80\n",
            "25/25 [==============================] - 13s 525ms/step - loss: 1.8666 - accuracy: 0.2420 - val_loss: 1.8396 - val_accuracy: 0.2644\n",
            "Epoch 9/80\n",
            "25/25 [==============================] - 14s 542ms/step - loss: 1.8738 - accuracy: 0.2273 - val_loss: 1.8439 - val_accuracy: 0.2693\n",
            "Epoch 10/80\n",
            "25/25 [==============================] - 13s 532ms/step - loss: 1.8702 - accuracy: 0.2424 - val_loss: 1.8184 - val_accuracy: 0.2890\n",
            "Epoch 11/80\n",
            "25/25 [==============================] - 13s 531ms/step - loss: 1.8555 - accuracy: 0.2555 - val_loss: 1.8073 - val_accuracy: 0.3005\n",
            "Epoch 12/80\n",
            "25/25 [==============================] - 13s 518ms/step - loss: 1.8655 - accuracy: 0.2347 - val_loss: 1.8529 - val_accuracy: 0.2627\n",
            "Epoch 13/80\n",
            "25/25 [==============================] - 14s 562ms/step - loss: 1.8637 - accuracy: 0.2457 - val_loss: 1.8247 - val_accuracy: 0.2677\n",
            "Epoch 14/80\n",
            "25/25 [==============================] - 13s 540ms/step - loss: 1.8431 - accuracy: 0.2563 - val_loss: 1.7991 - val_accuracy: 0.2956\n",
            "Epoch 15/80\n",
            "25/25 [==============================] - 13s 522ms/step - loss: 1.8441 - accuracy: 0.2522 - val_loss: 1.8009 - val_accuracy: 0.2742\n",
            "Epoch 16/80\n",
            "25/25 [==============================] - 13s 527ms/step - loss: 1.8347 - accuracy: 0.2608 - val_loss: 1.7975 - val_accuracy: 0.2972\n",
            "Epoch 17/80\n",
            "25/25 [==============================] - 13s 521ms/step - loss: 1.8431 - accuracy: 0.2567 - val_loss: 1.7989 - val_accuracy: 0.2791\n",
            "Epoch 18/80\n",
            "25/25 [==============================] - 14s 534ms/step - loss: 1.8384 - accuracy: 0.2563 - val_loss: 1.7578 - val_accuracy: 0.3153\n",
            "Epoch 19/80\n",
            "25/25 [==============================] - 14s 535ms/step - loss: 1.8329 - accuracy: 0.2669 - val_loss: 1.7671 - val_accuracy: 0.2923\n",
            "Epoch 20/80\n",
            "25/25 [==============================] - 13s 525ms/step - loss: 1.8346 - accuracy: 0.2629 - val_loss: 1.7379 - val_accuracy: 0.3498\n",
            "Epoch 21/80\n",
            "25/25 [==============================] - 14s 555ms/step - loss: 1.8369 - accuracy: 0.2584 - val_loss: 1.7427 - val_accuracy: 0.3120\n",
            "Epoch 22/80\n",
            "25/25 [==============================] - 14s 544ms/step - loss: 1.8230 - accuracy: 0.2633 - val_loss: 1.7308 - val_accuracy: 0.3218\n",
            "Epoch 23/80\n",
            "25/25 [==============================] - 13s 516ms/step - loss: 1.8264 - accuracy: 0.2649 - val_loss: 1.7309 - val_accuracy: 0.3153\n",
            "Epoch 24/80\n",
            "25/25 [==============================] - 14s 542ms/step - loss: 1.8097 - accuracy: 0.2718 - val_loss: 1.7328 - val_accuracy: 0.3136\n",
            "Epoch 25/80\n",
            "25/25 [==============================] - 14s 556ms/step - loss: 1.8033 - accuracy: 0.2792 - val_loss: 1.7201 - val_accuracy: 0.3251\n",
            "Epoch 26/80\n",
            "25/25 [==============================] - 14s 553ms/step - loss: 1.8153 - accuracy: 0.2804 - val_loss: 1.7325 - val_accuracy: 0.3218\n",
            "Epoch 27/80\n",
            "25/25 [==============================] - 14s 539ms/step - loss: 1.8075 - accuracy: 0.2747 - val_loss: 1.6999 - val_accuracy: 0.3629\n",
            "Epoch 28/80\n",
            "25/25 [==============================] - 13s 519ms/step - loss: 1.8041 - accuracy: 0.2812 - val_loss: 1.6805 - val_accuracy: 0.3498\n",
            "Epoch 29/80\n",
            "25/25 [==============================] - 14s 564ms/step - loss: 1.7893 - accuracy: 0.2890 - val_loss: 1.6555 - val_accuracy: 0.3596\n",
            "Epoch 30/80\n",
            "25/25 [==============================] - 13s 528ms/step - loss: 1.7978 - accuracy: 0.2886 - val_loss: 1.6386 - val_accuracy: 0.3662\n",
            "Epoch 31/80\n",
            "25/25 [==============================] - 13s 524ms/step - loss: 1.7911 - accuracy: 0.2890 - val_loss: 1.6671 - val_accuracy: 0.3563\n",
            "Epoch 32/80\n",
            "25/25 [==============================] - 14s 536ms/step - loss: 1.7943 - accuracy: 0.2918 - val_loss: 1.6434 - val_accuracy: 0.3711\n",
            "Epoch 33/80\n",
            "25/25 [==============================] - 14s 548ms/step - loss: 1.7825 - accuracy: 0.2861 - val_loss: 1.6952 - val_accuracy: 0.3366\n",
            "Epoch 34/80\n",
            "25/25 [==============================] - 14s 541ms/step - loss: 1.7728 - accuracy: 0.2935 - val_loss: 1.6355 - val_accuracy: 0.3448\n",
            "Epoch 35/80\n",
            "25/25 [==============================] - 14s 548ms/step - loss: 1.7662 - accuracy: 0.2984 - val_loss: 1.6509 - val_accuracy: 0.3514\n",
            "Epoch 36/80\n",
            "25/25 [==============================] - 14s 540ms/step - loss: 1.7673 - accuracy: 0.3151 - val_loss: 1.6359 - val_accuracy: 0.3596\n",
            "Epoch 37/80\n",
            "25/25 [==============================] - 13s 519ms/step - loss: 1.7484 - accuracy: 0.3110 - val_loss: 1.5988 - val_accuracy: 0.3908\n",
            "Epoch 38/80\n",
            "25/25 [==============================] - 13s 533ms/step - loss: 1.7584 - accuracy: 0.3037 - val_loss: 1.5760 - val_accuracy: 0.3645\n",
            "Epoch 39/80\n",
            "25/25 [==============================] - 13s 524ms/step - loss: 1.7363 - accuracy: 0.3245 - val_loss: 1.6055 - val_accuracy: 0.3727\n",
            "Epoch 40/80\n",
            "25/25 [==============================] - 13s 517ms/step - loss: 1.7497 - accuracy: 0.3041 - val_loss: 1.5854 - val_accuracy: 0.3892\n",
            "Epoch 41/80\n",
            "25/25 [==============================] - 14s 541ms/step - loss: 1.7578 - accuracy: 0.3102 - val_loss: 1.5821 - val_accuracy: 0.3908\n",
            "Epoch 42/80\n",
            "25/25 [==============================] - 14s 536ms/step - loss: 1.7363 - accuracy: 0.3184 - val_loss: 1.5553 - val_accuracy: 0.4171\n",
            "Epoch 43/80\n",
            "25/25 [==============================] - 13s 522ms/step - loss: 1.7297 - accuracy: 0.3204 - val_loss: 1.5300 - val_accuracy: 0.4007\n",
            "Epoch 44/80\n",
            "25/25 [==============================] - 14s 539ms/step - loss: 1.7313 - accuracy: 0.3155 - val_loss: 1.5594 - val_accuracy: 0.3974\n",
            "Epoch 45/80\n",
            "25/25 [==============================] - 14s 555ms/step - loss: 1.7329 - accuracy: 0.3204 - val_loss: 1.5238 - val_accuracy: 0.4220\n",
            "Epoch 46/80\n",
            "25/25 [==============================] - 13s 531ms/step - loss: 1.7330 - accuracy: 0.3159 - val_loss: 1.5570 - val_accuracy: 0.3859\n",
            "Epoch 47/80\n",
            "25/25 [==============================] - 14s 557ms/step - loss: 1.7258 - accuracy: 0.3278 - val_loss: 1.5350 - val_accuracy: 0.4007\n",
            "Epoch 48/80\n",
            "25/25 [==============================] - 14s 540ms/step - loss: 1.7281 - accuracy: 0.3147 - val_loss: 1.5195 - val_accuracy: 0.4023\n",
            "Epoch 49/80\n",
            "25/25 [==============================] - 14s 535ms/step - loss: 1.7079 - accuracy: 0.3322 - val_loss: 1.4736 - val_accuracy: 0.4269\n",
            "Epoch 50/80\n",
            "25/25 [==============================] - 14s 540ms/step - loss: 1.7193 - accuracy: 0.3286 - val_loss: 1.4645 - val_accuracy: 0.4466\n",
            "Epoch 51/80\n",
            "25/25 [==============================] - 13s 533ms/step - loss: 1.6978 - accuracy: 0.3482 - val_loss: 1.4931 - val_accuracy: 0.4154\n",
            "Epoch 52/80\n",
            "25/25 [==============================] - 13s 528ms/step - loss: 1.7094 - accuracy: 0.3216 - val_loss: 1.5043 - val_accuracy: 0.4236\n",
            "Epoch 53/80\n",
            "25/25 [==============================] - 13s 532ms/step - loss: 1.6969 - accuracy: 0.3343 - val_loss: 1.4795 - val_accuracy: 0.4122\n",
            "Epoch 54/80\n",
            "25/25 [==============================] - 14s 542ms/step - loss: 1.7020 - accuracy: 0.3273 - val_loss: 1.4910 - val_accuracy: 0.4204\n",
            "Epoch 55/80\n",
            "25/25 [==============================] - 13s 527ms/step - loss: 1.7068 - accuracy: 0.3306 - val_loss: 1.5053 - val_accuracy: 0.4302\n",
            "Epoch 56/80\n",
            "25/25 [==============================] - 13s 526ms/step - loss: 1.6632 - accuracy: 0.3518 - val_loss: 1.4566 - val_accuracy: 0.4466\n",
            "Epoch 57/80\n",
            "25/25 [==============================] - 13s 512ms/step - loss: 1.7064 - accuracy: 0.3233 - val_loss: 1.4960 - val_accuracy: 0.4286\n",
            "Epoch 58/80\n",
            "25/25 [==============================] - 13s 521ms/step - loss: 1.6824 - accuracy: 0.3486 - val_loss: 1.4561 - val_accuracy: 0.4516\n",
            "Epoch 59/80\n",
            "25/25 [==============================] - 14s 561ms/step - loss: 1.6730 - accuracy: 0.3555 - val_loss: 1.4760 - val_accuracy: 0.4089\n",
            "Epoch 60/80\n",
            "25/25 [==============================] - 14s 542ms/step - loss: 1.6715 - accuracy: 0.3335 - val_loss: 1.4425 - val_accuracy: 0.4532\n",
            "Epoch 61/80\n",
            "25/25 [==============================] - 14s 548ms/step - loss: 1.6681 - accuracy: 0.3420 - val_loss: 1.3815 - val_accuracy: 0.5025\n",
            "Epoch 62/80\n",
            "25/25 [==============================] - 14s 539ms/step - loss: 1.6670 - accuracy: 0.3478 - val_loss: 1.4640 - val_accuracy: 0.4286\n",
            "Epoch 63/80\n",
            "25/25 [==============================] - 14s 549ms/step - loss: 1.6569 - accuracy: 0.3494 - val_loss: 1.4126 - val_accuracy: 0.4401\n",
            "Epoch 64/80\n",
            "25/25 [==============================] - 13s 536ms/step - loss: 1.6636 - accuracy: 0.3588 - val_loss: 1.4183 - val_accuracy: 0.4663\n",
            "Epoch 65/80\n",
            "25/25 [==============================] - 13s 530ms/step - loss: 1.6470 - accuracy: 0.3584 - val_loss: 1.3540 - val_accuracy: 0.5057\n",
            "Epoch 66/80\n",
            "25/25 [==============================] - 14s 549ms/step - loss: 1.6481 - accuracy: 0.3592 - val_loss: 1.3883 - val_accuracy: 0.4943\n",
            "Epoch 67/80\n",
            "25/25 [==============================] - 13s 519ms/step - loss: 1.6448 - accuracy: 0.3518 - val_loss: 1.4946 - val_accuracy: 0.4154\n",
            "Epoch 68/80\n",
            "25/25 [==============================] - 13s 521ms/step - loss: 1.6456 - accuracy: 0.3629 - val_loss: 1.3354 - val_accuracy: 0.5090\n",
            "Epoch 69/80\n",
            "25/25 [==============================] - 14s 545ms/step - loss: 1.6321 - accuracy: 0.3690 - val_loss: 1.3430 - val_accuracy: 0.5041\n",
            "Epoch 70/80\n",
            "25/25 [==============================] - 14s 534ms/step - loss: 1.6077 - accuracy: 0.3678 - val_loss: 1.3291 - val_accuracy: 0.4992\n",
            "Epoch 71/80\n",
            "25/25 [==============================] - 13s 519ms/step - loss: 1.6103 - accuracy: 0.3820 - val_loss: 1.3021 - val_accuracy: 0.5599\n",
            "Epoch 72/80\n",
            "25/25 [==============================] - 13s 502ms/step - loss: 1.6104 - accuracy: 0.3841 - val_loss: 1.3435 - val_accuracy: 0.5041\n",
            "Epoch 73/80\n",
            "25/25 [==============================] - 13s 521ms/step - loss: 1.6209 - accuracy: 0.3751 - val_loss: 1.3431 - val_accuracy: 0.5090\n",
            "Epoch 74/80\n",
            "25/25 [==============================] - 14s 548ms/step - loss: 1.6133 - accuracy: 0.3812 - val_loss: 1.3550 - val_accuracy: 0.5156\n",
            "Epoch 75/80\n",
            "25/25 [==============================] - 13s 525ms/step - loss: 1.6072 - accuracy: 0.3767 - val_loss: 1.3840 - val_accuracy: 0.4762\n",
            "Epoch 76/80\n",
            "25/25 [==============================] - 13s 530ms/step - loss: 1.6063 - accuracy: 0.3788 - val_loss: 1.2981 - val_accuracy: 0.5271\n",
            "Epoch 77/80\n",
            "25/25 [==============================] - 14s 542ms/step - loss: 1.5907 - accuracy: 0.3935 - val_loss: 1.2909 - val_accuracy: 0.5271\n",
            "Epoch 78/80\n",
            "25/25 [==============================] - 14s 543ms/step - loss: 1.6051 - accuracy: 0.3927 - val_loss: 1.3066 - val_accuracy: 0.5386\n",
            "Epoch 79/80\n",
            "25/25 [==============================] - 13s 525ms/step - loss: 1.5895 - accuracy: 0.3861 - val_loss: 1.2759 - val_accuracy: 0.5468\n",
            "Epoch 80/80\n",
            "25/25 [==============================] - 13s 539ms/step - loss: 1.6057 - accuracy: 0.3882 - val_loss: 1.2618 - val_accuracy: 0.5304\n"
          ]
        }
      ]
    },
    {
      "cell_type": "code",
      "source": [
        "acc_1 = history1.history['accuracy']\n",
        "val_acc_1 = history1.history['val_accuracy']\n",
        "\n",
        "loss_1 = history1.history['loss']\n",
        "val_loss_1 = history1.history['val_loss']\n",
        "\n",
        "epochs_range = range(epochs)\n",
        "\n",
        "plt.figure(figsize=(8, 8))\n",
        "plt.subplot(1, 2, 1)\n",
        "plt.plot(epochs_range, acc_1, label='Training Accuracy')\n",
        "plt.plot(epochs_range, val_acc_1, label='Validation Accuracy')\n",
        "plt.legend(loc='lower right')\n",
        "plt.title('Training and Validation Accuracy')\n",
        "\n",
        "plt.subplot(1, 2, 2)\n",
        "plt.plot(epochs_range, loss_1, label='Training Loss')\n",
        "plt.plot(epochs_range, val_loss_1, label='Validation Loss')\n",
        "plt.legend(loc='upper right')\n",
        "plt.title('Training and Validation Loss')\n",
        "plt.show()"
      ],
      "metadata": {
        "colab": {
          "base_uri": "https://localhost:8080/",
          "height": 499
        },
        "id": "PQfm8wmz7927",
        "outputId": "96e557e1-7523-4e46-edce-2ae6df4e409f"
      },
      "execution_count": 69,
      "outputs": [
        {
          "output_type": "display_data",
          "data": {
            "text/plain": [
              "<Figure size 576x576 with 2 Axes>"
            ],
            "image/png": "[encoded data removed]"
          },
          "metadata": {
            "needs_background": "light"
          }
        }
      ]
    },
    {
      "cell_type": "code",
      "source": [
        "image_gen_train = ImageDataGenerator(\n",
        "      rescale=1./255,\n",
        "      rotation_range=180,\n",
        "      width_shift_range=0.10,\n",
        "      height_shift_range=0.10,\n",
        "      #shear_range=0.2,\n",
        "      zoom_range=0.5,\n",
        "      horizontal_flip=False,\n",
        "      vertical_flip=True,\n",
        "      fill_mode='nearest')\n",
        "\n",
        "train_data_gen = image_gen_train.flow_from_directory(batch_size=batch_size,\n",
        "                                                     directory=os.path.join(current_working_dir, train_path),\n",
        "                                                     shuffle=True,\n",
        "                                                     target_size=(image_shape,image_shape),\n",
        "                                                     class_mode='sparse')\n",
        "\n",
        "image_gen_val = ImageDataGenerator(rescale=1./255)\n",
        "\n",
        "val_data_gen = image_gen_val.flow_from_directory(batch_size=batch_size,\n",
        "                                                 directory=os.path.join(current_working_dir, validation_path),\n",
        "                                                 target_size=(image_shape, image_shape),\n",
        "                                                 class_mode='sparse')\n",
        "\n",
        "model2 = tf.keras.models.Sequential([\n",
        "    tf.keras.layers.Conv2D(16, (3,3), padding='same', activation='relu', input_shape=(image_shape, image_shape, 3)),\n",
        "    tf.keras.layers.Conv2D(16, (3,3), padding='same', activation='relu'),\n",
        "    tf.keras.layers.MaxPooling2D(2, 2),\n",
        "\n",
        "    tf.keras.layers.Conv2D(32, (3,3), padding='same', activation='relu'),\n",
        "    tf.keras.layers.Conv2D(32, (3,3), padding='same', activation='relu'),\n",
        "    tf.keras.layers.MaxPooling2D(2,2),\n",
        "\n",
        "    tf.keras.layers.Conv2D(64, (3,3), padding='same', activation='relu'),\n",
        "    tf.keras.layers.Conv2D(64, (3,3), padding='same', activation='relu'),\n",
        "    tf.keras.layers.MaxPooling2D(2,2),\n",
        "\n",
        "    tf.keras.layers.Conv2D(128, (3,3), padding='same', activation='relu'),\n",
        "    tf.keras.layers.Conv2D(128, (3,3), padding='same', activation='relu'),\n",
        "    tf.keras.layers.MaxPooling2D(2,2),\n",
        "\n",
        "    tf.keras.layers.Flatten(),\n",
        "    tf.keras.layers.Dense(256, activation=tf.nn.relu),\n",
        "    tf.keras.layers.Dropout(0.2),\n",
        "    \n",
        "    tf.keras.layers.Dense(7)\n",
        "])\n",
        "model2.summary()\n",
        "model2.compile(optimizer='adam',\n",
        "              loss=tf.keras.losses.SparseCategoricalCrossentropy(from_logits=True),\n",
        "              metrics=['accuracy'])\n",
        "epochs=80\n",
        "history2 = model2.fit_generator(\n",
        "    train_data_gen,\n",
        "    steps_per_epoch=int(np.ceil(total_train / float(batch_size))),\n",
        "    epochs=epochs,\n",
        "    validation_data=val_data_gen,\n",
        "    validation_steps=int(np.ceil(total_validation / float(batch_size)))\n",
        ")"
      ],
      "metadata": {
        "colab": {
          "base_uri": "https://localhost:8080/"
        },
        "id": "jluKgys2FGaG",
        "outputId": "66707b97-3087-4d28-cff7-2cc83217ef3d"
      },
      "execution_count": 73,
      "outputs": [
        {
          "output_type": "stream",
          "name": "stdout",
          "text": [
            "Found 2450 images belonging to 7 classes.\n",
            "Found 609 images belonging to 7 classes.\n",
            "Model: \"sequential_5\"\n",
            "_________________________________________________________________\n",
            " Layer (type)                Output Shape              Param #   \n",
            "=================================================================\n",
            " conv2d_25 (Conv2D)          (None, 48, 48, 16)        448       \n",
            "                                                                 \n",
            " conv2d_26 (Conv2D)          (None, 48, 48, 16)        2320      \n",
            "                                                                 \n",
            " max_pooling2d_17 (MaxPoolin  (None, 24, 24, 16)       0         \n",
            " g2D)                                                            \n",
            "                                                                 \n",
            " conv2d_27 (Conv2D)          (None, 24, 24, 32)        4640      \n",
            "                                                                 \n",
            " conv2d_28 (Conv2D)          (None, 24, 24, 32)        9248      \n",
            "                                                                 \n",
            " max_pooling2d_18 (MaxPoolin  (None, 12, 12, 32)       0         \n",
            " g2D)                                                            \n",
            "                                                                 \n",
            " conv2d_29 (Conv2D)          (None, 12, 12, 64)        18496     \n",
            "                                                                 \n",
            " conv2d_30 (Conv2D)          (None, 12, 12, 64)        36928     \n",
            "                                                                 \n",
            " max_pooling2d_19 (MaxPoolin  (None, 6, 6, 64)         0         \n",
            " g2D)                                                            \n",
            "                                                                 \n",
            " conv2d_31 (Conv2D)          (None, 6, 6, 128)         73856     \n",
            "                                                                 \n",
            " conv2d_32 (Conv2D)          (None, 6, 6, 128)         147584    \n",
            "                                                                 \n",
            " max_pooling2d_20 (MaxPoolin  (None, 3, 3, 128)        0         \n",
            " g2D)                                                            \n",
            "                                                                 \n",
            " flatten_5 (Flatten)         (None, 1152)              0         \n",
            "                                                                 \n",
            " dense_12 (Dense)            (None, 256)               295168    \n",
            "                                                                 \n",
            " dropout_9 (Dropout)         (None, 256)               0         \n",
            "                                                                 \n",
            " dense_13 (Dense)            (None, 7)                 1799      \n",
            "                                                                 \n",
            "=================================================================\n",
            "Total params: 590,487\n",
            "Trainable params: 590,487\n",
            "Non-trainable params: 0\n",
            "_________________________________________________________________\n"
          ]
        },
        {
          "output_type": "stream",
          "name": "stderr",
          "text": [
            "/usr/local/lib/python3.7/dist-packages/ipykernel_launcher.py:58: UserWarning: `Model.fit_generator` is deprecated and will be removed in a future version. Please use `Model.fit`, which supports generators.\n"
          ]
        },
        {
          "output_type": "stream",
          "name": "stdout",
          "text": [
            "Epoch 1/80\n",
            "25/25 [==============================] - 28s 1s/step - loss: 1.9466 - accuracy: 0.1359 - val_loss: 1.9457 - val_accuracy: 0.1429\n",
            "Epoch 2/80\n",
            "25/25 [==============================] - 26s 1s/step - loss: 1.9461 - accuracy: 0.1371 - val_loss: 1.9432 - val_accuracy: 0.1478\n",
            "Epoch 3/80\n",
            "25/25 [==============================] - 26s 1s/step - loss: 1.9421 - accuracy: 0.1592 - val_loss: 1.9361 - val_accuracy: 0.1954\n",
            "Epoch 4/80\n",
            "25/25 [==============================] - 26s 1s/step - loss: 1.9393 - accuracy: 0.1527 - val_loss: 1.9256 - val_accuracy: 0.1938\n",
            "Epoch 5/80\n",
            "25/25 [==============================] - 26s 1s/step - loss: 1.9308 - accuracy: 0.1600 - val_loss: 1.9346 - val_accuracy: 0.1642\n",
            "Epoch 6/80\n",
            "25/25 [==============================] - 26s 1s/step - loss: 1.9257 - accuracy: 0.1845 - val_loss: 1.9231 - val_accuracy: 0.1823\n",
            "Epoch 7/80\n",
            "25/25 [==============================] - 26s 1s/step - loss: 1.9281 - accuracy: 0.1673 - val_loss: 1.9290 - val_accuracy: 0.1970\n",
            "Epoch 8/80\n",
            "25/25 [==============================] - 31s 1s/step - loss: 1.9230 - accuracy: 0.1820 - val_loss: 1.9242 - val_accuracy: 0.1839\n",
            "Epoch 9/80\n",
            "25/25 [==============================] - 31s 1s/step - loss: 1.9258 - accuracy: 0.1816 - val_loss: 1.9285 - val_accuracy: 0.1806\n",
            "Epoch 10/80\n",
            "25/25 [==============================] - 32s 1s/step - loss: 1.9309 - accuracy: 0.1731 - val_loss: 1.9218 - val_accuracy: 0.1773\n",
            "Epoch 11/80\n",
            "25/25 [==============================] - 39s 2s/step - loss: 1.9213 - accuracy: 0.1796 - val_loss: 1.9149 - val_accuracy: 0.1741\n",
            "Epoch 12/80\n",
            "25/25 [==============================] - 26s 1s/step - loss: 1.9327 - accuracy: 0.1698 - val_loss: 1.9319 - val_accuracy: 0.1938\n",
            "Epoch 13/80\n",
            "25/25 [==============================] - 26s 1s/step - loss: 1.9255 - accuracy: 0.1710 - val_loss: 1.9237 - val_accuracy: 0.1872\n",
            "Epoch 14/80\n",
            "25/25 [==============================] - 26s 1s/step - loss: 1.9195 - accuracy: 0.1771 - val_loss: 1.9249 - val_accuracy: 0.1773\n",
            "Epoch 15/80\n",
            "25/25 [==============================] - 28s 1s/step - loss: 1.9199 - accuracy: 0.1939 - val_loss: 1.9268 - val_accuracy: 0.1856\n",
            "Epoch 16/80\n",
            "25/25 [==============================] - 29s 1s/step - loss: 1.9209 - accuracy: 0.1865 - val_loss: 1.9201 - val_accuracy: 0.1823\n",
            "Epoch 17/80\n",
            "25/25 [==============================] - 29s 1s/step - loss: 1.9204 - accuracy: 0.1714 - val_loss: 1.9197 - val_accuracy: 0.1708\n",
            "Epoch 18/80\n",
            "25/25 [==============================] - 26s 1s/step - loss: 1.9244 - accuracy: 0.1727 - val_loss: 1.9247 - val_accuracy: 0.1773\n",
            "Epoch 19/80\n",
            "25/25 [==============================] - 25s 1s/step - loss: 1.9228 - accuracy: 0.1906 - val_loss: 1.9159 - val_accuracy: 0.1905\n",
            "Epoch 20/80\n",
            "25/25 [==============================] - 27s 1s/step - loss: 1.9213 - accuracy: 0.1776 - val_loss: 1.9214 - val_accuracy: 0.1724\n",
            "Epoch 21/80\n",
            "25/25 [==============================] - 26s 1s/step - loss: 1.9130 - accuracy: 0.1898 - val_loss: 1.9187 - val_accuracy: 0.1626\n",
            "Epoch 22/80\n",
            "25/25 [==============================] - 25s 1s/step - loss: 1.9165 - accuracy: 0.1882 - val_loss: 1.9174 - val_accuracy: 0.1806\n",
            "Epoch 23/80\n",
            "25/25 [==============================] - 31s 1s/step - loss: 1.9164 - accuracy: 0.1922 - val_loss: 1.9180 - val_accuracy: 0.1970\n",
            "Epoch 24/80\n",
            "25/25 [==============================] - 27s 1s/step - loss: 1.9141 - accuracy: 0.1976 - val_loss: 1.9155 - val_accuracy: 0.1806\n",
            "Epoch 25/80\n",
            "25/25 [==============================] - 26s 1s/step - loss: 1.9172 - accuracy: 0.1939 - val_loss: 1.9183 - val_accuracy: 0.1806\n",
            "Epoch 26/80\n",
            "25/25 [==============================] - 26s 1s/step - loss: 1.9221 - accuracy: 0.1894 - val_loss: 1.9154 - val_accuracy: 0.2085\n",
            "Epoch 27/80\n",
            "25/25 [==============================] - 26s 1s/step - loss: 1.9166 - accuracy: 0.1853 - val_loss: 1.9153 - val_accuracy: 0.1773\n",
            "Epoch 28/80\n",
            "25/25 [==============================] - 26s 1s/step - loss: 1.9182 - accuracy: 0.1873 - val_loss: 1.9155 - val_accuracy: 0.1823\n",
            "Epoch 29/80\n",
            "25/25 [==============================] - 26s 1s/step - loss: 1.9127 - accuracy: 0.1922 - val_loss: 1.9084 - val_accuracy: 0.1954\n",
            "Epoch 30/80\n",
            "25/25 [==============================] - 26s 1s/step - loss: 1.9114 - accuracy: 0.1943 - val_loss: 1.9305 - val_accuracy: 0.1938\n",
            "Epoch 31/80\n",
            "25/25 [==============================] - 26s 1s/step - loss: 1.9157 - accuracy: 0.1869 - val_loss: 1.9208 - val_accuracy: 0.1872\n",
            "Epoch 32/80\n",
            "25/25 [==============================] - 26s 1s/step - loss: 1.9162 - accuracy: 0.1890 - val_loss: 1.9109 - val_accuracy: 0.2151\n",
            "Epoch 33/80\n",
            "25/25 [==============================] - 26s 1s/step - loss: 1.9088 - accuracy: 0.2045 - val_loss: 1.9051 - val_accuracy: 0.2003\n",
            "Epoch 34/80\n",
            "25/25 [==============================] - 26s 1s/step - loss: 1.9096 - accuracy: 0.1886 - val_loss: 1.9205 - val_accuracy: 0.1954\n",
            "Epoch 35/80\n",
            "25/25 [==============================] - 25s 1s/step - loss: 1.9205 - accuracy: 0.1808 - val_loss: 1.9109 - val_accuracy: 0.1806\n",
            "Epoch 36/80\n",
            "25/25 [==============================] - 26s 1s/step - loss: 1.9155 - accuracy: 0.1910 - val_loss: 1.9073 - val_accuracy: 0.1888\n",
            "Epoch 37/80\n",
            "25/25 [==============================] - 26s 1s/step - loss: 1.9138 - accuracy: 0.1992 - val_loss: 1.8990 - val_accuracy: 0.2167\n",
            "Epoch 38/80\n",
            "25/25 [==============================] - 26s 1s/step - loss: 1.9138 - accuracy: 0.1935 - val_loss: 1.9052 - val_accuracy: 0.1987\n",
            "Epoch 39/80\n",
            "25/25 [==============================] - 26s 1s/step - loss: 1.9089 - accuracy: 0.2008 - val_loss: 1.9015 - val_accuracy: 0.2085\n",
            "Epoch 40/80\n",
            "25/25 [==============================] - 26s 1s/step - loss: 1.9119 - accuracy: 0.1931 - val_loss: 1.9029 - val_accuracy: 0.1921\n",
            "Epoch 41/80\n",
            "25/25 [==============================] - 26s 1s/step - loss: 1.9132 - accuracy: 0.1865 - val_loss: 1.9077 - val_accuracy: 0.1790\n",
            "Epoch 42/80\n",
            "25/25 [==============================] - 26s 1s/step - loss: 1.9074 - accuracy: 0.1992 - val_loss: 1.9057 - val_accuracy: 0.2250\n",
            "Epoch 43/80\n",
            "25/25 [==============================] - 26s 1s/step - loss: 1.9114 - accuracy: 0.1857 - val_loss: 1.8971 - val_accuracy: 0.1856\n",
            "Epoch 44/80\n",
            "25/25 [==============================] - 26s 1s/step - loss: 1.9077 - accuracy: 0.2012 - val_loss: 1.9009 - val_accuracy: 0.2069\n",
            "Epoch 45/80\n",
            "25/25 [==============================] - 28s 1s/step - loss: 1.9081 - accuracy: 0.1943 - val_loss: 1.9027 - val_accuracy: 0.1938\n",
            "Epoch 46/80\n",
            "25/25 [==============================] - 26s 1s/step - loss: 1.9090 - accuracy: 0.2004 - val_loss: 1.9053 - val_accuracy: 0.1888\n",
            "Epoch 47/80\n",
            "25/25 [==============================] - 26s 1s/step - loss: 1.9121 - accuracy: 0.1984 - val_loss: 1.9008 - val_accuracy: 0.1872\n",
            "Epoch 48/80\n",
            "25/25 [==============================] - 26s 1s/step - loss: 1.9081 - accuracy: 0.2016 - val_loss: 1.9106 - val_accuracy: 0.2102\n",
            "Epoch 49/80\n",
            "25/25 [==============================] - 26s 1s/step - loss: 1.9061 - accuracy: 0.1935 - val_loss: 1.9179 - val_accuracy: 0.1921\n",
            "Epoch 50/80\n",
            "25/25 [==============================] - 26s 1s/step - loss: 1.9072 - accuracy: 0.1935 - val_loss: 1.8989 - val_accuracy: 0.1938\n",
            "Epoch 51/80\n",
            "25/25 [==============================] - 26s 1s/step - loss: 1.9029 - accuracy: 0.1955 - val_loss: 1.8896 - val_accuracy: 0.2102\n",
            "Epoch 52/80\n",
            "25/25 [==============================] - 25s 1s/step - loss: 1.8985 - accuracy: 0.2041 - val_loss: 1.8959 - val_accuracy: 0.2282\n",
            "Epoch 53/80\n",
            "25/25 [==============================] - 26s 1s/step - loss: 1.9016 - accuracy: 0.2078 - val_loss: 1.8957 - val_accuracy: 0.2233\n",
            "Epoch 54/80\n",
            "25/25 [==============================] - 26s 1s/step - loss: 1.9062 - accuracy: 0.1984 - val_loss: 1.8932 - val_accuracy: 0.2200\n",
            "Epoch 55/80\n",
            "25/25 [==============================] - 26s 1s/step - loss: 1.9011 - accuracy: 0.2020 - val_loss: 1.9004 - val_accuracy: 0.2217\n",
            "Epoch 56/80\n",
            "25/25 [==============================] - 26s 1s/step - loss: 1.8985 - accuracy: 0.2073 - val_loss: 1.8980 - val_accuracy: 0.2266\n",
            "Epoch 57/80\n",
            "25/25 [==============================] - 26s 1s/step - loss: 1.8991 - accuracy: 0.2041 - val_loss: 1.9070 - val_accuracy: 0.2135\n",
            "Epoch 58/80\n",
            "25/25 [==============================] - 26s 1s/step - loss: 1.8987 - accuracy: 0.2024 - val_loss: 1.9011 - val_accuracy: 0.2233\n",
            "Epoch 59/80\n",
            "25/25 [==============================] - 30s 1s/step - loss: 1.8991 - accuracy: 0.1971 - val_loss: 1.8979 - val_accuracy: 0.2365\n",
            "Epoch 60/80\n",
            "25/25 [==============================] - 26s 1s/step - loss: 1.9048 - accuracy: 0.2020 - val_loss: 1.8890 - val_accuracy: 0.2233\n",
            "Epoch 61/80\n",
            "25/25 [==============================] - 26s 1s/step - loss: 1.9049 - accuracy: 0.1906 - val_loss: 1.9009 - val_accuracy: 0.2266\n",
            "Epoch 62/80\n",
            "25/25 [==============================] - 26s 1s/step - loss: 1.8932 - accuracy: 0.2131 - val_loss: 1.8902 - val_accuracy: 0.2282\n",
            "Epoch 63/80\n",
            "25/25 [==============================] - 28s 1s/step - loss: 1.8969 - accuracy: 0.2053 - val_loss: 1.8923 - val_accuracy: 0.2167\n",
            "Epoch 64/80\n",
            "25/25 [==============================] - 26s 1s/step - loss: 1.8956 - accuracy: 0.2155 - val_loss: 1.8844 - val_accuracy: 0.2348\n",
            "Epoch 65/80\n",
            "25/25 [==============================] - 26s 1s/step - loss: 1.8998 - accuracy: 0.2020 - val_loss: 1.8887 - val_accuracy: 0.2250\n",
            "Epoch 66/80\n",
            "25/25 [==============================] - 26s 1s/step - loss: 1.8895 - accuracy: 0.2176 - val_loss: 1.8855 - val_accuracy: 0.2233\n",
            "Epoch 67/80\n",
            "25/25 [==============================] - 26s 1s/step - loss: 1.9076 - accuracy: 0.1914 - val_loss: 1.8913 - val_accuracy: 0.2299\n",
            "Epoch 68/80\n",
            "25/25 [==============================] - 26s 1s/step - loss: 1.8959 - accuracy: 0.2196 - val_loss: 1.8813 - val_accuracy: 0.2479\n",
            "Epoch 69/80\n",
            "25/25 [==============================] - 26s 1s/step - loss: 1.8922 - accuracy: 0.2261 - val_loss: 1.8976 - val_accuracy: 0.2299\n",
            "Epoch 70/80\n",
            "25/25 [==============================] - 26s 1s/step - loss: 1.8908 - accuracy: 0.2151 - val_loss: 1.9102 - val_accuracy: 0.2266\n",
            "Epoch 71/80\n",
            "25/25 [==============================] - 25s 1s/step - loss: 1.8865 - accuracy: 0.2290 - val_loss: 1.8933 - val_accuracy: 0.2348\n",
            "Epoch 72/80\n",
            "25/25 [==============================] - 26s 1s/step - loss: 1.8912 - accuracy: 0.2212 - val_loss: 1.8887 - val_accuracy: 0.2266\n",
            "Epoch 73/80\n",
            "25/25 [==============================] - 26s 1s/step - loss: 1.8905 - accuracy: 0.2220 - val_loss: 1.8811 - val_accuracy: 0.2315\n",
            "Epoch 74/80\n",
            "25/25 [==============================] - 26s 1s/step - loss: 1.8929 - accuracy: 0.2078 - val_loss: 1.8898 - val_accuracy: 0.2315\n",
            "Epoch 75/80\n",
            "25/25 [==============================] - 26s 1s/step - loss: 1.8881 - accuracy: 0.2004 - val_loss: 1.8754 - val_accuracy: 0.2479\n",
            "Epoch 76/80\n",
            "25/25 [==============================] - 26s 1s/step - loss: 1.8886 - accuracy: 0.2257 - val_loss: 1.8736 - val_accuracy: 0.2611\n",
            "Epoch 77/80\n",
            "25/25 [==============================] - 25s 1s/step - loss: 1.8848 - accuracy: 0.2167 - val_loss: 1.8771 - val_accuracy: 0.2397\n",
            "Epoch 78/80\n",
            "25/25 [==============================] - 25s 1s/step - loss: 1.8848 - accuracy: 0.2249 - val_loss: 1.8724 - val_accuracy: 0.2479\n",
            "Epoch 79/80\n",
            "25/25 [==============================] - 26s 1s/step - loss: 1.8788 - accuracy: 0.2180 - val_loss: 1.9259 - val_accuracy: 0.2053\n",
            "Epoch 80/80\n",
            "25/25 [==============================] - 26s 1s/step - loss: 1.8825 - accuracy: 0.2176 - val_loss: 1.8754 - val_accuracy: 0.2447\n"
          ]
        }
      ]
    },
    {
      "cell_type": "code",
      "source": [
        "acc_2 = history2.history['accuracy']\n",
        "val_acc_2 = history2.history['val_accuracy']\n",
        "\n",
        "loss_2 = history2.history['loss']\n",
        "val_loss_2 = history2.history['val_loss']\n",
        "\n",
        "epochs_range = range(epochs)\n",
        "\n",
        "plt.figure(figsize=(8, 8))\n",
        "plt.subplot(1, 2, 1)\n",
        "plt.plot(epochs_range, acc_2, label='Training Accuracy')\n",
        "plt.plot(epochs_range, val_acc_2, label='Validation Accuracy')\n",
        "plt.legend(loc='lower right')\n",
        "plt.title('Training and Validation Accuracy')\n",
        "\n",
        "plt.subplot(1, 2, 2)\n",
        "plt.plot(epochs_range, loss_2, label='Training Loss')\n",
        "plt.plot(epochs_range, val_loss_2, label='Validation Loss')\n",
        "plt.legend(loc='upper right')\n",
        "plt.title('Training and Validation Loss')\n",
        "plt.show()"
      ],
      "metadata": {
        "colab": {
          "base_uri": "https://localhost:8080/",
          "height": 499
        },
        "id": "eWYAL9leIDFD",
        "outputId": "34da8bcd-9c48-417c-b4e0-2c756de87f2f"
      },
      "execution_count": 75,
      "outputs": [
        {
          "output_type": "display_data",
          "data": {
            "text/plain": [
              "<Figure size 576x576 with 2 Axes>"
            ],
            "image/png": "[encoded data removed]"
          },
          "metadata": {
            "needs_background": "light"
          }
        }
      ]
    },
    {
      "cell_type": "code",
      "source": [
        "batch_size = 80\n",
        "image_gen_train = ImageDataGenerator(\n",
        "      rescale=1./255)\n",
        "\n",
        "train_data_gen = image_gen_train.flow_from_directory(batch_size=batch_size,\n",
        "                                                     directory=os.path.join(current_working_dir, train_path),\n",
        "                                                     shuffle=True,\n",
        "                                                     target_size=(image_shape,image_shape),\n",
        "                                                     class_mode='sparse')\n",
        "\n",
        "image_gen_val = ImageDataGenerator(rescale=1./255)\n",
        "\n",
        "val_data_gen = image_gen_val.flow_from_directory(batch_size=batch_size,\n",
        "                                                 directory=os.path.join(current_working_dir, validation_path),\n",
        "                                                 target_size=(image_shape, image_shape),\n",
        "                                                 class_mode='sparse')\n",
        "\n",
        "model3 = Sequential()\n",
        "model3.add(ResNet50(input_shape=(image_shape, image_shape, 3), weights='imagenet', include_top=False))\n",
        "model3.add(GlobalMaxPooling2D())\n",
        "model3.add(Dropout(0.3))\n",
        "model3.add(Dense(7,activation=None))\n",
        "model3.summary()\n",
        "model3.compile('SGD',\n",
        "              loss=tf.keras.losses.SparseCategoricalCrossentropy(from_logits=True),\n",
        "              metrics=['accuracy'])\n",
        "epochs=80\n",
        "history3 = model3.fit_generator(\n",
        "    train_data_gen,\n",
        "    steps_per_epoch=int(np.ceil(total_train / float(batch_size))),\n",
        "    epochs=epochs,\n",
        "    validation_data=val_data_gen,\n",
        "    validation_steps=int(np.ceil(total_validation / float(batch_size)))\n",
        ")"
      ],
      "metadata": {
        "colab": {
          "base_uri": "https://localhost:8080/"
        },
        "id": "FESARnl2J_45",
        "outputId": "906a6ff7-594e-4898-fb06-e81dcf0a61d7"
      },
      "execution_count": null,
      "outputs": [
        {
          "output_type": "stream",
          "name": "stdout",
          "text": [
            "Found 2450 images belonging to 7 classes.\n",
            "Found 609 images belonging to 7 classes.\n",
            "Model: \"sequential_12\"\n",
            "_________________________________________________________________\n",
            " Layer (type)                Output Shape              Param #   \n",
            "=================================================================\n",
            " resnet50 (Functional)       (None, 2, 2, 2048)        23587712  \n",
            "                                                                 \n",
            " global_max_pooling2d_5 (Glo  (None, 2048)             0         \n",
            " balMaxPooling2D)                                                \n",
            "                                                                 \n",
            " dropout_15 (Dropout)        (None, 2048)              0         \n",
            "                                                                 \n",
            " dense_19 (Dense)            (None, 7)                 14343     \n",
            "                                                                 \n",
            "=================================================================\n",
            "Total params: 23,602,055\n",
            "Trainable params: 23,548,935\n",
            "Non-trainable params: 53,120\n",
            "_________________________________________________________________\n"
          ]
        },
        {
          "output_type": "stream",
          "name": "stderr",
          "text": [
            "/usr/local/lib/python3.7/dist-packages/ipykernel_launcher.py:33: UserWarning: `Model.fit_generator` is deprecated and will be removed in a future version. Please use `Model.fit`, which supports generators.\n"
          ]
        },
        {
          "output_type": "stream",
          "name": "stdout",
          "text": [
            "Epoch 1/80\n",
            "13/31 [===========>..................] - ETA: 4:06 - loss: 4.3272 - accuracy: 0.1875"
          ]
        }
      ]
    },
    {
      "cell_type": "code",
      "source": [
        "acc_3 = history3.history['accuracy']\n",
        "val_acc_3 = history3.history['val_accuracy']\n",
        "\n",
        "loss_3 = history3.history['loss']\n",
        "val_loss_3 = history3.history['val_loss']\n",
        "\n",
        "epochs_range = range(epochs)\n",
        "\n",
        "plt.figure(figsize=(8, 8))\n",
        "plt.subplot(1, 2, 1)\n",
        "plt.plot(epochs_range, acc_3, label='Training Accuracy')\n",
        "plt.plot(epochs_range, val_acc_3, label='Validation Accuracy')\n",
        "plt.legend(loc='lower right')\n",
        "plt.title('Training and Validation Accuracy')\n",
        "\n",
        "plt.subplot(1, 2, 2)\n",
        "plt.plot(epochs_range, loss_3, label='Training Loss')\n",
        "plt.plot(epochs_range, val_loss_3, label='Validation Loss')\n",
        "plt.legend(loc='upper right')\n",
        "plt.title('Training and Validation Loss')\n",
        "plt.show()"
      ],
      "metadata": {
        "id": "Tu8_5GMOVzxK"
      },
      "execution_count": null,
      "outputs": []
    }
  ]
}