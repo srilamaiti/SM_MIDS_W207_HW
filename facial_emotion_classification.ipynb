{
  "nbformat": 4,
  "nbformat_minor": 0,
  "metadata": {
    "colab": {
      "provenance": [],
      "collapsed_sections": [
        "564hxbpC2QLk",
        "zfSL4rwi2Voy",
        "U9Klu_Fz23yb",
        "XSqnpJk82fu3",
        "O7Q3zEfz2kfB",
        "OE70Y3yW2qc0",
        "0VwaRq5e2w1X",
        "_8vIUJ2x3Ip2",
        "GTO0NDT63OuK",
        "Y72RBNV93Ybe",
        "xoiIJmGA3RjX",
        "-pRBvujQ3zai",
        "Kvqepa8h4BqO",
        "sXPwv4IN4GBL",
        "nf6Em-Hz4KV_",
        "sohx_fgQ4WMo",
        "zV8kRq5v4bgK",
        "kldevsbn4gDh",
        "RrzQWyK54okD",
        "_mgdps9q4-Vx",
        "Gk3CRdUu5BZY",
        "FktDXmym5Lbi",
        "obh66a9E5PWm",
        "6P1XPABx6Rju",
        "Qn1g6z7A7bA-",
        "g9FIxZA87BW0",
        "8Lqtur4w55mP",
        "qAksk9J-58ie",
        "3JaFAWo86Be2",
        "GH3yGgMG6x2o",
        "es0a5rz-8Bqq",
        "-On_KQ9xBPQJ",
        "xi263NGrBUcd",
        "0pz0fEdaBc5D"
      ],
      "toc_visible": true,
      "authorship_tag": "ABX9TyNZimdasWyG5uiKtwB568Mm",
      "include_colab_link": true
    },
    "kernelspec": {
      "name": "python3",
      "display_name": "Python 3"
    },
    "language_info": {
      "name": "python"
    },
    "accelerator": "TPU"
  },
  "cells": [
    {
      "cell_type": "markdown",
      "metadata": {
        "id": "view-in-github",
        "colab_type": "text"
      },
      "source": [
        "<a href=\"https://colab.research.google.com/github/srilamaiti/SM_MIDS_W207_HW/blob/main/facial_emotion_classification.ipynb\" target=\"_parent\"><img src=\"https://colab.research.google.com/assets/colab-badge.svg\" alt=\"Open In Colab\"/></a>"
      ]
    },
    {
      "cell_type": "markdown",
      "source": [
        "# ***Importing Libraries***"
      ],
      "metadata": {
        "id": "d9XXmiv92GxR"
      }
    },
    {
      "cell_type": "code",
      "execution_count": 1,
      "metadata": {
        "id": "REzJNE-kUsYZ",
        "colab": {
          "base_uri": "https://localhost:8080/"
        },
        "outputId": "757fb8f0-7cfa-40ac-f279-a7ed0945d14f"
      },
      "outputs": [
        {
          "output_type": "stream",
          "name": "stdout",
          "text": [
            "Mounted at /content/gdrive\n"
          ]
        }
      ],
      "source": [
        "import pandas as pd\n",
        "import numpy as np\n",
        "import os\n",
        "import random\n",
        "import joblib\n",
        "import glob\n",
        "import random\n",
        "from imutils import rotate as rotate\n",
        "from itertools import product\n",
        "import gc\n",
        "from sklearn.utils import shuffle\n",
        "import cv2 as cv\n",
        "import skimage.io as skio\n",
        "\n",
        "import matplotlib.pyplot as plt\n",
        "import seaborn as sns\n",
        "import plotly.express as px\n",
        "import matplotlib.patches as patches\n",
        "from matplotlib.patches import Polygon\n",
        "\n",
        "import tensorflow as tf\n",
        "from tensorflow.keras.preprocessing.image import ImageDataGenerator\n",
        "from tensorflow.keras.layers import RandomFlip\n",
        "from tensorflow.keras.layers import RandomZoom\n",
        "from tensorflow.keras.layers import RandomRotation\n",
        "from tensorflow.keras.layers import Conv2D\n",
        "from tensorflow.keras.layers import MaxPooling2D\n",
        "from tensorflow.keras.layers import AveragePooling2D\n",
        "from tensorflow.keras.layers import Dense\n",
        "from tensorflow.keras.layers import Flatten\n",
        "from tensorflow.keras.layers import Dropout\n",
        "from tensorflow.keras.models import Sequential\n",
        "from tensorflow.keras.layers import BatchNormalization\n",
        "from tensorflow.keras.optimizers import Adam\n",
        "from keras.applications.vgg16 import VGG16\n",
        "from keras.layers import GlobalMaxPooling2D\n",
        "from tensorflow.keras.applications import ResNet50\n",
        "from tensorflow.keras.layers import Input\n",
        "from tensorflow.keras.layers import GlobalAveragePooling2D\n",
        "from tensorflow.keras.layers import BatchNormalization\n",
        "from tensorflow.keras.layers import Activation\n",
        "\n",
        "from tensorflow.keras.preprocessing.image import array_to_img\n",
        "from tensorflow.keras.preprocessing.image import img_to_array\n",
        "from tensorflow.keras.preprocessing.image import load_img\n",
        "from tensorflow.python.ops.numpy_ops import np_config\n",
        "from keras.callbacks import ModelCheckpoint\n",
        "from keras.callbacks import EarlyStopping\n",
        "from keras.callbacks import ReduceLROnPlateau\n",
        "np_config.enable_numpy_behavior()\n",
        "from PIL import Image\n",
        "import cv2\n",
        "\n",
        "from fastai.vision import *\n",
        "from fastai.metrics import error_rate, accuracy\n",
        "\n",
        "# Required to read the data from Kaggle\n",
        "from google.colab import drive\n",
        "drive.mount('/content/gdrive')\n",
        "os.environ['KAGGLE_CONFIG_DIR'] = \"/content/gdrive/MyDrive/Kaggle\"\n",
        "\n",
        "import warnings\n",
        "warnings.simplefilter(\"ignore\", category=DeprecationWarning)"
      ]
    },
    {
      "cell_type": "markdown",
      "source": [
        "# ***Label Value Defination***"
      ],
      "metadata": {
        "id": "564hxbpC2QLk"
      }
    },
    {
      "cell_type": "code",
      "source": [
        "labels = ['happy', 'sad', 'fear', 'angry', 'neutral', 'surprise', 'disgust']\n",
        "label_dict = {'happy' : 1, 'sad' : 2, 'fear' : 3, 'angry' : 4, 'neutral' : 5, 'surprise' : 6, 'disgust' : 7}"
      ],
      "metadata": {
        "id": "VNbuggheU3sZ"
      },
      "execution_count": 2,
      "outputs": []
    },
    {
      "cell_type": "markdown",
      "source": [
        "# ***Support Functionalities***"
      ],
      "metadata": {
        "id": "zfSL4rwi2Voy"
      }
    },
    {
      "cell_type": "markdown",
      "source": [
        "## ***a. Defining Parmeters***"
      ],
      "metadata": {
        "id": "U9Klu_Fz23yb"
      }
    },
    {
      "cell_type": "code",
      "source": [
        "current_working_dir = '/content/gdrive/MyDrive' #os.getcwd()\n",
        "image_file_extension = '.jpg'\n",
        "train_path = 'fdtct_train'\n",
        "test_path = 'fdtct_test'\n",
        "validation_path = 'fdtct_validation'\n",
        "\n",
        "happy_path = 'happy'\n",
        "sad_path = 'sad'\n",
        "disgust_path = 'disgust'\n",
        "angry_path = 'angry'\n",
        "surprise_path = 'surprise'\n",
        "fear_path = 'fear'\n",
        "neutral_path = 'neutral'\n",
        "\n",
        "batch_size = 100\n",
        "image_shape = 48"
      ],
      "metadata": {
        "id": "t1ton3tLU3vz"
      },
      "execution_count": 3,
      "outputs": []
    },
    {
      "cell_type": "markdown",
      "source": [
        "## ***b. Defining Functions***"
      ],
      "metadata": {
        "id": "Bv6CTDgI28vo"
      }
    },
    {
      "cell_type": "code",
      "source": [
        "def get_file_names(dir, image_file_extension = 'jpg'):\n",
        "    \"\"\"\n",
        "    This function lists all the files in the directory.\n",
        "    \"\"\"\n",
        "    return glob.glob(dir + '/*.'+ image_file_extension)"
      ],
      "metadata": {
        "id": "pqyMituepbCJ"
      },
      "execution_count": 4,
      "outputs": []
    },
    {
      "cell_type": "code",
      "source": [
        "def read_image_file_in_np_array(image_file_name_list):\n",
        "    \"\"\"\n",
        "    This function reads each image file in a Numpy array and returns it.\n",
        "    \"\"\"\n",
        "    return np.asarray([cv2.imread(image_file) for image_file in image_file_name_list])"
      ],
      "metadata": {
        "id": "L3_bZ721s1JY"
      },
      "execution_count": 5,
      "outputs": []
    },
    {
      "cell_type": "code",
      "source": [
        "def convert_np_array_to_tensor(np_image_array):\n",
        "    \"\"\"\n",
        "    This function converts the numpy array representation of each image in tensor.\n",
        "    \"\"\"\n",
        "    return tf.convert_to_tensor(np_image_array, dtype = tf.float32)"
      ],
      "metadata": {
        "id": "-SD82yzlxKjv"
      },
      "execution_count": 6,
      "outputs": []
    },
    {
      "cell_type": "code",
      "source": [
        "def create_label(array_length, val):\n",
        "    \"\"\"\n",
        "    This function creates array of the given value\n",
        "    \"\"\"\n",
        "    label_np = np.empty(array_length); label_np.fill(val)\n",
        "    return label_np"
      ],
      "metadata": {
        "id": "FuIQ5JEwz6E2"
      },
      "execution_count": 7,
      "outputs": []
    },
    {
      "cell_type": "code",
      "source": [
        "def convert_to_grayscale(tf_image_list):\n",
        "    \"\"\"\n",
        "    This function converts color image to grayscale.\n",
        "    \"\"\"\n",
        "    return tf.image.rgb_to_grayscale(tf_image_list) / 255.0"
      ],
      "metadata": {
        "id": "ex08CpqJ3X3G"
      },
      "execution_count": 8,
      "outputs": []
    },
    {
      "cell_type": "code",
      "source": [
        "def plotImages(images_arr):\n",
        "    fig, axes = plt.subplots(1, 5, figsize=(20,20))\n",
        "    axes = axes.flatten()\n",
        "    for img, ax in zip( images_arr, axes):\n",
        "        ax.imshow(img)\n",
        "    plt.tight_layout()\n",
        "    plt.show()"
      ],
      "metadata": {
        "id": "aMmOPP3T6Mba"
      },
      "execution_count": null,
      "outputs": []
    },
    {
      "cell_type": "markdown",
      "source": [
        "# ***Obtaining File Information***"
      ],
      "metadata": {
        "id": "XSqnpJk82fu3"
      }
    },
    {
      "cell_type": "markdown",
      "source": [
        "## ***a. Train Files***"
      ],
      "metadata": {
        "id": "O7Q3zEfz2kfB"
      }
    },
    {
      "cell_type": "code",
      "source": [
        "train_happy_file_list = get_file_names(dir = os.path.join(current_working_dir, train_path, happy_path))\n",
        "train_sad_file_list = get_file_names(dir = os.path.join(current_working_dir, train_path, sad_path))\n",
        "train_angry_file_list = get_file_names(dir = os.path.join(current_working_dir, train_path, angry_path))\n",
        "train_surprise_file_list = get_file_names(dir = os.path.join(current_working_dir, train_path, surprise_path))\n",
        "train_fear_file_list = get_file_names(dir = os.path.join(current_working_dir, train_path, fear_path))\n",
        "train_neutral_file_list = get_file_names(dir = os.path.join(current_working_dir, train_path, neutral_path))\n",
        "train_disgust_file_list = get_file_names(dir = os.path.join(current_working_dir, train_path, disgust_path))"
      ],
      "metadata": {
        "id": "zb32fK9_U31v"
      },
      "execution_count": 9,
      "outputs": []
    },
    {
      "cell_type": "code",
      "source": [
        "print(f\"Number of train happy files: {len(train_happy_file_list)}\")\n",
        "print(f\"Number of train sad files: {len(train_sad_file_list)}\")\n",
        "print(f\"Number of train angry files: {len(train_angry_file_list)}\")\n",
        "print(f\"Number of train neutral files: {len(train_neutral_file_list)}\")\n",
        "print(f\"Number of train disgust files: {len(train_disgust_file_list)}\")\n",
        "print(f\"Number of train fear files: {len(train_fear_file_list)}\")\n",
        "print(f\"Number of train surprise files: {len(train_surprise_file_list)}\")"
      ],
      "metadata": {
        "colab": {
          "base_uri": "https://localhost:8080/"
        },
        "id": "w0zQ6LiHrqRr",
        "outputId": "1f890d26-20b0-4426-fde4-905184fdbf1c"
      },
      "execution_count": 10,
      "outputs": [
        {
          "output_type": "stream",
          "name": "stdout",
          "text": [
            "Number of train happy files: 350\n",
            "Number of train sad files: 350\n",
            "Number of train angry files: 350\n",
            "Number of train neutral files: 350\n",
            "Number of train disgust files: 350\n",
            "Number of train fear files: 350\n",
            "Number of train surprise files: 350\n"
          ]
        }
      ]
    },
    {
      "cell_type": "markdown",
      "source": [
        "## ***b. Test Files***"
      ],
      "metadata": {
        "id": "OE70Y3yW2qc0"
      }
    },
    {
      "cell_type": "code",
      "source": [
        "test_happy_file_list = get_file_names(dir = os.path.join(current_working_dir, test_path, happy_path))\n",
        "test_sad_file_list = get_file_names(dir = os.path.join(current_working_dir, test_path, sad_path))\n",
        "test_angry_file_list = get_file_names(dir = os.path.join(current_working_dir, test_path, angry_path))\n",
        "test_surprise_file_list = get_file_names(dir = os.path.join(current_working_dir, test_path, surprise_path))\n",
        "test_fear_file_list = get_file_names(dir = os.path.join(current_working_dir, test_path, fear_path))\n",
        "test_neutral_file_list = get_file_names(dir = os.path.join(current_working_dir, test_path, neutral_path))\n",
        "test_disgust_file_list = get_file_names(dir = os.path.join(current_working_dir, test_path, disgust_path))"
      ],
      "metadata": {
        "id": "eM-9OMDCrQHc"
      },
      "execution_count": 11,
      "outputs": []
    },
    {
      "cell_type": "code",
      "source": [
        "print(f\"Number of test happy files: {len(test_happy_file_list)}\")\n",
        "print(f\"Number of test sad files: {len(test_sad_file_list)}\")\n",
        "print(f\"Number of test angry files: {len(test_angry_file_list)}\")\n",
        "print(f\"Number of test neutral files: {len(test_neutral_file_list)}\")\n",
        "print(f\"Number of test disgust files: {len(test_disgust_file_list)}\")\n",
        "print(f\"Number of test fear files: {len(test_fear_file_list)}\")\n",
        "print(f\"Number of test surprise files: {len(test_surprise_file_list)}\")"
      ],
      "metadata": {
        "colab": {
          "base_uri": "https://localhost:8080/"
        },
        "id": "PcrWVNqbsGzd",
        "outputId": "1ebb183e-ea3f-4ab6-8154-25c80f378859"
      },
      "execution_count": 12,
      "outputs": [
        {
          "output_type": "stream",
          "name": "stdout",
          "text": [
            "Number of test happy files: 112\n",
            "Number of test sad files: 112\n",
            "Number of test angry files: 112\n",
            "Number of test neutral files: 112\n",
            "Number of test disgust files: 111\n",
            "Number of test fear files: 112\n",
            "Number of test surprise files: 112\n"
          ]
        }
      ]
    },
    {
      "cell_type": "markdown",
      "source": [
        "## ***c. Validation Files***"
      ],
      "metadata": {
        "id": "0VwaRq5e2w1X"
      }
    },
    {
      "cell_type": "code",
      "source": [
        "validation_happy_file_list = get_file_names(dir = os.path.join(current_working_dir, validation_path, happy_path))\n",
        "validation_sad_file_list = get_file_names(dir = os.path.join(current_working_dir, validation_path, sad_path))\n",
        "validation_angry_file_list = get_file_names(dir = os.path.join(current_working_dir, validation_path, angry_path))\n",
        "validation_surprise_file_list = get_file_names(dir = os.path.join(current_working_dir, validation_path, surprise_path))\n",
        "validation_fear_file_list = get_file_names(dir = os.path.join(current_working_dir, validation_path, fear_path))\n",
        "validation_neutral_file_list = get_file_names(dir = os.path.join(current_working_dir, validation_path, neutral_path))\n",
        "validation_disgust_file_list = get_file_names(dir = os.path.join(current_working_dir, validation_path, disgust_path))"
      ],
      "metadata": {
        "id": "5gy51wXcrQM8"
      },
      "execution_count": 13,
      "outputs": []
    },
    {
      "cell_type": "code",
      "source": [
        "print(f\"Number of validation happy files: {len(validation_happy_file_list)}\")\n",
        "print(f\"Number of validation sad files: {len(validation_sad_file_list)}\")\n",
        "print(f\"Number of validation angry files: {len(validation_angry_file_list)}\")\n",
        "print(f\"Number of validation neutral files: {len(validation_neutral_file_list)}\")\n",
        "print(f\"Number of validation disgust files: {len(validation_disgust_file_list)}\")\n",
        "print(f\"Number of validation fear files: {len(validation_fear_file_list)}\")\n",
        "print(f\"Number of validation surprise files: {len(validation_surprise_file_list)}\")"
      ],
      "metadata": {
        "colab": {
          "base_uri": "https://localhost:8080/"
        },
        "id": "Mp-zu-_5rQQ1",
        "outputId": "5af70463-dfcf-4cf1-97f1-608fe1b7fd4e"
      },
      "execution_count": 14,
      "outputs": [
        {
          "output_type": "stream",
          "name": "stdout",
          "text": [
            "Number of validation happy files: 87\n",
            "Number of validation sad files: 87\n",
            "Number of validation angry files: 87\n",
            "Number of validation neutral files: 87\n",
            "Number of validation disgust files: 87\n",
            "Number of validation fear files: 87\n",
            "Number of validation surprise files: 87\n"
          ]
        }
      ]
    },
    {
      "cell_type": "code",
      "source": [
        "import matplotlib.pyplot as plt\n",
        "image = plt.imread(os.path.join(current_working_dir, validation_path, happy_path) + '/100.jpg')\n",
        "plt.imshow(image)"
      ],
      "metadata": {
        "colab": {
          "base_uri": "https://localhost:8080/",
          "height": 285
        },
        "id": "16CtQhuqrQT6",
        "outputId": "10b07c6a-00d7-4c9d-8334-de6e1e6deb76"
      },
      "execution_count": 15,
      "outputs": [
        {
          "output_type": "execute_result",
          "data": {
            "text/plain": [
              "<matplotlib.image.AxesImage at 0x7fd6c01c74d0>"
            ]
          },
          "metadata": {},
          "execution_count": 15
        },
        {
          "output_type": "display_data",
          "data": {
            "text/plain": [
              "<Figure size 432x288 with 1 Axes>"
            ],
            "image/png": "[encoded data removed]"
          },
          "metadata": {
            "needs_background": "light"
          }
        }
      ]
    },
    {
      "cell_type": "markdown",
      "source": [
        "# ***Data Processing : Converting to Numpy Array***"
      ],
      "metadata": {
        "id": "_8vIUJ2x3Ip2"
      }
    },
    {
      "cell_type": "markdown",
      "source": [
        "## ***a. Train Files***"
      ],
      "metadata": {
        "id": "GTO0NDT63OuK"
      }
    },
    {
      "cell_type": "code",
      "source": [
        "train_happy_np = read_image_file_in_np_array(image_file_name_list = train_happy_file_list)\n",
        "train_sad_np = read_image_file_in_np_array(image_file_name_list = train_sad_file_list)\n",
        "train_angry_np = read_image_file_in_np_array(image_file_name_list = train_angry_file_list)\n",
        "train_fear_np = read_image_file_in_np_array(image_file_name_list = train_fear_file_list)\n",
        "train_surprise_np = read_image_file_in_np_array(image_file_name_list = train_surprise_file_list)\n",
        "train_neutral_np = read_image_file_in_np_array(image_file_name_list = train_neutral_file_list)\n",
        "train_disgust_np = read_image_file_in_np_array(image_file_name_list = train_disgust_file_list)"
      ],
      "metadata": {
        "id": "sFHpOj7sshZT"
      },
      "execution_count": 16,
      "outputs": []
    },
    {
      "cell_type": "code",
      "source": [
        "print(f\"Shape of train_happy_np : {train_happy_np.shape}\")\n",
        "print(f\"Shape of train_sad_np : {train_sad_np.shape}\")\n",
        "print(f\"Shape of train_angry_np : {train_angry_np.shape}\")\n",
        "print(f\"Shape of train_fear_np : {train_fear_np.shape}\")\n",
        "print(f\"Shape of train_surprise_np : {train_surprise_np.shape}\")\n",
        "print(f\"Shape of train_neutral_np : {train_neutral_np.shape}\")\n",
        "print(f\"Shape of train_disgust_np : {train_disgust_np.shape}\")"
      ],
      "metadata": {
        "colab": {
          "base_uri": "https://localhost:8080/"
        },
        "id": "thlJBLvNshic",
        "outputId": "2180c244-46cc-41c9-c923-0e0d8e06c209"
      },
      "execution_count": 19,
      "outputs": [
        {
          "output_type": "stream",
          "name": "stdout",
          "text": [
            "Shape of train_happy_np : (350, 48, 48, 3)\n",
            "Shape of train_sad_np : (350, 48, 48, 3)\n",
            "Shape of train_angry_np : (350, 48, 48, 3)\n",
            "Shape of train_fear_np : (350, 48, 48, 3)\n",
            "Shape of train_surprise_np : (350, 48, 48, 3)\n",
            "Shape of train_neutral_np : (350, 48, 48, 3)\n",
            "Shape of train_disgust_np : (350, 48, 48, 3)\n"
          ]
        }
      ]
    },
    {
      "cell_type": "markdown",
      "source": [
        "## ***b. Test Files***"
      ],
      "metadata": {
        "id": "Y72RBNV93Ybe"
      }
    },
    {
      "cell_type": "code",
      "source": [
        "test_happy_np = read_image_file_in_np_array(image_file_name_list = test_happy_file_list)\n",
        "test_sad_np = read_image_file_in_np_array(image_file_name_list = test_sad_file_list)\n",
        "test_angry_np = read_image_file_in_np_array(image_file_name_list = test_angry_file_list)\n",
        "test_fear_np = read_image_file_in_np_array(image_file_name_list = test_fear_file_list)\n",
        "test_surprise_np = read_image_file_in_np_array(image_file_name_list = test_surprise_file_list)\n",
        "test_neutral_np = read_image_file_in_np_array(image_file_name_list = test_neutral_file_list)\n",
        "test_disgust_np = read_image_file_in_np_array(image_file_name_list = test_disgust_file_list)"
      ],
      "metadata": {
        "id": "m2dqw1onshfi"
      },
      "execution_count": 18,
      "outputs": []
    },
    {
      "cell_type": "code",
      "source": [
        "print(f\"Shape of test_happy_np : {test_happy_np.shape}\")\n",
        "print(f\"Shape of test_sad_np : {test_sad_np.shape}\")\n",
        "print(f\"Shape of test_angry_np : {test_angry_np.shape}\")\n",
        "print(f\"Shape of test_fear_np : {test_fear_np.shape}\")\n",
        "print(f\"Shape of test_surprise_np : {test_surprise_np.shape}\")\n",
        "print(f\"Shape of test_neutral_np : {test_neutral_np.shape}\")\n",
        "print(f\"Shape of test_disgust_np : {test_disgust_np.shape}\")"
      ],
      "metadata": {
        "colab": {
          "base_uri": "https://localhost:8080/"
        },
        "id": "sM2U4vWSrQXS",
        "outputId": "279a0c2b-ac4d-4371-fa3e-30e9f8bcf4d1"
      },
      "execution_count": 20,
      "outputs": [
        {
          "output_type": "stream",
          "name": "stdout",
          "text": [
            "Shape of test_happy_np : (112, 48, 48, 3)\n",
            "Shape of test_sad_np : (112, 48, 48, 3)\n",
            "Shape of test_angry_np : (112, 48, 48, 3)\n",
            "Shape of test_fear_np : (112, 48, 48, 3)\n",
            "Shape of test_surprise_np : (112, 48, 48, 3)\n",
            "Shape of test_neutral_np : (112, 48, 48, 3)\n",
            "Shape of test_disgust_np : (111, 48, 48, 3)\n"
          ]
        }
      ]
    },
    {
      "cell_type": "markdown",
      "source": [
        "## ***c. Validation Files***"
      ],
      "metadata": {
        "id": "xoiIJmGA3RjX"
      }
    },
    {
      "cell_type": "code",
      "source": [
        "validation_happy_np = read_image_file_in_np_array(image_file_name_list = validation_happy_file_list)\n",
        "validation_sad_np = read_image_file_in_np_array(image_file_name_list = validation_sad_file_list)\n",
        "validation_angry_np = read_image_file_in_np_array(image_file_name_list = validation_angry_file_list)\n",
        "validation_fear_np = read_image_file_in_np_array(image_file_name_list = validation_fear_file_list)\n",
        "validation_surprise_np = read_image_file_in_np_array(image_file_name_list = validation_surprise_file_list)\n",
        "validation_neutral_np = read_image_file_in_np_array(image_file_name_list = validation_neutral_file_list)\n",
        "validation_disgust_np = read_image_file_in_np_array(image_file_name_list = validation_disgust_file_list)"
      ],
      "metadata": {
        "id": "jrmy91X9shca"
      },
      "execution_count": 17,
      "outputs": []
    },
    {
      "cell_type": "code",
      "source": [
        "print(f\"Shape of validation_happy_np : {validation_happy_np.shape}\")\n",
        "print(f\"Shape of validation_sad_np : {validation_sad_np.shape}\")\n",
        "print(f\"Shape of validation_angry_np : {validation_angry_np.shape}\")\n",
        "print(f\"Shape of validation_fear_np : {validation_fear_np.shape}\")\n",
        "print(f\"Shape of validation_surprise_np : {validation_surprise_np.shape}\")\n",
        "print(f\"Shape of validation_neutral_np : {validation_neutral_np.shape}\")\n",
        "print(f\"Shape of validation_disgust_np : {validation_disgust_np.shape}\")"
      ],
      "metadata": {
        "colab": {
          "base_uri": "https://localhost:8080/"
        },
        "id": "kwHwh_CGrQac",
        "outputId": "7c00e8d7-76d7-47e0-d34d-bbb3c1c71356"
      },
      "execution_count": 21,
      "outputs": [
        {
          "output_type": "stream",
          "name": "stdout",
          "text": [
            "Shape of validation_happy_np : (87, 48, 48, 3)\n",
            "Shape of validation_sad_np : (87, 48, 48, 3)\n",
            "Shape of validation_angry_np : (87, 48, 48, 3)\n",
            "Shape of validation_fear_np : (87, 48, 48, 3)\n",
            "Shape of validation_surprise_np : (87, 48, 48, 3)\n",
            "Shape of validation_neutral_np : (87, 48, 48, 3)\n",
            "Shape of validation_disgust_np : (87, 48, 48, 3)\n"
          ]
        }
      ]
    },
    {
      "cell_type": "markdown",
      "source": [
        "# ***Data Processing : Converting to Tensor Flow***"
      ],
      "metadata": {
        "id": "-pRBvujQ3zai"
      }
    },
    {
      "cell_type": "markdown",
      "source": [
        "## ***a. Train Files***"
      ],
      "metadata": {
        "id": "Kvqepa8h4BqO"
      }
    },
    {
      "cell_type": "code",
      "source": [
        "train_happy_tf = convert_np_array_to_tensor(train_happy_np)\n",
        "train_sad_tf = convert_np_array_to_tensor(train_sad_np)\n",
        "train_angry_tf = convert_np_array_to_tensor(train_angry_np)\n",
        "train_fear_tf = convert_np_array_to_tensor(train_fear_np)\n",
        "train_surprise_tf = convert_np_array_to_tensor(train_surprise_np)\n",
        "train_neutral_tf = convert_np_array_to_tensor(train_neutral_np)\n",
        "train_disgust_tf = convert_np_array_to_tensor(train_disgust_np)"
      ],
      "metadata": {
        "id": "wIErFRc6wxOS"
      },
      "execution_count": 22,
      "outputs": []
    },
    {
      "cell_type": "code",
      "source": [
        "print(f\"Shape of train_happy_tf : {train_happy_tf.shape}\")\n",
        "print(f\"Shape of train_sad_tf : {train_sad_tf.shape}\")\n",
        "print(f\"Shape of train_angry_tf : {train_angry_tf.shape}\")\n",
        "print(f\"Shape of train_fear_tf : {train_fear_tf.shape}\")\n",
        "print(f\"Shape of train_surprise_tf : {train_surprise_tf.shape}\")\n",
        "print(f\"Shape of train_neutral_tf : {train_neutral_tf.shape}\")\n",
        "print(f\"Shape of train_disgust_tf : {train_disgust_tf.shape}\")"
      ],
      "metadata": {
        "colab": {
          "base_uri": "https://localhost:8080/"
        },
        "id": "zKjWj6fRwxWc",
        "outputId": "d3f314b1-a68b-483a-de54-9fc5a321e385"
      },
      "execution_count": 25,
      "outputs": [
        {
          "output_type": "stream",
          "name": "stdout",
          "text": [
            "Shape of train_happy_tf : (350, 48, 48, 3)\n",
            "Shape of train_sad_tf : (350, 48, 48, 3)\n",
            "Shape of train_angry_tf : (350, 48, 48, 3)\n",
            "Shape of train_fear_tf : (350, 48, 48, 3)\n",
            "Shape of train_surprise_tf : (350, 48, 48, 3)\n",
            "Shape of train_neutral_tf : (350, 48, 48, 3)\n",
            "Shape of train_disgust_tf : (350, 48, 48, 3)\n"
          ]
        }
      ]
    },
    {
      "cell_type": "markdown",
      "source": [
        "## ***b. Test Files***"
      ],
      "metadata": {
        "id": "sXPwv4IN4GBL"
      }
    },
    {
      "cell_type": "code",
      "source": [
        "test_happy_tf = convert_np_array_to_tensor(test_happy_np)\n",
        "test_sad_tf = convert_np_array_to_tensor(test_sad_np)\n",
        "test_angry_tf = convert_np_array_to_tensor(test_angry_np)\n",
        "test_fear_tf = convert_np_array_to_tensor(test_fear_np)\n",
        "test_surprise_tf = convert_np_array_to_tensor(test_surprise_np)\n",
        "test_neutral_tf = convert_np_array_to_tensor(test_neutral_np)\n",
        "test_disgust_tf = convert_np_array_to_tensor(test_disgust_np)"
      ],
      "metadata": {
        "id": "pmQaJA2LwxTl"
      },
      "execution_count": 24,
      "outputs": []
    },
    {
      "cell_type": "code",
      "source": [
        "print(f\"Shape of test_happy_tf : {test_happy_tf.shape}\")\n",
        "print(f\"Shape of test_sad_tf : {test_sad_tf.shape}\")\n",
        "print(f\"Shape of test_angry_tf : {test_angry_tf.shape}\")\n",
        "print(f\"Shape of test_fear_tf : {test_fear_tf.shape}\")\n",
        "print(f\"Shape of test_surprise_tf : {test_surprise_tf.shape}\")\n",
        "print(f\"Shape of test_neutral_tf : {test_neutral_tf.shape}\")\n",
        "print(f\"Shape of test_disgust_tf : {test_disgust_tf.shape}\")"
      ],
      "metadata": {
        "colab": {
          "base_uri": "https://localhost:8080/"
        },
        "id": "pxrheiXVwxZ1",
        "outputId": "22c37f9d-6e10-4e04-f9c6-8015b64e6657"
      },
      "execution_count": 26,
      "outputs": [
        {
          "output_type": "stream",
          "name": "stdout",
          "text": [
            "Shape of test_happy_tf : (112, 48, 48, 3)\n",
            "Shape of test_sad_tf : (112, 48, 48, 3)\n",
            "Shape of test_angry_tf : (112, 48, 48, 3)\n",
            "Shape of test_fear_tf : (112, 48, 48, 3)\n",
            "Shape of test_surprise_tf : (112, 48, 48, 3)\n",
            "Shape of test_neutral_tf : (112, 48, 48, 3)\n",
            "Shape of test_disgust_tf : (111, 48, 48, 3)\n"
          ]
        }
      ]
    },
    {
      "cell_type": "markdown",
      "source": [
        "## ***c. Validation Files***"
      ],
      "metadata": {
        "id": "nf6Em-Hz4KV_"
      }
    },
    {
      "cell_type": "code",
      "source": [
        "validation_happy_tf = convert_np_array_to_tensor(validation_happy_np)\n",
        "validation_sad_tf = convert_np_array_to_tensor(validation_sad_np)\n",
        "validation_angry_tf = convert_np_array_to_tensor(validation_angry_np)\n",
        "validation_fear_tf = convert_np_array_to_tensor(validation_fear_np)\n",
        "validation_surprise_tf = convert_np_array_to_tensor(validation_surprise_np)\n",
        "validation_neutral_tf = convert_np_array_to_tensor(validation_neutral_np)\n",
        "validation_disgust_tf = convert_np_array_to_tensor(validation_disgust_np)"
      ],
      "metadata": {
        "id": "a0rRimnMwxQv"
      },
      "execution_count": 23,
      "outputs": []
    },
    {
      "cell_type": "code",
      "source": [
        "print(f\"Shape of validation_happy_tf : {validation_happy_tf.shape}\")\n",
        "print(f\"Shape of validation_sad_tf : {validation_sad_tf.shape}\")\n",
        "print(f\"Shape of validation_angry_tf : {validation_angry_tf.shape}\")\n",
        "print(f\"Shape of validation_fear_tf : {validation_fear_tf.shape}\")\n",
        "print(f\"Shape of validation_surprise_tf : {validation_surprise_tf.shape}\")\n",
        "print(f\"Shape of validation_neutral_tf : {validation_neutral_tf.shape}\")\n",
        "print(f\"Shape of validation_disgust_tf : {validation_disgust_tf.shape}\")"
      ],
      "metadata": {
        "colab": {
          "base_uri": "https://localhost:8080/"
        },
        "id": "PkbM28Htwxc-",
        "outputId": "62966b95-2d83-44ad-af6e-d598912b434f"
      },
      "execution_count": 27,
      "outputs": [
        {
          "output_type": "stream",
          "name": "stdout",
          "text": [
            "Shape of validation_happy_tf : (87, 48, 48, 3)\n",
            "Shape of validation_sad_tf : (87, 48, 48, 3)\n",
            "Shape of validation_angry_tf : (87, 48, 48, 3)\n",
            "Shape of validation_fear_tf : (87, 48, 48, 3)\n",
            "Shape of validation_surprise_tf : (87, 48, 48, 3)\n",
            "Shape of validation_neutral_tf : (87, 48, 48, 3)\n",
            "Shape of validation_disgust_tf : (87, 48, 48, 3)\n"
          ]
        }
      ]
    },
    {
      "cell_type": "markdown",
      "source": [
        "# ***Label Creation***"
      ],
      "metadata": {
        "id": "sohx_fgQ4WMo"
      }
    },
    {
      "cell_type": "markdown",
      "source": [
        "## ***a. Train Labels***"
      ],
      "metadata": {
        "id": "zV8kRq5v4bgK"
      }
    },
    {
      "cell_type": "code",
      "source": [
        "label_train_happy_np = create_label(array_length = len(train_happy_np), val = label_dict['happy'])\n",
        "label_train_sad_np = create_label(array_length = len(train_sad_np), val = label_dict['sad'])\n",
        "label_train_angry_np = create_label(array_length = len(train_angry_np), val = label_dict['angry'])\n",
        "label_train_fear_np = create_label(array_length = len(train_fear_np), val = label_dict['fear'])\n",
        "label_train_surprise_np = create_label(array_length = len(train_surprise_np), val = label_dict['surprise'])\n",
        "label_train_disgust_np = create_label(array_length = len(train_disgust_np), val = label_dict['disgust'])\n",
        "label_train_neutral_np = create_label(array_length = len(train_neutral_np), val = label_dict['neutral'])"
      ],
      "metadata": {
        "id": "OhtYoBJmwxgE"
      },
      "execution_count": 28,
      "outputs": []
    },
    {
      "cell_type": "code",
      "source": [
        "print(f\"Shape of label_train_happy_np : {label_train_happy_np.shape}\")\n",
        "print(f\"Shape of label_train_sad_np : {label_train_sad_np.shape}\")\n",
        "print(f\"Shape of label_train_angry_np : {label_train_angry_np.shape}\")\n",
        "print(f\"Shape of label_train_fear_np : {label_train_fear_np.shape}\")\n",
        "print(f\"Shape of label_train_surprise_np : {label_train_surprise_np.shape}\")\n",
        "print(f\"Shape of label_train_neutral_np : {label_train_neutral_np.shape}\")\n",
        "print(f\"Shape of label_train_disgust_np : {label_train_disgust_np.shape}\")"
      ],
      "metadata": {
        "colab": {
          "base_uri": "https://localhost:8080/"
        },
        "id": "9Bo-jwZd1rmP",
        "outputId": "fc510ce7-8ae3-4dd7-f5ef-14cafa945661"
      },
      "execution_count": 31,
      "outputs": [
        {
          "output_type": "stream",
          "name": "stdout",
          "text": [
            "Shape of label_train_happy_np : (350,)\n",
            "Shape of label_train_sad_np : (350,)\n",
            "Shape of label_train_angry_np : (350,)\n",
            "Shape of label_train_fear_np : (350,)\n",
            "Shape of label_train_surprise_np : (350,)\n",
            "Shape of label_train_neutral_np : (350,)\n",
            "Shape of label_train_disgust_np : (350,)\n"
          ]
        }
      ]
    },
    {
      "cell_type": "markdown",
      "source": [
        "## ***b. Test Labels***"
      ],
      "metadata": {
        "id": "kldevsbn4gDh"
      }
    },
    {
      "cell_type": "code",
      "source": [
        "label_test_happy_np = create_label(array_length = len(test_happy_np), val = label_dict['happy'])\n",
        "label_test_sad_np = create_label(array_length = len(test_sad_np), val = label_dict['sad'])\n",
        "label_test_angry_np = create_label(array_length = len(test_angry_np), val = label_dict['angry'])\n",
        "label_test_fear_np = create_label(array_length = len(test_fear_np), val = label_dict['fear'])\n",
        "label_test_surprise_np = create_label(array_length = len(test_surprise_np), val = label_dict['surprise'])\n",
        "label_test_disgust_np = create_label(array_length = len(test_disgust_np), val = label_dict['disgust'])\n",
        "label_test_neutral_np = create_label(array_length = len(test_neutral_np), val = label_dict['neutral'])"
      ],
      "metadata": {
        "id": "5bK0E_5t1rB0"
      },
      "execution_count": 29,
      "outputs": []
    },
    {
      "cell_type": "code",
      "source": [
        "print(f\"Shape of label_test_happy_np : {label_test_happy_np.shape}\")\n",
        "print(f\"Shape of label_test_sad_np : {label_test_sad_np.shape}\")\n",
        "print(f\"Shape of label_test_angry_np : {label_test_angry_np.shape}\")\n",
        "print(f\"Shape of label_test_fear_np : {label_test_fear_np.shape}\")\n",
        "print(f\"Shape of label_test_surprise_np : {label_test_surprise_np.shape}\")\n",
        "print(f\"Shape of label_test_neutral_np : {label_test_neutral_np.shape}\")\n",
        "print(f\"Shape of label_test_disgust_np : {label_test_disgust_np.shape}\")"
      ],
      "metadata": {
        "colab": {
          "base_uri": "https://localhost:8080/"
        },
        "id": "M85YAN3y1rr9",
        "outputId": "939893cc-d0da-4958-c5a6-16886651a5ed"
      },
      "execution_count": 32,
      "outputs": [
        {
          "output_type": "stream",
          "name": "stdout",
          "text": [
            "Shape of label_test_happy_np : (112,)\n",
            "Shape of label_test_sad_np : (112,)\n",
            "Shape of label_test_angry_np : (112,)\n",
            "Shape of label_test_fear_np : (112,)\n",
            "Shape of label_test_surprise_np : (112,)\n",
            "Shape of label_test_neutral_np : (112,)\n",
            "Shape of label_test_disgust_np : (111,)\n"
          ]
        }
      ]
    },
    {
      "cell_type": "markdown",
      "source": [
        "## ***c. Validation Labels***"
      ],
      "metadata": {
        "id": "RrzQWyK54okD"
      }
    },
    {
      "cell_type": "code",
      "source": [
        "label_validation_happy_np = create_label(array_length = len(validation_happy_np), val = label_dict['happy'])\n",
        "label_validation_sad_np = create_label(array_length = len(validation_sad_np), val = label_dict['sad'])\n",
        "label_validation_angry_np = create_label(array_length = len(validation_angry_np), val = label_dict['angry'])\n",
        "label_validation_fear_np = create_label(array_length = len(validation_fear_np), val = label_dict['fear'])\n",
        "label_validation_surprise_np = create_label(array_length = len(validation_surprise_np), val = label_dict['surprise'])\n",
        "label_validation_disgust_np = create_label(array_length = len(validation_disgust_np), val = label_dict['disgust'])\n",
        "label_validation_neutral_np = create_label(array_length = len(validation_neutral_np), val = label_dict['neutral'])"
      ],
      "metadata": {
        "id": "Sv1P4dNc1rfN"
      },
      "execution_count": 30,
      "outputs": []
    },
    {
      "cell_type": "code",
      "source": [
        "print(f\"Shape of label_validation_happy_np : {label_validation_happy_np.shape}\")\n",
        "print(f\"Shape of label_validation_sad_np : {label_validation_sad_np.shape}\")\n",
        "print(f\"Shape of label_validation_angry_np : {label_validation_angry_np.shape}\")\n",
        "print(f\"Shape of label_validation_fear_np : {label_validation_fear_np.shape}\")\n",
        "print(f\"Shape of label_validation_surprise_np : {label_validation_surprise_np.shape}\")\n",
        "print(f\"Shape of label_validation_neutral_np : {label_validation_neutral_np.shape}\")\n",
        "print(f\"Shape of label_validation_disgust_np : {label_validation_disgust_np.shape}\")"
      ],
      "metadata": {
        "colab": {
          "base_uri": "https://localhost:8080/"
        },
        "id": "zhWVrpDqwxju",
        "outputId": "937e9e65-090f-44a9-9060-714a94533f6b"
      },
      "execution_count": 33,
      "outputs": [
        {
          "output_type": "stream",
          "name": "stdout",
          "text": [
            "Shape of label_validation_happy_np : (87,)\n",
            "Shape of label_validation_sad_np : (87,)\n",
            "Shape of label_validation_angry_np : (87,)\n",
            "Shape of label_validation_fear_np : (87,)\n",
            "Shape of label_validation_surprise_np : (87,)\n",
            "Shape of label_validation_neutral_np : (87,)\n",
            "Shape of label_validation_disgust_np : (87,)\n"
          ]
        }
      ]
    },
    {
      "cell_type": "markdown",
      "source": [
        "# ***Image Processing : Converting to Grayscale***"
      ],
      "metadata": {
        "id": "_mgdps9q4-Vx"
      }
    },
    {
      "cell_type": "markdown",
      "source": [
        "## ***a. Train Processing***"
      ],
      "metadata": {
        "id": "Gk3CRdUu5BZY"
      }
    },
    {
      "cell_type": "code",
      "source": [
        "train_happy_tf = convert_to_grayscale(train_happy_tf)\n",
        "train_sad_tf = convert_to_grayscale(train_sad_tf)\n",
        "train_angry_tf = convert_to_grayscale(train_angry_tf)\n",
        "train_fear_tf = convert_to_grayscale(train_fear_tf)\n",
        "train_surprise_tf = convert_to_grayscale(train_surprise_tf)\n",
        "train_neutral_tf = convert_to_grayscale(train_neutral_tf)\n",
        "train_disgust_tf = convert_to_grayscale(train_disgust_tf)"
      ],
      "metadata": {
        "id": "Go6qV4Xm3CRH"
      },
      "execution_count": 34,
      "outputs": []
    },
    {
      "cell_type": "markdown",
      "source": [
        "## ***b. Test Processing***"
      ],
      "metadata": {
        "id": "FktDXmym5Lbi"
      }
    },
    {
      "cell_type": "code",
      "source": [
        "test_happy_tf = convert_to_grayscale(test_happy_tf)\n",
        "test_sad_tf = convert_to_grayscale(test_sad_tf)\n",
        "test_angry_tf = convert_to_grayscale(test_angry_tf)\n",
        "test_fear_tf = convert_to_grayscale(test_fear_tf)\n",
        "test_surprise_tf = convert_to_grayscale(test_surprise_tf)\n",
        "test_neutral_tf = convert_to_grayscale(test_neutral_tf)\n",
        "test_disgust_tf = convert_to_grayscale(test_disgust_tf)"
      ],
      "metadata": {
        "id": "QzEFryJ_3CUb"
      },
      "execution_count": 35,
      "outputs": []
    },
    {
      "cell_type": "markdown",
      "source": [
        "## ***c. Validation Processing***"
      ],
      "metadata": {
        "id": "obh66a9E5PWm"
      }
    },
    {
      "cell_type": "code",
      "source": [
        "validation_happy_tf = convert_to_grayscale(validation_happy_tf)\n",
        "validation_sad_tf = convert_to_grayscale(validation_sad_tf)\n",
        "validation_angry_tf = convert_to_grayscale(validation_angry_tf)\n",
        "validation_fear_tf = convert_to_grayscale(validation_fear_tf)\n",
        "validation_surprise_tf = convert_to_grayscale(validation_surprise_tf)\n",
        "validation_neutral_tf = convert_to_grayscale(validation_neutral_tf)\n",
        "validation_disgust_tf = convert_to_grayscale(validation_disgust_tf)"
      ],
      "metadata": {
        "id": "mNgtQgDN3CXD"
      },
      "execution_count": 36,
      "outputs": []
    },
    {
      "cell_type": "markdown",
      "source": [
        "# ***Obtaining Total Length of Train, Test and Validation Data***"
      ],
      "metadata": {
        "id": "6P1XPABx6Rju"
      }
    },
    {
      "cell_type": "code",
      "source": [
        "total_train = len(train_happy_np) + len(train_sad_np) + len(train_angry_np) + len(train_fear_np) + len(train_disgust_np) + len(train_surprise_np) + len(train_neutral_np)\n",
        "total_validation = len(validation_happy_np) + len(validation_sad_np) + len(validation_angry_np) + len(validation_fear_np) + len(validation_disgust_np) + len(validation_surprise_np) + len(validation_neutral_np)\n",
        "total_test = len(test_happy_np) + len(test_sad_np) + len(test_angry_np) + len(test_fear_np) + len(test_disgust_np) + len(test_surprise_np) + len(test_neutral_np)"
      ],
      "metadata": {
        "id": "IUgLhiFI3CZ5"
      },
      "execution_count": 37,
      "outputs": []
    },
    {
      "cell_type": "code",
      "source": [
        "print(f\"Total train : {total_train}\")\n",
        "print(f\"Total test : {total_test}\")\n",
        "print(f\"Total validation : {total_validation}\")"
      ],
      "metadata": {
        "colab": {
          "base_uri": "https://localhost:8080/"
        },
        "id": "cKS8LGXN3CeE",
        "outputId": "3935bf3b-84ac-4be9-e4c8-7a57cd77c479"
      },
      "execution_count": 38,
      "outputs": [
        {
          "output_type": "stream",
          "name": "stdout",
          "text": [
            "Total train : 2450\n",
            "Total test : 783\n",
            "Total validation : 609\n"
          ]
        }
      ]
    },
    {
      "cell_type": "markdown",
      "source": [
        "# ***Print Augmented Images***"
      ],
      "metadata": {
        "id": "Qn1g6z7A7bA-"
      }
    },
    {
      "cell_type": "code",
      "source": [
        "augmented_images = [train_data_gen[0][0][0] for i in range(5)]\n",
        "plotImages(augmented_images)"
      ],
      "metadata": {
        "colab": {
          "base_uri": "https://localhost:8080/",
          "height": 294
        },
        "id": "Fom63UWo3CxD",
        "outputId": "e9a44564-8740-4aa6-9718-1a66520b6f2e"
      },
      "execution_count": 41,
      "outputs": [
        {
          "output_type": "display_data",
          "data": {
            "text/plain": [
              "<Figure size 1440x1440 with 5 Axes>"
            ],
            "image/png": "[encoded data removed]"
          },
          "metadata": {
            "needs_background": "light"
          }
        }
      ]
    },
    {
      "cell_type": "code",
      "source": [
        "augmented_images = [train_data_gen[0][0][0] for i in range(5)]\n",
        "plotImages(augmented_images)"
      ],
      "metadata": {
        "colab": {
          "base_uri": "https://localhost:8080/",
          "height": 294
        },
        "id": "FovGbZxs6yUx",
        "outputId": "a1da881b-48c4-4d6d-ea44-67bbf0d71503"
      },
      "execution_count": 43,
      "outputs": [
        {
          "output_type": "display_data",
          "data": {
            "text/plain": [
              "<Figure size 1440x1440 with 5 Axes>"
            ],
            "image/png": "[encoded data removed]"
          },
          "metadata": {
            "needs_background": "light"
          }
        }
      ]
    },
    {
      "cell_type": "markdown",
      "source": [
        "# ***Model 1***"
      ],
      "metadata": {
        "id": "DnzkwhnK5u_D"
      }
    },
    {
      "cell_type": "markdown",
      "source": [
        "## ***a. Image Generator***"
      ],
      "metadata": {
        "id": "g9FIxZA87BW0"
      }
    },
    {
      "cell_type": "code",
      "source": [
        "image_gen_train = ImageDataGenerator(\n",
        "      rescale=1./255,\n",
        "      rotation_range=45,\n",
        "      width_shift_range=0.15,\n",
        "      height_shift_range=0.15,\n",
        "      #shear_range=0.2,\n",
        "      zoom_range=0.5,\n",
        "      horizontal_flip=False,\n",
        "      fill_mode='nearest')\n",
        "\n",
        "train_data_gen = image_gen_train.flow_from_directory(batch_size=batch_size,\n",
        "                                                     directory=os.path.join(current_working_dir, train_path),\n",
        "                                                     shuffle=True,\n",
        "                                                     target_size=(image_shape,image_shape),\n",
        "                                                     class_mode='sparse')\n",
        "\n",
        "image_gen_val = ImageDataGenerator(rescale=1./255)\n",
        "\n",
        "val_data_gen = image_gen_val.flow_from_directory(batch_size=batch_size,\n",
        "                                                 directory=os.path.join(current_working_dir, validation_path),\n",
        "                                                 target_size=(image_shape, image_shape),\n",
        "                                                 shuffle=True,\n",
        "                                                 class_mode='sparse')"
      ],
      "metadata": {
        "colab": {
          "base_uri": "https://localhost:8080/"
        },
        "id": "aJyBHt8D6yRq",
        "outputId": "f0e8ab38-84c4-4352-88f7-c859af7cf234"
      },
      "execution_count": 42,
      "outputs": [
        {
          "output_type": "stream",
          "name": "stdout",
          "text": [
            "Found 2450 images belonging to 7 classes.\n",
            "Found 609 images belonging to 7 classes.\n"
          ]
        }
      ]
    },
    {
      "cell_type": "markdown",
      "source": [
        "## ***b. Model Build***"
      ],
      "metadata": {
        "id": "EC7peNC35zPc"
      }
    },
    {
      "cell_type": "code",
      "source": [
        "model1 = tf.keras.models.Sequential([\n",
        "    tf.keras.layers.Conv2D(16, (3,3), padding='same', activation='relu', input_shape=(image_shape, image_shape, 3)),\n",
        "    tf.keras.layers.MaxPooling2D(2, 2),\n",
        "\n",
        "    tf.keras.layers.Conv2D(32, (3,3), padding='same', activation='relu'),\n",
        "    tf.keras.layers.MaxPooling2D(2,2),\n",
        "\n",
        "    tf.keras.layers.Conv2D(64, (3,3), padding='same', activation='relu'),\n",
        "    tf.keras.layers.MaxPooling2D(2,2),\n",
        "\n",
        "    tf.keras.layers.Flatten(),\n",
        "    tf.keras.layers.Dropout(0.2),\n",
        "    tf.keras.layers.Dense(512, activation='relu'),\n",
        "    tf.keras.layers.Dropout(0.2),\n",
        "    tf.keras.layers.Dense(7)\n",
        "])"
      ],
      "metadata": {
        "id": "SdUVmykX6ycB"
      },
      "execution_count": 44,
      "outputs": []
    },
    {
      "cell_type": "markdown",
      "source": [
        "## ***c. Model Compile***"
      ],
      "metadata": {
        "id": "8Lqtur4w55mP"
      }
    },
    {
      "cell_type": "code",
      "source": [
        "model1.compile(optimizer='adam',\n",
        "              loss=tf.keras.losses.SparseCategoricalCrossentropy(from_logits=True),\n",
        "              metrics=['accuracy'])"
      ],
      "metadata": {
        "id": "gdGEWeA36yfL"
      },
      "execution_count": 45,
      "outputs": []
    },
    {
      "cell_type": "markdown",
      "source": [
        "## ***d. Model Summary***"
      ],
      "metadata": {
        "id": "qAksk9J-58ie"
      }
    },
    {
      "cell_type": "code",
      "source": [
        "model1.summary()"
      ],
      "metadata": {
        "colab": {
          "base_uri": "https://localhost:8080/"
        },
        "id": "duJvhNA16yiS",
        "outputId": "2a6654e8-adc9-4627-a12c-b05d0d2ead38"
      },
      "execution_count": 46,
      "outputs": [
        {
          "output_type": "stream",
          "name": "stdout",
          "text": [
            "Model: \"sequential\"\n",
            "_________________________________________________________________\n",
            " Layer (type)                Output Shape              Param #   \n",
            "=================================================================\n",
            " conv2d (Conv2D)             (None, 48, 48, 16)        448       \n",
            "                                                                 \n",
            " max_pooling2d (MaxPooling2D  (None, 24, 24, 16)       0         \n",
            " )                                                               \n",
            "                                                                 \n",
            " conv2d_1 (Conv2D)           (None, 24, 24, 32)        4640      \n",
            "                                                                 \n",
            " max_pooling2d_1 (MaxPooling  (None, 12, 12, 32)       0         \n",
            " 2D)                                                             \n",
            "                                                                 \n",
            " conv2d_2 (Conv2D)           (None, 12, 12, 64)        18496     \n",
            "                                                                 \n",
            " max_pooling2d_2 (MaxPooling  (None, 6, 6, 64)         0         \n",
            " 2D)                                                             \n",
            "                                                                 \n",
            " flatten (Flatten)           (None, 2304)              0         \n",
            "                                                                 \n",
            " dropout (Dropout)           (None, 2304)              0         \n",
            "                                                                 \n",
            " dense (Dense)               (None, 512)               1180160   \n",
            "                                                                 \n",
            " dropout_1 (Dropout)         (None, 512)               0         \n",
            "                                                                 \n",
            " dense_1 (Dense)             (None, 7)                 3591      \n",
            "                                                                 \n",
            "=================================================================\n",
            "Total params: 1,207,335\n",
            "Trainable params: 1,207,335\n",
            "Non-trainable params: 0\n",
            "_________________________________________________________________\n"
          ]
        }
      ]
    },
    {
      "cell_type": "markdown",
      "source": [
        "## ***e. Model Fit***"
      ],
      "metadata": {
        "id": "3JaFAWo86Be2"
      }
    },
    {
      "cell_type": "code",
      "source": [
        "epochs=80\n",
        "history1 = model1.fit_generator(\n",
        "    train_data_gen,\n",
        "    steps_per_epoch=int(np.ceil(total_train / float(batch_size))),\n",
        "    epochs=epochs,\n",
        "    validation_data=val_data_gen,\n",
        "    validation_steps=int(np.ceil(total_validation / float(batch_size)))\n",
        ")"
      ],
      "metadata": {
        "colab": {
          "base_uri": "https://localhost:8080/"
        },
        "id": "qQpItDXY3C0u",
        "outputId": "6440f94a-25e7-4907-b27d-ad81773a4dab"
      },
      "execution_count": 47,
      "outputs": [
        {
          "output_type": "stream",
          "name": "stderr",
          "text": [
            "/usr/local/lib/python3.7/dist-packages/ipykernel_launcher.py:7: UserWarning: `Model.fit_generator` is deprecated and will be removed in a future version. Please use `Model.fit`, which supports generators.\n",
            "  import sys\n"
          ]
        },
        {
          "output_type": "stream",
          "name": "stdout",
          "text": [
            "Epoch 1/80\n",
            "25/25 [==============================] - 16s 562ms/step - loss: 1.9527 - accuracy: 0.1531 - val_loss: 1.9419 - val_accuracy: 0.1478\n",
            "Epoch 2/80\n",
            "25/25 [==============================] - 14s 561ms/step - loss: 1.9433 - accuracy: 0.1665 - val_loss: 1.9324 - val_accuracy: 0.1905\n",
            "Epoch 3/80\n",
            "25/25 [==============================] - 14s 560ms/step - loss: 1.9310 - accuracy: 0.1759 - val_loss: 1.9511 - val_accuracy: 0.1461\n",
            "Epoch 4/80\n",
            "25/25 [==============================] - 16s 646ms/step - loss: 1.9234 - accuracy: 0.1771 - val_loss: 1.9326 - val_accuracy: 0.1938\n",
            "Epoch 5/80\n",
            "25/25 [==============================] - 16s 641ms/step - loss: 1.9259 - accuracy: 0.1927 - val_loss: 1.9140 - val_accuracy: 0.2036\n",
            "Epoch 6/80\n",
            "25/25 [==============================] - 12s 485ms/step - loss: 1.9153 - accuracy: 0.1878 - val_loss: 1.9006 - val_accuracy: 0.2036\n",
            "Epoch 7/80\n",
            "25/25 [==============================] - 14s 536ms/step - loss: 1.9046 - accuracy: 0.1996 - val_loss: 1.8890 - val_accuracy: 0.2266\n",
            "Epoch 8/80\n",
            "25/25 [==============================] - 16s 651ms/step - loss: 1.9025 - accuracy: 0.1980 - val_loss: 1.8889 - val_accuracy: 0.2233\n",
            "Epoch 9/80\n",
            "25/25 [==============================] - 14s 578ms/step - loss: 1.9078 - accuracy: 0.2086 - val_loss: 1.8886 - val_accuracy: 0.2282\n",
            "Epoch 10/80\n",
            "25/25 [==============================] - 13s 508ms/step - loss: 1.8990 - accuracy: 0.2110 - val_loss: 1.8699 - val_accuracy: 0.2397\n",
            "Epoch 11/80\n",
            "25/25 [==============================] - 16s 623ms/step - loss: 1.8936 - accuracy: 0.2237 - val_loss: 1.8611 - val_accuracy: 0.2332\n",
            "Epoch 12/80\n",
            "25/25 [==============================] - 15s 607ms/step - loss: 1.8900 - accuracy: 0.2159 - val_loss: 1.8497 - val_accuracy: 0.2693\n",
            "Epoch 13/80\n",
            "25/25 [==============================] - 16s 607ms/step - loss: 1.8762 - accuracy: 0.2241 - val_loss: 1.8530 - val_accuracy: 0.2496\n",
            "Epoch 14/80\n",
            "25/25 [==============================] - 14s 540ms/step - loss: 1.8789 - accuracy: 0.2298 - val_loss: 1.8319 - val_accuracy: 0.2677\n",
            "Epoch 15/80\n",
            "25/25 [==============================] - 13s 526ms/step - loss: 1.8772 - accuracy: 0.2376 - val_loss: 1.8351 - val_accuracy: 0.2775\n",
            "Epoch 16/80\n",
            "25/25 [==============================] - 15s 596ms/step - loss: 1.8612 - accuracy: 0.2367 - val_loss: 1.8211 - val_accuracy: 0.2775\n",
            "Epoch 17/80\n",
            "25/25 [==============================] - 14s 562ms/step - loss: 1.8590 - accuracy: 0.2351 - val_loss: 1.8059 - val_accuracy: 0.2989\n",
            "Epoch 18/80\n",
            "25/25 [==============================] - 14s 556ms/step - loss: 1.8566 - accuracy: 0.2384 - val_loss: 1.8189 - val_accuracy: 0.2808\n",
            "Epoch 19/80\n",
            "25/25 [==============================] - 12s 490ms/step - loss: 1.8551 - accuracy: 0.2641 - val_loss: 1.7955 - val_accuracy: 0.2906\n",
            "Epoch 20/80\n",
            "25/25 [==============================] - 15s 601ms/step - loss: 1.8421 - accuracy: 0.2478 - val_loss: 1.7797 - val_accuracy: 0.3021\n",
            "Epoch 21/80\n",
            "25/25 [==============================] - 15s 577ms/step - loss: 1.8491 - accuracy: 0.2559 - val_loss: 1.7742 - val_accuracy: 0.3103\n",
            "Epoch 22/80\n",
            "25/25 [==============================] - 12s 503ms/step - loss: 1.8435 - accuracy: 0.2465 - val_loss: 1.7709 - val_accuracy: 0.2972\n",
            "Epoch 23/80\n",
            "25/25 [==============================] - 12s 480ms/step - loss: 1.8475 - accuracy: 0.2551 - val_loss: 1.7703 - val_accuracy: 0.3186\n",
            "Epoch 24/80\n",
            "25/25 [==============================] - 14s 571ms/step - loss: 1.8276 - accuracy: 0.2592 - val_loss: 1.7610 - val_accuracy: 0.2989\n",
            "Epoch 25/80\n",
            "25/25 [==============================] - 15s 613ms/step - loss: 1.8400 - accuracy: 0.2506 - val_loss: 1.7757 - val_accuracy: 0.2808\n",
            "Epoch 26/80\n",
            "25/25 [==============================] - 16s 657ms/step - loss: 1.8330 - accuracy: 0.2620 - val_loss: 1.7534 - val_accuracy: 0.3169\n",
            "Epoch 27/80\n",
            "25/25 [==============================] - 15s 601ms/step - loss: 1.8165 - accuracy: 0.2767 - val_loss: 1.7662 - val_accuracy: 0.3021\n",
            "Epoch 28/80\n",
            "25/25 [==============================] - 16s 631ms/step - loss: 1.8175 - accuracy: 0.2645 - val_loss: 1.7327 - val_accuracy: 0.3268\n",
            "Epoch 29/80\n",
            "25/25 [==============================] - 13s 518ms/step - loss: 1.8179 - accuracy: 0.2776 - val_loss: 1.7313 - val_accuracy: 0.3202\n",
            "Epoch 30/80\n",
            "25/25 [==============================] - 12s 482ms/step - loss: 1.8159 - accuracy: 0.2596 - val_loss: 1.7122 - val_accuracy: 0.3300\n",
            "Epoch 31/80\n",
            "25/25 [==============================] - 14s 543ms/step - loss: 1.8207 - accuracy: 0.2657 - val_loss: 1.7328 - val_accuracy: 0.3186\n",
            "Epoch 32/80\n",
            "25/25 [==============================] - 14s 557ms/step - loss: 1.8033 - accuracy: 0.2780 - val_loss: 1.6965 - val_accuracy: 0.3300\n",
            "Epoch 33/80\n",
            "25/25 [==============================] - 12s 490ms/step - loss: 1.8072 - accuracy: 0.2710 - val_loss: 1.7316 - val_accuracy: 0.3021\n",
            "Epoch 34/80\n",
            "25/25 [==============================] - 12s 487ms/step - loss: 1.8242 - accuracy: 0.2665 - val_loss: 1.7035 - val_accuracy: 0.3465\n",
            "Epoch 35/80\n",
            "25/25 [==============================] - 12s 482ms/step - loss: 1.7881 - accuracy: 0.2837 - val_loss: 1.7055 - val_accuracy: 0.3415\n",
            "Epoch 36/80\n",
            "25/25 [==============================] - 16s 634ms/step - loss: 1.7874 - accuracy: 0.2959 - val_loss: 1.6797 - val_accuracy: 0.3465\n",
            "Epoch 37/80\n",
            "25/25 [==============================] - 15s 614ms/step - loss: 1.7998 - accuracy: 0.2784 - val_loss: 1.6531 - val_accuracy: 0.3547\n",
            "Epoch 38/80\n",
            "25/25 [==============================] - 16s 653ms/step - loss: 1.7857 - accuracy: 0.2824 - val_loss: 1.6329 - val_accuracy: 0.3514\n",
            "Epoch 39/80\n",
            "25/25 [==============================] - 14s 560ms/step - loss: 1.7781 - accuracy: 0.2890 - val_loss: 1.6410 - val_accuracy: 0.3645\n",
            "Epoch 40/80\n",
            "25/25 [==============================] - 14s 567ms/step - loss: 1.7822 - accuracy: 0.2902 - val_loss: 1.6704 - val_accuracy: 0.3547\n",
            "Epoch 41/80\n",
            "25/25 [==============================] - 14s 544ms/step - loss: 1.7804 - accuracy: 0.3033 - val_loss: 1.6496 - val_accuracy: 0.3629\n",
            "Epoch 42/80\n",
            "25/25 [==============================] - 13s 520ms/step - loss: 1.7763 - accuracy: 0.2967 - val_loss: 1.6282 - val_accuracy: 0.3744\n",
            "Epoch 43/80\n",
            "25/25 [==============================] - 13s 503ms/step - loss: 1.7662 - accuracy: 0.3065 - val_loss: 1.6582 - val_accuracy: 0.3514\n",
            "Epoch 44/80\n",
            "25/25 [==============================] - 16s 637ms/step - loss: 1.7551 - accuracy: 0.3147 - val_loss: 1.6337 - val_accuracy: 0.3711\n",
            "Epoch 45/80\n",
            "25/25 [==============================] - 12s 475ms/step - loss: 1.7621 - accuracy: 0.3073 - val_loss: 1.5833 - val_accuracy: 0.3859\n",
            "Epoch 46/80\n",
            "25/25 [==============================] - 12s 484ms/step - loss: 1.7567 - accuracy: 0.3118 - val_loss: 1.6043 - val_accuracy: 0.3842\n",
            "Epoch 47/80\n",
            "25/25 [==============================] - 12s 479ms/step - loss: 1.7638 - accuracy: 0.3102 - val_loss: 1.6290 - val_accuracy: 0.3842\n",
            "Epoch 48/80\n",
            "25/25 [==============================] - 12s 479ms/step - loss: 1.7620 - accuracy: 0.2931 - val_loss: 1.5936 - val_accuracy: 0.3826\n",
            "Epoch 49/80\n",
            "25/25 [==============================] - 12s 479ms/step - loss: 1.7663 - accuracy: 0.2967 - val_loss: 1.5682 - val_accuracy: 0.4138\n",
            "Epoch 50/80\n",
            "25/25 [==============================] - 12s 485ms/step - loss: 1.7623 - accuracy: 0.2963 - val_loss: 1.5439 - val_accuracy: 0.4171\n",
            "Epoch 51/80\n",
            "25/25 [==============================] - 12s 492ms/step - loss: 1.7474 - accuracy: 0.3086 - val_loss: 1.5629 - val_accuracy: 0.3974\n",
            "Epoch 52/80\n",
            "25/25 [==============================] - 15s 611ms/step - loss: 1.7353 - accuracy: 0.3233 - val_loss: 1.5166 - val_accuracy: 0.4187\n",
            "Epoch 53/80\n",
            "25/25 [==============================] - 14s 535ms/step - loss: 1.7503 - accuracy: 0.3045 - val_loss: 1.5221 - val_accuracy: 0.4269\n",
            "Epoch 54/80\n",
            "25/25 [==============================] - 13s 519ms/step - loss: 1.7243 - accuracy: 0.3176 - val_loss: 1.5446 - val_accuracy: 0.4023\n",
            "Epoch 55/80\n",
            "25/25 [==============================] - 13s 514ms/step - loss: 1.7387 - accuracy: 0.3090 - val_loss: 1.5215 - val_accuracy: 0.4302\n",
            "Epoch 56/80\n",
            "25/25 [==============================] - 17s 664ms/step - loss: 1.7273 - accuracy: 0.3216 - val_loss: 1.4936 - val_accuracy: 0.4417\n",
            "Epoch 57/80\n",
            "25/25 [==============================] - 15s 578ms/step - loss: 1.7020 - accuracy: 0.3327 - val_loss: 1.4791 - val_accuracy: 0.4614\n",
            "Epoch 58/80\n",
            "25/25 [==============================] - 13s 522ms/step - loss: 1.6978 - accuracy: 0.3388 - val_loss: 1.4489 - val_accuracy: 0.4745\n",
            "Epoch 59/80\n",
            "25/25 [==============================] - 12s 491ms/step - loss: 1.7062 - accuracy: 0.3355 - val_loss: 1.4741 - val_accuracy: 0.4663\n",
            "Epoch 60/80\n",
            "25/25 [==============================] - 12s 480ms/step - loss: 1.7165 - accuracy: 0.3294 - val_loss: 1.4882 - val_accuracy: 0.4598\n",
            "Epoch 61/80\n",
            "25/25 [==============================] - 15s 581ms/step - loss: 1.7077 - accuracy: 0.3343 - val_loss: 1.4702 - val_accuracy: 0.4548\n",
            "Epoch 62/80\n",
            "25/25 [==============================] - 12s 482ms/step - loss: 1.6942 - accuracy: 0.3396 - val_loss: 1.4537 - val_accuracy: 0.4417\n",
            "Epoch 63/80\n",
            "25/25 [==============================] - 12s 486ms/step - loss: 1.6995 - accuracy: 0.3355 - val_loss: 1.4156 - val_accuracy: 0.4762\n",
            "Epoch 64/80\n",
            "25/25 [==============================] - 12s 486ms/step - loss: 1.6783 - accuracy: 0.3453 - val_loss: 1.4336 - val_accuracy: 0.4417\n",
            "Epoch 65/80\n",
            "25/25 [==============================] - 12s 475ms/step - loss: 1.6804 - accuracy: 0.3543 - val_loss: 1.4298 - val_accuracy: 0.4614\n",
            "Epoch 66/80\n",
            "25/25 [==============================] - 12s 472ms/step - loss: 1.6804 - accuracy: 0.3416 - val_loss: 1.4447 - val_accuracy: 0.4516\n",
            "Epoch 67/80\n",
            "25/25 [==============================] - 12s 484ms/step - loss: 1.6760 - accuracy: 0.3429 - val_loss: 1.3995 - val_accuracy: 0.4877\n",
            "Epoch 68/80\n",
            "25/25 [==============================] - 12s 473ms/step - loss: 1.6723 - accuracy: 0.3576 - val_loss: 1.3984 - val_accuracy: 0.4696\n",
            "Epoch 69/80\n",
            "25/25 [==============================] - 12s 479ms/step - loss: 1.6548 - accuracy: 0.3576 - val_loss: 1.3749 - val_accuracy: 0.4926\n",
            "Epoch 70/80\n",
            "25/25 [==============================] - 12s 478ms/step - loss: 1.6492 - accuracy: 0.3620 - val_loss: 1.3589 - val_accuracy: 0.5041\n",
            "Epoch 71/80\n",
            "25/25 [==============================] - 12s 481ms/step - loss: 1.6751 - accuracy: 0.3465 - val_loss: 1.3819 - val_accuracy: 0.5008\n",
            "Epoch 72/80\n",
            "25/25 [==============================] - 14s 555ms/step - loss: 1.6535 - accuracy: 0.3624 - val_loss: 1.3560 - val_accuracy: 0.5090\n",
            "Epoch 73/80\n",
            "25/25 [==============================] - 16s 613ms/step - loss: 1.6396 - accuracy: 0.3731 - val_loss: 1.3571 - val_accuracy: 0.5107\n",
            "Epoch 74/80\n",
            "25/25 [==============================] - 15s 599ms/step - loss: 1.6361 - accuracy: 0.3780 - val_loss: 1.3270 - val_accuracy: 0.5255\n",
            "Epoch 75/80\n",
            "25/25 [==============================] - 13s 533ms/step - loss: 1.6471 - accuracy: 0.3649 - val_loss: 1.3403 - val_accuracy: 0.5123\n",
            "Epoch 76/80\n",
            "25/25 [==============================] - 13s 529ms/step - loss: 1.6482 - accuracy: 0.3580 - val_loss: 1.3948 - val_accuracy: 0.4631\n",
            "Epoch 77/80\n",
            "25/25 [==============================] - 12s 482ms/step - loss: 1.6399 - accuracy: 0.3624 - val_loss: 1.3708 - val_accuracy: 0.4893\n",
            "Epoch 78/80\n",
            "25/25 [==============================] - 15s 587ms/step - loss: 1.6201 - accuracy: 0.3849 - val_loss: 1.2920 - val_accuracy: 0.5369\n",
            "Epoch 79/80\n",
            "25/25 [==============================] - 18s 718ms/step - loss: 1.6434 - accuracy: 0.3678 - val_loss: 1.2986 - val_accuracy: 0.5468\n",
            "Epoch 80/80\n",
            "25/25 [==============================] - 14s 559ms/step - loss: 1.6359 - accuracy: 0.3604 - val_loss: 1.2931 - val_accuracy: 0.5353\n"
          ]
        }
      ]
    },
    {
      "cell_type": "markdown",
      "source": [
        "## ***f. Model Plot***"
      ],
      "metadata": {
        "id": "GH3yGgMG6x2o"
      }
    },
    {
      "cell_type": "code",
      "source": [
        "acc_1 = history1.history['accuracy']\n",
        "val_acc_1 = history1.history['val_accuracy']\n",
        "\n",
        "loss_1 = history1.history['loss']\n",
        "val_loss_1 = history1.history['val_loss']\n",
        "\n",
        "epochs_range = range(epochs)\n",
        "\n",
        "plt.figure(figsize=(8, 8))\n",
        "plt.subplot(1, 2, 1)\n",
        "plt.plot(epochs_range, acc_1, label='Training Accuracy')\n",
        "plt.plot(epochs_range, val_acc_1, label='Validation Accuracy')\n",
        "plt.legend(loc='lower right')\n",
        "plt.title('Training and Validation Accuracy')\n",
        "\n",
        "plt.subplot(1, 2, 2)\n",
        "plt.plot(epochs_range, loss_1, label='Training Loss')\n",
        "plt.plot(epochs_range, val_loss_1, label='Validation Loss')\n",
        "plt.legend(loc='upper right')\n",
        "plt.title('Training and Validation Loss')\n",
        "plt.show()"
      ],
      "metadata": {
        "colab": {
          "base_uri": "https://localhost:8080/",
          "height": 499
        },
        "id": "PQfm8wmz7927",
        "outputId": "997ba6d7-43fa-4906-82d2-c0344462fe95"
      },
      "execution_count": 48,
      "outputs": [
        {
          "output_type": "display_data",
          "data": {
            "text/plain": [
              "<Figure size 576x576 with 2 Axes>"
            ],
            "image/png": "[encoded data removed]"
          },
          "metadata": {
            "needs_background": "light"
          }
        }
      ]
    },
    {
      "cell_type": "markdown",
      "source": [
        "# ***Model 2***"
      ],
      "metadata": {
        "id": "es0a5rz-8Bqq"
      }
    },
    {
      "cell_type": "markdown",
      "source": [
        "## ***a. Image Generator***"
      ],
      "metadata": {
        "id": "pTUPHyTO8H8L"
      }
    },
    {
      "cell_type": "code",
      "source": [
        "image_gen_train = ImageDataGenerator(\n",
        "      rescale=1./255,\n",
        "      rotation_range=180,\n",
        "      width_shift_range=0.10,\n",
        "      height_shift_range=0.10,\n",
        "      #shear_range=0.2,\n",
        "      zoom_range=0.5,\n",
        "      horizontal_flip=False,\n",
        "      vertical_flip=True,\n",
        "      fill_mode='nearest')\n",
        "\n",
        "train_data_gen = image_gen_train.flow_from_directory(batch_size=batch_size,\n",
        "                                                     directory=os.path.join(current_working_dir, train_path),\n",
        "                                                     shuffle=True,\n",
        "                                                     target_size=(image_shape,image_shape),\n",
        "                                                     class_mode='sparse')\n",
        "\n",
        "image_gen_val = ImageDataGenerator(rescale=1./255)\n",
        "\n",
        "val_data_gen = image_gen_val.flow_from_directory(batch_size=batch_size,\n",
        "                                                 directory=os.path.join(current_working_dir, validation_path),\n",
        "                                                 target_size=(image_shape, image_shape),\n",
        "                                                 shuffle=True,\n",
        "                                                 class_mode='sparse')"
      ],
      "metadata": {
        "id": "vWOAPEi98LsS"
      },
      "execution_count": null,
      "outputs": []
    },
    {
      "cell_type": "markdown",
      "source": [
        "## ***b. Model Build***"
      ],
      "metadata": {
        "id": "ZZKH8eZb8R9O"
      }
    },
    {
      "cell_type": "code",
      "source": [
        "model2 = tf.keras.models.Sequential([\n",
        "    tf.keras.layers.Conv2D(16, (3,3), padding='same', activation='relu', input_shape=(image_shape, image_shape, 3)),\n",
        "    tf.keras.layers.Conv2D(16, (3,3), padding='same', activation='relu'),\n",
        "    tf.keras.layers.MaxPooling2D(2, 2),\n",
        "\n",
        "    tf.keras.layers.Conv2D(32, (3,3), padding='same', activation='relu'),\n",
        "    tf.keras.layers.Conv2D(32, (3,3), padding='same', activation='relu'),\n",
        "    tf.keras.layers.MaxPooling2D(2,2),\n",
        "\n",
        "    tf.keras.layers.Conv2D(64, (3,3), padding='same', activation='relu'),\n",
        "    tf.keras.layers.Conv2D(64, (3,3), padding='same', activation='relu'),\n",
        "    tf.keras.layers.MaxPooling2D(2,2),\n",
        "\n",
        "    tf.keras.layers.Conv2D(128, (3,3), padding='same', activation='relu'),\n",
        "    tf.keras.layers.Conv2D(128, (3,3), padding='same', activation='relu'),\n",
        "    tf.keras.layers.MaxPooling2D(2,2),\n",
        "\n",
        "    tf.keras.layers.Flatten(),\n",
        "    tf.keras.layers.Dense(256, activation=tf.nn.relu),\n",
        "    tf.keras.layers.Dropout(0.2),\n",
        "    \n",
        "    tf.keras.layers.Dense(7)\n",
        "])\n"
      ],
      "metadata": {
        "colab": {
          "base_uri": "https://localhost:8080/"
        },
        "id": "jluKgys2FGaG",
        "outputId": "ab9d886a-df2f-4bb4-9775-741971944f66"
      },
      "execution_count": 49,
      "outputs": [
        {
          "metadata": {
            "tags": null
          },
          "name": "stdout",
          "output_type": "stream",
          "text": [
            "Found 2450 images belonging to 7 classes.\n",
            "Found 609 images belonging to 7 classes.\n",
            "Model: \"sequential_1\"\n",
            "_________________________________________________________________\n",
            " Layer (type)                Output Shape              Param #   \n",
            "=================================================================\n",
            " conv2d_3 (Conv2D)           (None, 48, 48, 16)        448       \n",
            "                                                                 \n",
            " conv2d_4 (Conv2D)           (None, 48, 48, 16)        2320      \n",
            "                                                                 \n",
            " max_pooling2d_3 (MaxPooling  (None, 24, 24, 16)       0         \n",
            " 2D)                                                             \n",
            "                                                                 \n",
            " conv2d_5 (Conv2D)           (None, 24, 24, 32)        4640      \n",
            "                                                                 \n",
            " conv2d_6 (Conv2D)           (None, 24, 24, 32)        9248      \n",
            "                                                                 \n",
            " max_pooling2d_4 (MaxPooling  (None, 12, 12, 32)       0         \n",
            " 2D)                                                             \n",
            "                                                                 \n",
            " conv2d_7 (Conv2D)           (None, 12, 12, 64)        18496     \n",
            "                                                                 \n",
            " conv2d_8 (Conv2D)           (None, 12, 12, 64)        36928     \n",
            "                                                                 \n",
            " max_pooling2d_5 (MaxPooling  (None, 6, 6, 64)         0         \n",
            " 2D)                                                             \n",
            "                                                                 \n",
            " conv2d_9 (Conv2D)           (None, 6, 6, 128)         73856     \n",
            "                                                                 \n",
            " conv2d_10 (Conv2D)          (None, 6, 6, 128)         147584    \n",
            "                                                                 \n",
            " max_pooling2d_6 (MaxPooling  (None, 3, 3, 128)        0         \n",
            " 2D)                                                             \n",
            "                                                                 \n",
            " flatten_1 (Flatten)         (None, 1152)              0         \n",
            "                                                                 \n",
            " dense_2 (Dense)             (None, 256)               295168    \n",
            "                                                                 \n",
            " dropout_2 (Dropout)         (None, 256)               0         \n",
            "                                                                 \n",
            " dense_3 (Dense)             (None, 7)                 1799      \n",
            "                                                                 \n",
            "=================================================================\n",
            "Total params: 590,487\n",
            "Trainable params: 590,487\n",
            "Non-trainable params: 0\n",
            "_________________________________________________________________\n"
          ]
        },
        {
          "metadata": {
            "tags": null
          },
          "name": "stderr",
          "output_type": "stream",
          "text": [
            "/usr/local/lib/python3.7/dist-packages/ipykernel_launcher.py:59: UserWarning: `Model.fit_generator` is deprecated and will be removed in a future version. Please use `Model.fit`, which supports generators.\n"
          ]
        },
        {
          "output_type": "stream",
          "name": "stdout",
          "text": [
            "Epoch 1/80\n",
            "25/25 [==============================] - 32s 1s/step - loss: 1.9473 - accuracy: 0.1453 - val_loss: 1.9458 - val_accuracy: 0.1429\n",
            "Epoch 2/80\n",
            "25/25 [==============================] - 26s 1s/step - loss: 1.9461 - accuracy: 0.1392 - val_loss: 1.9457 - val_accuracy: 0.1511\n",
            "Epoch 3/80\n",
            "25/25 [==============================] - 28s 1s/step - loss: 1.9458 - accuracy: 0.1510 - val_loss: 1.9428 - val_accuracy: 0.1478\n",
            "Epoch 4/80\n",
            "25/25 [==============================] - 25s 983ms/step - loss: 1.9460 - accuracy: 0.1457 - val_loss: 1.9458 - val_accuracy: 0.1429\n",
            "Epoch 5/80\n",
            "25/25 [==============================] - 25s 999ms/step - loss: 1.9451 - accuracy: 0.1453 - val_loss: 1.9440 - val_accuracy: 0.1494\n",
            "Epoch 6/80\n",
            "25/25 [==============================] - 25s 1s/step - loss: 1.9453 - accuracy: 0.1433 - val_loss: 1.9462 - val_accuracy: 0.1429\n",
            "Epoch 7/80\n",
            "25/25 [==============================] - 25s 978ms/step - loss: 1.9459 - accuracy: 0.1388 - val_loss: 1.9432 - val_accuracy: 0.1314\n",
            "Epoch 8/80\n",
            "25/25 [==============================] - 25s 975ms/step - loss: 1.9437 - accuracy: 0.1502 - val_loss: 1.9410 - val_accuracy: 0.1576\n",
            "Epoch 9/80\n",
            "25/25 [==============================] - 25s 998ms/step - loss: 1.9400 - accuracy: 0.1502 - val_loss: 1.9434 - val_accuracy: 0.1626\n",
            "Epoch 10/80\n",
            "25/25 [==============================] - 24s 971ms/step - loss: 1.9374 - accuracy: 0.1653 - val_loss: 1.9424 - val_accuracy: 0.1593\n",
            "Epoch 11/80\n",
            "25/25 [==============================] - 25s 981ms/step - loss: 1.9368 - accuracy: 0.1653 - val_loss: 1.9389 - val_accuracy: 0.1675\n",
            "Epoch 12/80\n",
            "25/25 [==============================] - 25s 974ms/step - loss: 1.9334 - accuracy: 0.1755 - val_loss: 1.9300 - val_accuracy: 0.1856\n",
            "Epoch 13/80\n",
            "25/25 [==============================] - 25s 978ms/step - loss: 1.9312 - accuracy: 0.1731 - val_loss: 1.9280 - val_accuracy: 0.1921\n",
            "Epoch 14/80\n",
            "25/25 [==============================] - 25s 980ms/step - loss: 1.9320 - accuracy: 0.1771 - val_loss: 1.9291 - val_accuracy: 0.1741\n",
            "Epoch 15/80\n",
            "25/25 [==============================] - 25s 977ms/step - loss: 1.9335 - accuracy: 0.1686 - val_loss: 1.9370 - val_accuracy: 0.1576\n",
            "Epoch 16/80\n",
            "25/25 [==============================] - 25s 976ms/step - loss: 1.9276 - accuracy: 0.1727 - val_loss: 1.9336 - val_accuracy: 0.1757\n",
            "Epoch 17/80\n",
            "25/25 [==============================] - 25s 984ms/step - loss: 1.9273 - accuracy: 0.1833 - val_loss: 1.9256 - val_accuracy: 0.1856\n",
            "Epoch 18/80\n",
            "25/25 [==============================] - 25s 994ms/step - loss: 1.9215 - accuracy: 0.1808 - val_loss: 1.9327 - val_accuracy: 0.1593\n",
            "Epoch 19/80\n",
            "25/25 [==============================] - 25s 974ms/step - loss: 1.9226 - accuracy: 0.1939 - val_loss: 1.9204 - val_accuracy: 0.2053\n",
            "Epoch 20/80\n",
            "25/25 [==============================] - 25s 975ms/step - loss: 1.9232 - accuracy: 0.1857 - val_loss: 1.9149 - val_accuracy: 0.1921\n",
            "Epoch 21/80\n",
            "25/25 [==============================] - 25s 981ms/step - loss: 1.9199 - accuracy: 0.1771 - val_loss: 1.9237 - val_accuracy: 0.1839\n",
            "Epoch 22/80\n",
            "25/25 [==============================] - 25s 972ms/step - loss: 1.9243 - accuracy: 0.1812 - val_loss: 1.9161 - val_accuracy: 0.1790\n",
            "Epoch 23/80\n",
            "25/25 [==============================] - 25s 982ms/step - loss: 1.9219 - accuracy: 0.1914 - val_loss: 1.9351 - val_accuracy: 0.1609\n",
            "Epoch 24/80\n",
            "25/25 [==============================] - 25s 977ms/step - loss: 1.9248 - accuracy: 0.1845 - val_loss: 1.9168 - val_accuracy: 0.2020\n",
            "Epoch 25/80\n",
            "25/25 [==============================] - 25s 984ms/step - loss: 1.9135 - accuracy: 0.1931 - val_loss: 1.9122 - val_accuracy: 0.2020\n",
            "Epoch 26/80\n",
            "25/25 [==============================] - 25s 983ms/step - loss: 1.9203 - accuracy: 0.1845 - val_loss: 1.9082 - val_accuracy: 0.1970\n",
            "Epoch 27/80\n",
            "25/25 [==============================] - 25s 984ms/step - loss: 1.9140 - accuracy: 0.1939 - val_loss: 1.9136 - val_accuracy: 0.2053\n",
            "Epoch 28/80\n",
            "25/25 [==============================] - 25s 984ms/step - loss: 1.9166 - accuracy: 0.1886 - val_loss: 1.9340 - val_accuracy: 0.1675\n",
            "Epoch 29/80\n",
            "25/25 [==============================] - 25s 986ms/step - loss: 1.9237 - accuracy: 0.1829 - val_loss: 1.9168 - val_accuracy: 0.2102\n",
            "Epoch 30/80\n",
            "25/25 [==============================] - 25s 984ms/step - loss: 1.9269 - accuracy: 0.1747 - val_loss: 1.9228 - val_accuracy: 0.1954\n",
            "Epoch 31/80\n",
            "25/25 [==============================] - 25s 979ms/step - loss: 1.9178 - accuracy: 0.1902 - val_loss: 1.9202 - val_accuracy: 0.2003\n",
            "Epoch 32/80\n",
            "25/25 [==============================] - 25s 1s/step - loss: 1.9162 - accuracy: 0.1914 - val_loss: 1.9102 - val_accuracy: 0.1921\n",
            "Epoch 33/80\n",
            "25/25 [==============================] - 25s 984ms/step - loss: 1.9164 - accuracy: 0.1882 - val_loss: 1.9216 - val_accuracy: 0.1905\n",
            "Epoch 34/80\n",
            "25/25 [==============================] - 29s 1s/step - loss: 1.9119 - accuracy: 0.1947 - val_loss: 1.9176 - val_accuracy: 0.1970\n",
            "Epoch 35/80\n",
            "25/25 [==============================] - 32s 1s/step - loss: 1.9124 - accuracy: 0.1914 - val_loss: 1.9038 - val_accuracy: 0.2069\n",
            "Epoch 36/80\n",
            "25/25 [==============================] - 33s 1s/step - loss: 1.9158 - accuracy: 0.1894 - val_loss: 1.9044 - val_accuracy: 0.1970\n",
            "Epoch 37/80\n",
            "25/25 [==============================] - 33s 1s/step - loss: 1.9110 - accuracy: 0.1759 - val_loss: 1.9028 - val_accuracy: 0.1921\n",
            "Epoch 38/80\n",
            "25/25 [==============================] - 27s 1s/step - loss: 1.9100 - accuracy: 0.1959 - val_loss: 1.9097 - val_accuracy: 0.2167\n",
            "Epoch 39/80\n",
            "25/25 [==============================] - 27s 1s/step - loss: 1.9098 - accuracy: 0.1886 - val_loss: 1.9035 - val_accuracy: 0.2069\n",
            "Epoch 40/80\n",
            "25/25 [==============================] - 27s 1s/step - loss: 1.9122 - accuracy: 0.1959 - val_loss: 1.8996 - val_accuracy: 0.1987\n",
            "Epoch 41/80\n",
            "25/25 [==============================] - 25s 985ms/step - loss: 1.9088 - accuracy: 0.2061 - val_loss: 1.9101 - val_accuracy: 0.1970\n",
            "Epoch 42/80\n",
            "25/25 [==============================] - 25s 982ms/step - loss: 1.9080 - accuracy: 0.2000 - val_loss: 1.9062 - val_accuracy: 0.1839\n",
            "Epoch 43/80\n",
            "25/25 [==============================] - 25s 984ms/step - loss: 1.9119 - accuracy: 0.2020 - val_loss: 1.9052 - val_accuracy: 0.2118\n",
            "Epoch 44/80\n",
            "25/25 [==============================] - 25s 987ms/step - loss: 1.9119 - accuracy: 0.1967 - val_loss: 1.9047 - val_accuracy: 0.2102\n",
            "Epoch 45/80\n",
            "25/25 [==============================] - 25s 982ms/step - loss: 1.9102 - accuracy: 0.2033 - val_loss: 1.9095 - val_accuracy: 0.1888\n",
            "Epoch 46/80\n",
            "25/25 [==============================] - 25s 979ms/step - loss: 1.9150 - accuracy: 0.1873 - val_loss: 1.9001 - val_accuracy: 0.1823\n",
            "Epoch 47/80\n",
            "25/25 [==============================] - 25s 980ms/step - loss: 1.9113 - accuracy: 0.1914 - val_loss: 1.9096 - val_accuracy: 0.2118\n",
            "Epoch 48/80\n",
            "25/25 [==============================] - 25s 978ms/step - loss: 1.9101 - accuracy: 0.2004 - val_loss: 1.9107 - val_accuracy: 0.1970\n",
            "Epoch 49/80\n",
            "25/25 [==============================] - 25s 986ms/step - loss: 1.9127 - accuracy: 0.1861 - val_loss: 1.9010 - val_accuracy: 0.2053\n",
            "Epoch 50/80\n",
            "25/25 [==============================] - 25s 989ms/step - loss: 1.9032 - accuracy: 0.1984 - val_loss: 1.9024 - val_accuracy: 0.2102\n",
            "Epoch 51/80\n",
            "25/25 [==============================] - 25s 986ms/step - loss: 1.9087 - accuracy: 0.1947 - val_loss: 1.9100 - val_accuracy: 0.2102\n",
            "Epoch 52/80\n",
            "25/25 [==============================] - 25s 976ms/step - loss: 1.9082 - accuracy: 0.1878 - val_loss: 1.9031 - val_accuracy: 0.2200\n",
            "Epoch 53/80\n",
            "25/25 [==============================] - 25s 982ms/step - loss: 1.9068 - accuracy: 0.1984 - val_loss: 1.9003 - val_accuracy: 0.1856\n",
            "Epoch 54/80\n",
            "25/25 [==============================] - 25s 980ms/step - loss: 1.9044 - accuracy: 0.1963 - val_loss: 1.9019 - val_accuracy: 0.2299\n",
            "Epoch 55/80\n",
            "25/25 [==============================] - 25s 978ms/step - loss: 1.9092 - accuracy: 0.1829 - val_loss: 1.9093 - val_accuracy: 0.1905\n",
            "Epoch 56/80\n",
            "25/25 [==============================] - 25s 978ms/step - loss: 1.9133 - accuracy: 0.1947 - val_loss: 1.9100 - val_accuracy: 0.2167\n",
            "Epoch 57/80\n",
            "25/25 [==============================] - 25s 979ms/step - loss: 1.9018 - accuracy: 0.2000 - val_loss: 1.8975 - val_accuracy: 0.2184\n",
            "Epoch 58/80\n",
            "25/25 [==============================] - 25s 984ms/step - loss: 1.9072 - accuracy: 0.1943 - val_loss: 1.9105 - val_accuracy: 0.2069\n",
            "Epoch 59/80\n",
            "25/25 [==============================] - 25s 983ms/step - loss: 1.9052 - accuracy: 0.1988 - val_loss: 1.8995 - val_accuracy: 0.2118\n",
            "Epoch 60/80\n",
            "25/25 [==============================] - 25s 984ms/step - loss: 1.8996 - accuracy: 0.1980 - val_loss: 1.9335 - val_accuracy: 0.1856\n",
            "Epoch 61/80\n",
            "25/25 [==============================] - 25s 985ms/step - loss: 1.9027 - accuracy: 0.2020 - val_loss: 1.9189 - val_accuracy: 0.1905\n",
            "Epoch 62/80\n",
            "25/25 [==============================] - 25s 978ms/step - loss: 1.9091 - accuracy: 0.1894 - val_loss: 1.9014 - val_accuracy: 0.2135\n",
            "Epoch 63/80\n",
            "25/25 [==============================] - 25s 993ms/step - loss: 1.9055 - accuracy: 0.1927 - val_loss: 1.9011 - val_accuracy: 0.2250\n",
            "Epoch 64/80\n",
            "25/25 [==============================] - 25s 981ms/step - loss: 1.9044 - accuracy: 0.1967 - val_loss: 1.9044 - val_accuracy: 0.2200\n",
            "Epoch 65/80\n",
            "25/25 [==============================] - 25s 974ms/step - loss: 1.9090 - accuracy: 0.1980 - val_loss: 1.8971 - val_accuracy: 0.2069\n",
            "Epoch 66/80\n",
            "25/25 [==============================] - 25s 976ms/step - loss: 1.9067 - accuracy: 0.1890 - val_loss: 1.8973 - val_accuracy: 0.2069\n",
            "Epoch 67/80\n",
            "25/25 [==============================] - 25s 974ms/step - loss: 1.9038 - accuracy: 0.1951 - val_loss: 1.9014 - val_accuracy: 0.2003\n",
            "Epoch 68/80\n",
            "25/25 [==============================] - 25s 981ms/step - loss: 1.9049 - accuracy: 0.1955 - val_loss: 1.9077 - val_accuracy: 0.1954\n",
            "Epoch 69/80\n",
            "25/25 [==============================] - 25s 977ms/step - loss: 1.9030 - accuracy: 0.2020 - val_loss: 1.8973 - val_accuracy: 0.2036\n",
            "Epoch 70/80\n",
            "25/25 [==============================] - 25s 974ms/step - loss: 1.9041 - accuracy: 0.2045 - val_loss: 1.9020 - val_accuracy: 0.2020\n",
            "Epoch 71/80\n",
            "25/25 [==============================] - 25s 977ms/step - loss: 1.9044 - accuracy: 0.2045 - val_loss: 1.8978 - val_accuracy: 0.1872\n",
            "Epoch 72/80\n",
            "25/25 [==============================] - 25s 993ms/step - loss: 1.9047 - accuracy: 0.2041 - val_loss: 1.9168 - val_accuracy: 0.1856\n",
            "Epoch 73/80\n",
            "25/25 [==============================] - 25s 993ms/step - loss: 1.9028 - accuracy: 0.1980 - val_loss: 1.9059 - val_accuracy: 0.1954\n",
            "Epoch 74/80\n",
            "25/25 [==============================] - 25s 983ms/step - loss: 1.9132 - accuracy: 0.1935 - val_loss: 1.8925 - val_accuracy: 0.2085\n",
            "Epoch 75/80\n",
            "25/25 [==============================] - 25s 984ms/step - loss: 1.8976 - accuracy: 0.2049 - val_loss: 1.9023 - val_accuracy: 0.1954\n",
            "Epoch 76/80\n",
            "25/25 [==============================] - 25s 985ms/step - loss: 1.9001 - accuracy: 0.1967 - val_loss: 1.8923 - val_accuracy: 0.2102\n",
            "Epoch 77/80\n",
            "25/25 [==============================] - 25s 988ms/step - loss: 1.8959 - accuracy: 0.2061 - val_loss: 1.8890 - val_accuracy: 0.2233\n",
            "Epoch 78/80\n",
            "25/25 [==============================] - 25s 980ms/step - loss: 1.9027 - accuracy: 0.1971 - val_loss: 1.8970 - val_accuracy: 0.2266\n",
            "Epoch 79/80\n",
            "25/25 [==============================] - 25s 993ms/step - loss: 1.9028 - accuracy: 0.2029 - val_loss: 1.8889 - val_accuracy: 0.2200\n",
            "Epoch 80/80\n",
            "25/25 [==============================] - 25s 988ms/step - loss: 1.8953 - accuracy: 0.2073 - val_loss: 1.9250 - val_accuracy: 0.1806\n"
          ]
        }
      ]
    },
    {
      "cell_type": "markdown",
      "source": [
        "## ***c. Model Compile***"
      ],
      "metadata": {
        "id": "amAlJfYg8Xsx"
      }
    },
    {
      "cell_type": "code",
      "source": [
        "model2.compile(optimizer='adam',\n",
        "              loss=tf.keras.losses.SparseCategoricalCrossentropy(from_logits=True),\n",
        "              metrics=['accuracy'])"
      ],
      "metadata": {
        "id": "72I9F2kd8iG4"
      },
      "execution_count": null,
      "outputs": []
    },
    {
      "cell_type": "markdown",
      "source": [
        "## ***d. Model Summary***"
      ],
      "metadata": {
        "id": "cpvWMEe38j83"
      }
    },
    {
      "cell_type": "code",
      "source": [
        "model2.summary()"
      ],
      "metadata": {
        "id": "W7NfKK4H8oaj"
      },
      "execution_count": null,
      "outputs": []
    },
    {
      "cell_type": "markdown",
      "source": [
        "## ***e. Model Fit***"
      ],
      "metadata": {
        "id": "NjhR1Dwg8ser"
      }
    },
    {
      "cell_type": "code",
      "source": [
        "epochs=80\n",
        "history2 = model2.fit_generator(\n",
        "    train_data_gen,\n",
        "    steps_per_epoch=int(np.ceil(total_train / float(batch_size))),\n",
        "    epochs=epochs,\n",
        "    validation_data=val_data_gen,\n",
        "    validation_steps=int(np.ceil(total_validation / float(batch_size)))\n",
        ")"
      ],
      "metadata": {
        "id": "VaUkU3xz8wLL"
      },
      "execution_count": null,
      "outputs": []
    },
    {
      "cell_type": "markdown",
      "source": [
        "## ***f. Model Plot***"
      ],
      "metadata": {
        "id": "d08l9T2J87od"
      }
    },
    {
      "cell_type": "code",
      "source": [
        "acc_2 = history2.history['accuracy']\n",
        "val_acc_2 = history2.history['val_accuracy']\n",
        "\n",
        "loss_2 = history2.history['loss']\n",
        "val_loss_2 = history2.history['val_loss']\n",
        "\n",
        "epochs_range = range(epochs)\n",
        "\n",
        "plt.figure(figsize=(8, 8))\n",
        "plt.subplot(1, 2, 1)\n",
        "plt.plot(epochs_range, acc_2, label='Training Accuracy')\n",
        "plt.plot(epochs_range, val_acc_2, label='Validation Accuracy')\n",
        "plt.legend(loc='lower right')\n",
        "plt.title('Training and Validation Accuracy')\n",
        "\n",
        "plt.subplot(1, 2, 2)\n",
        "plt.plot(epochs_range, loss_2, label='Training Loss')\n",
        "plt.plot(epochs_range, val_loss_2, label='Validation Loss')\n",
        "plt.legend(loc='upper right')\n",
        "plt.title('Training and Validation Loss')\n",
        "plt.show()"
      ],
      "metadata": {
        "colab": {
          "base_uri": "https://localhost:8080/",
          "height": 499
        },
        "id": "eWYAL9leIDFD",
        "outputId": "bfdbfec9-a966-4315-acc0-c3decef91964"
      },
      "execution_count": 50,
      "outputs": [
        {
          "output_type": "display_data",
          "data": {
            "text/plain": [
              "<Figure size 576x576 with 2 Axes>"
            ],
            "image/png": "[encoded data removed]"
          },
          "metadata": {
            "needs_background": "light"
          }
        }
      ]
    },
    {
      "cell_type": "markdown",
      "source": [
        "# ***Model 3***"
      ],
      "metadata": {
        "id": "XR8yRvcBBBVQ"
      }
    },
    {
      "cell_type": "markdown",
      "source": [
        "## ***a. Image Generator***"
      ],
      "metadata": {
        "id": "TVgvDAd9BFcS"
      }
    },
    {
      "cell_type": "code",
      "source": [
        "batch_size = 40\n",
        "tf.keras.backend.clear_session()\n",
        "tf.random.set_seed(0)\n",
        "image_gen_train = ImageDataGenerator(\n",
        "      rescale=1./255)\n",
        "\n",
        "train_data_gen = image_gen_train.flow_from_directory(batch_size=batch_size,\n",
        "                                                     directory=os.path.join(current_working_dir, train_path),\n",
        "                                                     shuffle=True,\n",
        "                                                     target_size=(image_shape,image_shape),\n",
        "                                                     class_mode='sparse')\n",
        "\n",
        "image_gen_val = ImageDataGenerator(rescale=1./255)\n",
        "\n",
        "val_data_gen = image_gen_val.flow_from_directory(batch_size=batch_size,\n",
        "                                                 directory=os.path.join(current_working_dir, validation_path),\n",
        "                                                 target_size=(image_shape, image_shape),\n",
        "                                                 shuffle=True,\n",
        "                                                 class_mode='sparse')"
      ],
      "metadata": {
        "colab": {
          "base_uri": "https://localhost:8080/"
        },
        "id": "CoWTG_YQBMg3",
        "outputId": "39f86e96-311c-47f6-ebcc-c0e935e4f7f3"
      },
      "execution_count": 54,
      "outputs": [
        {
          "output_type": "stream",
          "name": "stdout",
          "text": [
            "Found 2450 images belonging to 7 classes.\n",
            "Found 609 images belonging to 7 classes.\n"
          ]
        }
      ]
    },
    {
      "cell_type": "markdown",
      "source": [
        "## ***b. Model Build***"
      ],
      "metadata": {
        "id": "-On_KQ9xBPQJ"
      }
    },
    {
      "cell_type": "code",
      "source": [
        "model3 = Sequential()\n",
        "model3.add(ResNet50(input_shape=(image_shape, image_shape, 3), weights='imagenet', include_top=False))\n",
        "model3.add(GlobalMaxPooling2D())\n",
        "model3.add(Dropout(0.3))\n",
        "model3.add(Dense(7,activation=None))"
      ],
      "metadata": {
        "id": "ALe3o55HBakJ"
      },
      "execution_count": 55,
      "outputs": []
    },
    {
      "cell_type": "markdown",
      "source": [
        "## ***c. Model Compile***"
      ],
      "metadata": {
        "id": "xi263NGrBUcd"
      }
    },
    {
      "cell_type": "code",
      "source": [
        "model3.compile('SGD',\n",
        "              loss=tf.keras.losses.SparseCategoricalCrossentropy(from_logits=True),\n",
        "              metrics=['accuracy'])"
      ],
      "metadata": {
        "id": "FESARnl2J_45"
      },
      "execution_count": 56,
      "outputs": []
    },
    {
      "cell_type": "markdown",
      "source": [
        "## ***d. Model Summary***"
      ],
      "metadata": {
        "id": "0pz0fEdaBc5D"
      }
    },
    {
      "cell_type": "code",
      "source": [
        "model3.summary()"
      ],
      "metadata": {
        "colab": {
          "base_uri": "https://localhost:8080/"
        },
        "id": "c0kdKXBbBhSU",
        "outputId": "6c442c0a-533b-44e4-a2d2-62175604e4bb"
      },
      "execution_count": 57,
      "outputs": [
        {
          "output_type": "stream",
          "name": "stdout",
          "text": [
            "Model: \"sequential\"\n",
            "_________________________________________________________________\n",
            " Layer (type)                Output Shape              Param #   \n",
            "=================================================================\n",
            " resnet50 (Functional)       (None, 2, 2, 2048)        23587712  \n",
            "                                                                 \n",
            " global_max_pooling2d (Globa  (None, 2048)             0         \n",
            " lMaxPooling2D)                                                  \n",
            "                                                                 \n",
            " dropout (Dropout)           (None, 2048)              0         \n",
            "                                                                 \n",
            " dense (Dense)               (None, 7)                 14343     \n",
            "                                                                 \n",
            "=================================================================\n",
            "Total params: 23,602,055\n",
            "Trainable params: 23,548,935\n",
            "Non-trainable params: 53,120\n",
            "_________________________________________________________________\n"
          ]
        }
      ]
    },
    {
      "cell_type": "markdown",
      "source": [
        "## ***e. Model Fit***"
      ],
      "metadata": {
        "id": "dwuPBizIBpUo"
      }
    },
    {
      "cell_type": "code",
      "source": [
        "epochs=20\n",
        "history3 = model3.fit_generator(\n",
        "    train_data_gen,\n",
        "    steps_per_epoch=int(np.ceil(total_train / float(batch_size))),\n",
        "    epochs=epochs,\n",
        "    validation_data=val_data_gen,\n",
        "    validation_steps=int(np.ceil(total_validation / float(batch_size)))\n",
        ")"
      ],
      "metadata": {
        "colab": {
          "base_uri": "https://localhost:8080/"
        },
        "id": "0FLFKZwkBsU0",
        "outputId": "37512ed4-01a3-4749-de6d-b01b21b1c59f"
      },
      "execution_count": null,
      "outputs": [
        {
          "output_type": "stream",
          "name": "stdout",
          "text": [
            "Epoch 1/20\n"
          ]
        },
        {
          "output_type": "stream",
          "name": "stderr",
          "text": [
            "/usr/local/lib/python3.7/dist-packages/ipykernel_launcher.py:7: UserWarning: `Model.fit_generator` is deprecated and will be removed in a future version. Please use `Model.fit`, which supports generators.\n",
            "  import sys\n"
          ]
        },
        {
          "output_type": "stream",
          "name": "stdout",
          "text": [
            "\r 1/62 [..............................] - ETA: 5:50 - loss: 0.0066 - accuracy: 1.0000"
          ]
        }
      ]
    },
    {
      "cell_type": "markdown",
      "source": [
        "## ***f. Model Plot***"
      ],
      "metadata": {
        "id": "B3R-WDV3B18X"
      }
    },
    {
      "cell_type": "code",
      "source": [
        "acc_3 = history3.history['accuracy']\n",
        "val_acc_3 = history3.history['val_accuracy']\n",
        "\n",
        "loss_3 = history3.history['loss']\n",
        "val_loss_3 = history3.history['val_loss']\n",
        "\n",
        "epochs_range = range(epochs)\n",
        "\n",
        "plt.figure(figsize=(8, 8))\n",
        "plt.subplot(1, 2, 1)\n",
        "plt.plot(epochs_range, acc_3, label='Training Accuracy')\n",
        "plt.plot(epochs_range, val_acc_3, label='Validation Accuracy')\n",
        "plt.legend(loc='lower right')\n",
        "plt.title('Training and Validation Accuracy')\n",
        "\n",
        "plt.subplot(1, 2, 2)\n",
        "plt.plot(epochs_range, loss_3, label='Training Loss')\n",
        "plt.plot(epochs_range, val_loss_3, label='Validation Loss')\n",
        "plt.legend(loc='upper right')\n",
        "plt.title('Training and Validation Loss')\n",
        "plt.show()"
      ],
      "metadata": {
        "id": "ymXlj7xaXgks"
      },
      "execution_count": null,
      "outputs": []
    },
    {
      "cell_type": "markdown",
      "source": [
        "# ***Model 4***"
      ],
      "metadata": {
        "id": "us3HdyKDXqRl"
      }
    },
    {
      "cell_type": "markdown",
      "source": [
        "## ***a. Image Generator***"
      ],
      "metadata": {
        "id": "rUaO0HRxX3f9"
      }
    },
    {
      "cell_type": "code",
      "source": [
        "# number of images to feed into the NN for every batch\n",
        "batch_size = 128\n",
        "\n",
        "datagen_train = ImageDataGenerator()\n",
        "datagen_validation = ImageDataGenerator()\n",
        "\n",
        "train_generator = datagen_train.flow_from_directory(os.path.join(current_working_dir, train_path),\n",
        "                                                    target_size=(image_shape,image_shape),\n",
        "                                                    color_mode=\"grayscale\",\n",
        "                                                    batch_size=batch_size,\n",
        "                                                    class_mode='categorical',\n",
        "                                                    shuffle=True)\n",
        "\n",
        "validation_generator = datagen_validation.flow_from_directory(os.path.join(current_working_dir, validation_path),\n",
        "                                                    target_size=(image_shape,image_shape),\n",
        "                                                    color_mode=\"grayscale\",\n",
        "                                                    batch_size=batch_size,\n",
        "                                                    class_mode='categorical',\n",
        "                                                    shuffle=False)"
      ],
      "metadata": {
        "id": "K-bTudEuX6-4"
      },
      "execution_count": null,
      "outputs": []
    },
    {
      "cell_type": "markdown",
      "source": [
        "## ***b. Model Build***"
      ],
      "metadata": {
        "id": "ym6eHV3qYNdB"
      }
    },
    {
      "cell_type": "code",
      "source": [
        "# Initialising the CNN\n",
        "model4 = Sequential()\n",
        "\n",
        "# 1 - Convolution\n",
        "model4.add(Conv2D(64,(3,3), padding='same', input_shape=(48, 48,1)))\n",
        "model4.add(BatchNormalization())\n",
        "model4.add(Activation('relu'))\n",
        "model4.add(MaxPooling2D(pool_size=(2, 2)))\n",
        "model4.add(Dropout(0.25))\n",
        "\n",
        "# 2nd Convolution layer\n",
        "model4.add(Conv2D(128,(5,5), padding='same'))\n",
        "model4.add(BatchNormalization())\n",
        "model4.add(Activation('relu'))\n",
        "model4.add(MaxPooling2D(pool_size=(2, 2)))\n",
        "model4.add(Dropout(0.25))\n",
        "\n",
        "# 3rd Convolution layer\n",
        "model4.add(Conv2D(512,(3,3), padding='same'))\n",
        "model4.add(BatchNormalization())\n",
        "model4.add(Activation('relu'))\n",
        "model4.add(MaxPooling2D(pool_size=(2, 2)))\n",
        "model4.add(Dropout(0.25))\n",
        "\n",
        "# 4th Convolution layer\n",
        "model4.add(Conv2D(512,(3,3), padding='same'))\n",
        "model4.add(BatchNormalization())\n",
        "model4.add(Activation('relu'))\n",
        "model4.add(MaxPooling2D(pool_size=(2, 2)))\n",
        "model4.add(Dropout(0.25))\n",
        "\n",
        "# Flattening\n",
        "model4.add(Flatten())\n",
        "\n",
        "# Fully connected layer 1st layer\n",
        "model4.add(Dense(256))\n",
        "model4.add(BatchNormalization())\n",
        "model4.add(Activation('relu'))\n",
        "model4.add(Dropout(0.25))\n",
        "\n",
        "# Fully connected layer 2nd layer\n",
        "model4.add(Dense(512))\n",
        "model4.add(BatchNormalization())\n",
        "model4.add(Activation('relu'))\n",
        "model4.add(Dropout(0.25))\n",
        "\n",
        "model4.add(Dense(7, activation='softmax'))\n",
        "\n",
        "opt = Adam(lr=0.0001)\n",
        "model4.compile(optimizer=opt, loss='categorical_crossentropy', metrics=['accuracy'])\n",
        "\n",
        "epochs = 50\n",
        "\n",
        "from keras.callbacks import ModelCheckpoint\n",
        "\n",
        "checkpoint = ModelCheckpoint(\"model_weights.h5\", monitor='val_acc', verbose=1, save_best_only=True, mode='max')\n",
        "callbacks_list = [checkpoint]\n",
        "\n",
        "history4 = model4.fit_generator(generator=train_generator,\n",
        "                                steps_per_epoch=train_generator.n//train_generator.batch_size,\n",
        "                                epochs=epochs,\n",
        "                                validation_data = validation_generator,\n",
        "                                validation_steps = validation_generator.n//validation_generator.batch_size,\n",
        "                                callbacks=callbacks_list\n",
        "                                )"
      ],
      "metadata": {
        "id": "Z8CBr4xRYaI_"
      },
      "execution_count": null,
      "outputs": []
    },
    {
      "cell_type": "code",
      "source": [
        "plt.figure(figsize=(20,10))\n",
        "plt.subplot(1, 2, 1)\n",
        "plt.suptitle('Optimizer : Adam', fontsize=10)\n",
        "plt.ylabel('Loss', fontsize=16)\n",
        "plt.plot(history4.history['loss'], label='Training Loss')\n",
        "plt.plot(history4.history['val_loss'], label='Validation Loss')\n",
        "plt.legend(loc='upper right')\n",
        "\n",
        "plt.subplot(1, 2, 2)\n",
        "plt.ylabel('Accuracy', fontsize=16)\n",
        "plt.plot(history4.history['acc'], label='Training Accuracy')\n",
        "plt.plot(history4.history['val_acc'], label='Validation Accuracy')\n",
        "plt.legend(loc='lower right')\n",
        "plt.show()"
      ],
      "metadata": {
        "id": "5WN2nkpUafMW"
      },
      "execution_count": null,
      "outputs": []
    }
  ]
}