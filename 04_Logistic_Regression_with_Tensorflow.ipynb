{
  "cells": [
    {
      "cell_type": "markdown",
      "metadata": {
        "id": "view-in-github",
        "colab_type": "text"
      },
      "source": [
        "<a href=\"https://colab.research.google.com/github/srilamaiti/SM_MIDS_W207_HW/blob/main/04_Logistic_Regression_with_Tensorflow.ipynb\" target=\"_parent\"><img src=\"https://colab.research.google.com/assets/colab-badge.svg\" alt=\"Open In Colab\"/></a>"
      ]
    },
    {
      "cell_type": "markdown",
      "metadata": {
        "id": "MKsRDH5ZUdfasdv"
      },
      "source": [
        "# Lab 4"
      ]
    },
    {
      "cell_type": "markdown",
      "metadata": {
        "id": "43534tdfgs-v"
      },
      "source": [
        "In this lab we will train classifiers for images using [logistic regression](https://en.wikipedia.org/wiki/Logistic_regression) and Tensorflow."
      ]
    },
    {
      "cell_type": "code",
      "execution_count": 1,
      "metadata": {
        "id": "7X58hOMTUH-w"
      },
      "outputs": [],
      "source": [
        "# Import the libraries we'll use below.\n",
        "import numpy as np\n",
        "from matplotlib import pyplot as plt\n",
        "import pandas as pd\n",
        "import seaborn as sns  # for nicer plots\n",
        "sns.set(style=\"darkgrid\")  # default style\n",
        "\n",
        "import tensorflow as tf\n",
        "from tensorflow import keras\n",
        "from keras import metrics\n",
        "tf.get_logger().setLevel('INFO')"
      ]
    },
    {
      "cell_type": "markdown",
      "metadata": {
        "id": "rHLcriKWLRe4"
      },
      "source": [
        "## Understanding the data\n",
        "We'll train models on the [Fashion MNIST](https://github.com/zalandoresearch/fashion-mnist) dataset. This consists of 70,000 grayscale images (28x28). Each image is associated with 1 of 10 classes. The dataset was split by the creators; there are 60,000 training images and 10,000 test images. \n",
        "\n",
        "Fashion MNIST classes:\n",
        "* T-shirt/top\n",
        "* Trouser\n",
        "* Pullover\n",
        "* Dress\n",
        "* Coat\n",
        "* Sandal\n",
        "* Shirt\n",
        "* Sneaker\n",
        "* Bag\n",
        "* Ankle boot\n",
        "\n",
        "Before doing any training (or evaluating), let's make sure we understand what we're working with. "
      ]
    },
    {
      "cell_type": "markdown",
      "metadata": {
        "id": "load_auto_data_set_text"
      },
      "source": [
        "### Load the data\n",
        "Tensorflow includes a growing [library of datasets](https://www.tensorflow.org/datasets/catalog/overview) and makes it easy to load them in numpy arrays."
      ]
    },
    {
      "cell_type": "code",
      "execution_count": 2,
      "metadata": {
        "id": "load_auto_data_set_code",
        "colab": {
          "base_uri": "https://localhost:8080/"
        },
        "outputId": "c329e364-54d3-4eaa-8d6a-a87d3026cc6c"
      },
      "outputs": [
        {
          "output_type": "stream",
          "name": "stdout",
          "text": [
            "Downloading data from https://storage.googleapis.com/tensorflow/tf-keras-datasets/train-labels-idx1-ubyte.gz\n",
            "32768/29515 [=================================] - 0s 0us/step\n",
            "40960/29515 [=========================================] - 0s 0us/step\n",
            "Downloading data from https://storage.googleapis.com/tensorflow/tf-keras-datasets/train-images-idx3-ubyte.gz\n",
            "26427392/26421880 [==============================] - 0s 0us/step\n",
            "26435584/26421880 [==============================] - 0s 0us/step\n",
            "Downloading data from https://storage.googleapis.com/tensorflow/tf-keras-datasets/t10k-labels-idx1-ubyte.gz\n",
            "16384/5148 [===============================================================================================] - 0s 0us/step\n",
            "Downloading data from https://storage.googleapis.com/tensorflow/tf-keras-datasets/t10k-images-idx3-ubyte.gz\n",
            "4423680/4422102 [==============================] - 0s 0us/step\n",
            "4431872/4422102 [==============================] - 0s 0us/step\n"
          ]
        }
      ],
      "source": [
        "from keras.datasets import fashion_mnist\n",
        "\n",
        "# Load the Fashion MNIST dataset.\n",
        "(X_train, Y_train), (X_test, Y_test) = fashion_mnist.load_data()\n",
        "\n",
        "# Flatten Y_train and Y_test, so they become vectors of label values.\n",
        "# The label for X_train[0] is in Y_train[0].\n",
        "Y_train = Y_train.flatten()\n",
        "Y_test = Y_test.flatten()"
      ]
    },
    {
      "cell_type": "markdown",
      "metadata": {
        "id": "Eg9mUz9zcIil"
      },
      "source": [
        "### Basic Analysis\n",
        "Notice that `X_train`, `Y_train`, `X_test`, and `Y_test` are all numpy arrays. Let's print their shapes to confirm."
      ]
    },
    {
      "cell_type": "code",
      "execution_count": 3,
      "metadata": {
        "id": "H6jGmsYAdKEK",
        "colab": {
          "base_uri": "https://localhost:8080/"
        },
        "outputId": "26283b53-c5b7-42d9-c2a9-c3f6b94df1c3"
      },
      "outputs": [
        {
          "output_type": "stream",
          "name": "stdout",
          "text": [
            "X_train.shape: (60000, 28, 28)\n",
            "Y_train.shape: (60000,)\n",
            "X_test.shape: (10000, 28, 28)\n",
            "Y_test.shape: (10000,)\n"
          ]
        }
      ],
      "source": [
        "print(\"X_train.shape:\", X_train.shape)\n",
        "print(\"Y_train.shape:\", Y_train.shape)\n",
        "print(\"X_test.shape:\", X_test.shape)\n",
        "print(\"Y_test.shape:\", Y_test.shape)"
      ]
    },
    {
      "cell_type": "code",
      "execution_count": 4,
      "metadata": {
        "colab": {
          "base_uri": "https://localhost:8080/",
          "height": 149
        },
        "id": "2DB4xETazZDg",
        "outputId": "988bc7a8-fca2-4d34-b19d-5234b80e9e86"
      },
      "outputs": [
        {
          "output_type": "display_data",
          "data": {
            "text/plain": [
              "<Figure size 720x360 with 5 Axes>"
            ],
            "image/png": "[encoded data removed]"
          },
          "metadata": {}
        }
      ],
      "source": [
        "# Create a figure with subplots. This returns a list of object handles in axs\n",
        "# which we can use to populate the plots.\n",
        "fig, axs = plt.subplots(nrows=1, ncols=5, figsize=(10,5))\n",
        "for i in range(5):\n",
        "  image = X_train[i]\n",
        "  label = Y_train[i]\n",
        "  #label_name = label_names[label]\n",
        "  axs[i].imshow(image)\n",
        "  #axs[i].set_title(label_name)\n",
        "  #axs[i].axis('off')\n",
        "plt.show()"
      ]
    },
    {
      "cell_type": "markdown",
      "metadata": {
        "id": "fDeim44-dler"
      },
      "source": [
        "Notice that there are 60,000 instances in `X_train`. Each of these is a grayscale image represented by an 28-by-28 array of grayscale pixel values between 0 and 255 (the larger the value, the lighter the pixel). Before we continue, let's apply linear scaling to our pixel values, so they all fall between 0 and 1."
      ]
    },
    {
      "cell_type": "code",
      "execution_count": 5,
      "metadata": {
        "id": "wXukkWBWdlGj"
      },
      "outputs": [],
      "source": [
        "# Pixel values range from 0 to 255. To normalize the data, \n",
        "# we just need to divide all values by 255.\n",
        "X_train = X_train / 255\n",
        "X_test = X_test / 255"
      ]
    },
    {
      "cell_type": "markdown",
      "metadata": {
        "id": "oWsOQ3tbCOA7"
      },
      "source": [
        "In the previous lab, our input data had just a few features. Here, we treat **every pixel value as a separate feature**, so each input example has 28x28 (784) features!\n",
        "\n",
        "Fashion MNIST images have one of 10 possible labels (shown above). Since the labels are indices 0-9, let's keep a list of (string) names for convenience."
      ]
    },
    {
      "cell_type": "code",
      "execution_count": 6,
      "metadata": {
        "id": "cZpFxxStzSrP"
      },
      "outputs": [],
      "source": [
        "label_names = ['t-shirt', 'trouser', 'pullover', 'dress', 'coat',\n",
        "               'sandal', 'shirt', 'sneaker', 'bag', 'ankle boot']"
      ]
    },
    {
      "cell_type": "markdown",
      "metadata": {
        "id": "c5aXeK2VznCW"
      },
      "source": [
        "Next let's use the `imshow` function to look at the first few images in the training set."
      ]
    },
    {
      "cell_type": "code",
      "execution_count": 7,
      "metadata": {
        "id": "7mfV9b4I7cMW",
        "colab": {
          "base_uri": "https://localhost:8080/",
          "height": 163
        },
        "outputId": "504c5731-fcfc-4d1c-a96f-23514681f492"
      },
      "outputs": [
        {
          "output_type": "display_data",
          "data": {
            "text/plain": [
              "<Figure size 720x360 with 5 Axes>"
            ],
            "image/png": "[encoded data removed]"
          },
          "metadata": {}
        }
      ],
      "source": [
        "# Create a figure with subplots. This returns a list of object handles in axs\n",
        "# which we can use to populate the plots.\n",
        "fig, axs = plt.subplots(nrows=1, ncols=5, figsize=(10,5))\n",
        "for i in range(5):\n",
        "  image = X_train[i]\n",
        "  label = Y_train[i]\n",
        "  label_name = label_names[label]\n",
        "  axs[i].imshow(image, cmap='gray')\n",
        "  axs[i].set_title(label_name)\n",
        "  #axs[i].axis('off')\n",
        "plt.show()"
      ]
    },
    {
      "cell_type": "markdown",
      "metadata": {
        "id": "aFx7Ts3b6N6d"
      },
      "source": [
        "---\n",
        "### Exercise 1 (8 points)\n",
        "\n",
        "Display the first 5 images for each class in a 10x5 grid."
      ]
    },
    {
      "cell_type": "code",
      "execution_count": 16,
      "metadata": {
        "id": "HJtwrjdO6TbS",
        "colab": {
          "base_uri": "https://localhost:8080/",
          "height": 1000
        },
        "outputId": "b278ade6-126f-4e32-f2a8-0e1c5a1c3e5f"
      },
      "outputs": [
        {
          "output_type": "display_data",
          "data": {
            "text/plain": [
              "<Figure size 720x1440 with 50 Axes>"
            ],
            "image/png": "[encoded data removed]"
          },
          "metadata": {}
        }
      ],
      "source": [
        "# YOUR CODE HERE\n",
        "fig, axs = plt.subplots(nrows = 10, ncols = 5, figsize=(10,20))\n",
        "for row_ind in range(10):\n",
        "    test = np.asanyarray(np.where(Y_train == row_ind))\n",
        "    #print(row_ind, test.reshape(-1,1)[:5].flatten())\n",
        "    for col_ind, ctr in enumerate(test.reshape(-1,1)[:5].flatten()):\n",
        "        image = X_train[ctr]\n",
        "        label = Y_train[ctr]\n",
        "        label_name = label_names[label]\n",
        "        axs[row_ind][col_ind].imshow(image, cmap='gray')\n",
        "        axs[row_ind][col_ind].set_title(label_name)\n",
        "plt.show()"
      ]
    },
    {
      "cell_type": "markdown",
      "metadata": {
        "id": "xxOhpvdW6TbX"
      },
      "source": [
        "---"
      ]
    },
    {
      "cell_type": "markdown",
      "metadata": {
        "id": "qNvSx5tybqMR"
      },
      "source": [
        "## Sneaker Classification\n",
        "There are many things we can do with this dataset. Following our lectures, let's start with binary classification. We'll train a sneaker classifier, using sneaker images (class 7) as our positive examples ($y=1$) and all other images as negative examples ($y=0$).\n",
        "\n",
        "Once we've trained a model, it will produce predictions $\\hat{y}$, the probability that an input image $x$ is a sneaker."
      ]
    },
    {
      "cell_type": "markdown",
      "metadata": {
        "id": "DvcJJ_rUifF2"
      },
      "source": [
        "### Data Preprocessing\n",
        "Before we continue, we need to prepare the data for our binary classification task. The label for all the sneaker images should be 1 and the label for all the non-sneaker images should be 0. \n",
        "\n",
        "Programming note: Numpy allows us to perform what is called [boolean array indexing](https://docs.scipy.org/doc/numpy/reference/arrays.indexing.html#boolean-array-indexing).\n",
        "This means that a numpy array $A$ can be be modified according to boolean conditions in a matching sized array $B$ \n",
        "as follows: $A[B]$.\n",
        "We use this indexing to efficienty set our binary labels below."
      ]
    },
    {
      "cell_type": "code",
      "execution_count": 17,
      "metadata": {
        "id": "3webN4USifuB"
      },
      "outputs": [],
      "source": [
        "# Make copies of the original dataset for binary classification task.\n",
        "X_train_binary = np.copy(X_train)\n",
        "X_test_binary = np.copy(X_test)\n",
        "Y_train_binary = np.copy(Y_train)\n",
        "Y_test_binary = np.copy(Y_test)\n",
        "\n",
        "# Set labels: 1 for sneaker images, 0 for the others.\n",
        "# Note that a boolean array is created when Y_train_binary != 7 is evaluated.\n",
        "Y_train_binary[Y_train_binary != 7] = 0.0 \n",
        "Y_train_binary[Y_train_binary == 7] = 1.0\n",
        "Y_test_binary[Y_test_binary != 7] = 0.0\n",
        "Y_test_binary[Y_test_binary == 7] = 1.0"
      ]
    },
    {
      "cell_type": "markdown",
      "metadata": {
        "id": "84idQ2_Mm8w-"
      },
      "source": [
        "---\n",
        "### Exercise 2 (8 points)"
      ]
    },
    {
      "cell_type": "markdown",
      "metadata": {
        "id": "axSoaZuuzZDs"
      },
      "source": [
        "\n",
        "Before training any models, let's work some more with our raw feature values, comparing sneaker and non-sneaker images.\n",
        "\n",
        "1. Find all sneaker images in `X_train_binary` and compute the mean and standard deviation of the center pixel across all sneaker images. The center pixel is located at position [14, 14].\n",
        "\n",
        "2.   Find all non-sneaker images in `X_train_binary` and compute the mean and standard deviation of the center pixel  across all non-sneaker images. The center pixel is located at position [14, 14].\n",
        "\n",
        "3. Repeat 1 and 2 for the pixel located at positon [3, 14].\n",
        "\n",
        "4. Based on your results, do you think there is some evidence that suggests that we can use pixel values to discriminate between sneaker and non-sneaker images? Justify your answer."
      ]
    },
    {
      "cell_type": "code",
      "execution_count": 65,
      "metadata": {
        "id": "FblS-OVmns4a",
        "colab": {
          "base_uri": "https://localhost:8080/"
        },
        "outputId": "4d71e8ae-35bb-44a8-92d9-0665fab22473"
      },
      "outputs": [
        {
          "output_type": "stream",
          "name": "stdout",
          "text": [
            "Sneaker image mean and std with center (14, 14)\n",
            "0.5996516339869281 0.25033025297620015\n",
            "Sneaker image mean and std with center (3, 14)\n",
            "0.0003104575163398693 0.015579160085568254\n",
            "Non-sneaker image mean and std with center (14, 14)\n",
            "0.551021278140886 0.30552089238926444\n",
            "Non-sneaker image mean and std with center (3, 14)\n",
            "0.4660745824255628 0.37392612279841775\n"
          ]
        }
      ],
      "source": [
        "# YOUR CODE HERE (1-3)\n",
        "sneaker_image_index = np.asanyarray(np.where(Y_train_binary == 1)).reshape(-1,1).flatten()\n",
        "non_sneaker_image_index = np.asanyarray(np.where(Y_train_binary == 0)).reshape(-1,1).flatten()\n",
        "row_val_1, col_val_1 = 13, 13\n",
        "row_val_2, col_val_2 = 2, 13\n",
        "\n",
        "def compute_mean_and_std(ind_list, r_ind, c_ind):\n",
        "    center_pixel_value_list = []\n",
        "    for ind in ind_list:\n",
        "        center_pixel_value_list.append(X_train_binary[ind][r_ind, c_ind])\n",
        "    np_array_center_pixel_value = np.array(center_pixel_value_list)\n",
        "    return np.mean(np_array_center_pixel_value), np.std(np_array_center_pixel_value)\n",
        "\n",
        "sneaker_center_pixel_value_1_mean, sneaker_center_pixel_value_1_std = compute_mean_and_std(sneaker_image_index, row_val_1, col_val_1)\n",
        "sneaker_center_pixel_value_2_mean, sneaker_center_pixel_value_2_std = compute_mean_and_std(sneaker_image_index, row_val_2, col_val_2)\n",
        "\n",
        "non_sneaker_center_pixel_value_1_mean, non_sneaker_center_pixel_value_1_std = compute_mean_and_std(non_sneaker_image_index, row_val_1, col_val_1)\n",
        "non_sneaker_center_pixel_value_2_mean, non_sneaker_center_pixel_value_2_std = compute_mean_and_std(non_sneaker_image_index, row_val_2, col_val_2)\n",
        "\n",
        "print(\"Sneaker image mean and std with center (14, 14)\")\n",
        "print(sneaker_center_pixel_value_1_mean, sneaker_center_pixel_value_1_std)\n",
        "print(\"Sneaker image mean and std with center (3, 14)\")\n",
        "print(sneaker_center_pixel_value_2_mean, sneaker_center_pixel_value_2_std)  \n",
        "print(\"Non-sneaker image mean and std with center (14, 14)\")\n",
        "print(non_sneaker_center_pixel_value_1_mean, non_sneaker_center_pixel_value_1_std)\n",
        "print(\"Non-sneaker image mean and std with center (3, 14)\")\n",
        "print(non_sneaker_center_pixel_value_2_mean, non_sneaker_center_pixel_value_2_std)"
      ]
    },
    {
      "cell_type": "markdown",
      "metadata": {
        "id": "j9EH9D7Faf9n"
      },
      "source": [
        "*Written answer:*\n",
        "\n",
        "1. Sneaker image mean and std with center (14, 14) are as follows:-\n",
        "mean: 0.5558601307189542 and std: 0.2978286657700783.\n",
        "\n",
        "2. Non-sneaker image mean and std with center (14, 14) are as follows:-\n",
        "mean: 0.5513529411764706 and std: 0.30294851546835105.\n",
        "\n",
        "3. Sneaker image mean and std with center (3, 14) are as follows:-\n",
        "mean: 0.4159254901960785 and std: 0.38135172977432663. Non-sneaker image mean and std with center (3, 14) are as follows:-\n",
        "mean: 0.41873660130718954 and std: 0.30294851546835105. \n",
        "\n",
        "4. Based on the results, I see difference between mean and std values for sneaker and non-sneaker images. But, I do not have sufficient information to say that we can use the pixel values to differentiate between the binary classifier of sneaker and non-sneaker images.\n"
      ]
    },
    {
      "cell_type": "markdown",
      "metadata": {
        "id": "D35qqLaPd1jk"
      },
      "source": [
        "---"
      ]
    },
    {
      "cell_type": "markdown",
      "metadata": {
        "id": "br_TAXD7p5gQ"
      },
      "source": [
        "### Data Shuffling\n",
        "Just like in the previous lab, we'll be using SGD (Stochastic Gradient Descent) for training. This means that it is important that **each batch is a random sample of the data**.\n",
        "\n",
        "This time we can use [integer array indexing](https://numpy.org/doc/stable/reference/arrays.indexing.html#integer-array-indexing) to re-order the data and labels using a list of shuffled indices."
      ]
    },
    {
      "cell_type": "code",
      "execution_count": 37,
      "metadata": {
        "id": "sNryj_kGq8vV"
      },
      "outputs": [],
      "source": [
        "np.random.seed(0) # For reproducibility\n",
        "\n",
        "indices = np.arange(X_train_binary.shape[0])\n",
        "shuffled_indices = np.random.permutation(indices)\n",
        "\n",
        "# Re-order training examples and corresponding labels using the randomly\n",
        "# shuffled indices.\n",
        "X_train_binary = X_train_binary[shuffled_indices]\n",
        "Y_train_binary = Y_train_binary[shuffled_indices]"
      ]
    },
    {
      "cell_type": "markdown",
      "metadata": {
        "id": "E01QY9SRpwPE"
      },
      "source": [
        "## Logistic Regression\n",
        "\n",
        "Recall that logistic regression is an application of the logistic (sigmoid) function to the linear regression model:\n",
        "\n",
        "\\begin{equation}\n",
        "y=\\frac{1}{1+e^{-z}} \n",
        "\\end{equation}\n",
        "\n",
        "<center>\n",
        "<img src=\"https://developers.google.com/machine-learning/crash-course/images/SigmoidFunction.png\" alt=\"Sigmoid Function\" width=\"45%\"/>\n",
        "</center>\n",
        "\n",
        "where:\n",
        "\n",
        "\\begin{equation}\n",
        "z = b + w_1x_1 + w_2x_2 + ... + w_nx_n\n",
        "\\end{equation}\n",
        "\n",
        "As you can see, the output $y$ is in the range $[0,1]$, the probability of the positive class. If we want a label (instead of a probability), we need to choose a threshold, like $0.5$. A value above or equal to that threshold indicates that the input should be classified as positive (e.g., sneaker); a value below the threshold indicates that the input should be classified as negative (e.g. non-sneaker)."
      ]
    },
    {
      "cell_type": "markdown",
      "metadata": {
        "id": "PsfzNnVFwh0K"
      },
      "source": [
        "### Loss Function\n",
        "\n",
        "In place of MSE, which we used for linear regression, we need a loss function for logistic regression that's appropriate for classification. The *Log Loss* (also known as *binary cross-entropy*), is defined as follows:\n",
        "\n",
        "\\begin{equation}\n",
        "-\\frac{1}{|Y|} \\sum_{y_i \\in Y}y_i log(\\hat{y}_i) + (1−y_i)log(1−\\hat{y}_i)\n",
        "\\end{equation}\n",
        "\n",
        "Recall that $y_i$ is the label for example $i$ and $\\hat{y_i}$ is the predicted probability (of the positive class) for example $i$. Note that only the first term in the sum is active for positive examples (the second term is 0 when $y_i = 1$) and only the second term in the sum is active for negative examples (the first term is 0 when $y_i = 0$).\n",
        "\n",
        "The log loss is differentiable, allowing us to compute gradients and run SGD. It also happens to be convex, which guarantees that SGD (with a suitable learning rate) will produce a global minimum."
      ]
    },
    {
      "cell_type": "markdown",
      "metadata": {
        "id": "TGgQ-ASYiHbK"
      },
      "source": [
        "## Baseline\n",
        "\n",
        "When dealing with classification problems, a simple, but useful baseline is to select the *majority* class (the most common label in the training set) and use it as the prediction for all inputs.\n",
        "\n",
        "Our training dataset consists of 6,000 sneaker examples (10%), and 54,000 non-sneaker images (90%). So our majority class baseline classifies everything as *non-sneaker*. Notice that, for our particular dataset, this will yield an accuracy of 90%. Let's see if we can train a model that can beat the baseline."
      ]
    },
    {
      "cell_type": "code",
      "execution_count": 38,
      "metadata": {
        "id": "ls30LfwsIZCv",
        "colab": {
          "base_uri": "https://localhost:8080/"
        },
        "outputId": "daa464b0-92e8-4839-d890-0652389ca58b"
      },
      "outputs": [
        {
          "output_type": "stream",
          "name": "stdout",
          "text": [
            "Number of sneaker images in training set: 6000\n",
            "Number of non-sneaker images in training set: 54000\n"
          ]
        }
      ],
      "source": [
        "print(\"Number of sneaker images in training set: %d\"%(Y_train_binary == 1).sum())\n",
        "print(\"Number of non-sneaker images in training set: %d\"%(Y_train_binary == 0).sum())"
      ]
    },
    {
      "cell_type": "markdown",
      "metadata": {
        "id": "JXNj1z0IlDw_"
      },
      "source": [
        "---\n",
        "### Exercise 3 (8 points)\n",
        "\n",
        "Implement a function that computes the Log Loss (binary cross-entropy) metric and use it to evaluate our baseline on both the train and test data. Use 0.1 as the predicted probability for your baseline (reflecting what we know about the original distribution of classes in our dataset)."
      ]
    },
    {
      "cell_type": "code",
      "execution_count": 39,
      "metadata": {
        "id": "oFM62C3uhoq_"
      },
      "outputs": [],
      "source": [
        "def log_loss(Y_true, Y_pred):\n",
        "  \"\"\"Returns the binary log loss for a list of labels and predictions.\n",
        "  \n",
        "  Args:\n",
        "    Y_true: A list of (true) labels (0 or 1)\n",
        "    Y_pred: A list of corresponding predicted probabilities\n",
        "\n",
        "  Returns:\n",
        "    Binary log loss\n",
        "  \"\"\"\n",
        "  # YOUR CODE HERE\n",
        "  return -1 * np.sum((Y_true * ln(1 - Y_pred)) + ((1 - Y_true) * ln(1 - Y_pred))) / len(Y_true)"
      ]
    },
    {
      "cell_type": "markdown",
      "metadata": {
        "id": "kZNKo4axhzY4"
      },
      "source": [
        "---"
      ]
    },
    {
      "cell_type": "markdown",
      "metadata": {
        "id": "35A7So50uc-3"
      },
      "source": [
        "## Build a model\n",
        "We will use Tensorflow/Keras to build our logistic regression model. This should look very similar to the models you built for linear regression but with a few key differences:\n",
        "* We use the Keras flatten layer to turn the 2-D 28x28 pixel grid inputs into 1-D vector inputs.\n",
        "* We configure our dense layer with a sigmoid activation, which applies a sigmoid function to the output of the linear mapping $xW^T$.\n",
        "* We specify binary_crossentropy as the loss (synonymous with log loss) when compiling the model."
      ]
    },
    {
      "cell_type": "code",
      "execution_count": 40,
      "metadata": {
        "id": "eaKF1dVEwsJq"
      },
      "outputs": [],
      "source": [
        "def build_model(learning_rate=0.01):\n",
        "  \"\"\"Build a TF logistic regression model using Keras.\n",
        "\n",
        "  Args:\n",
        "    learning_rate: The desired learning rate for SGD.\n",
        "\n",
        "  Returns:\n",
        "    model: A tf.keras model (graph).\n",
        "  \"\"\"\n",
        "  # This is not strictly necessary, but each time you build a model, TF adds\n",
        "  # new nodes (rather than overwriting), so the colab session can end up\n",
        "  # storing lots of copies of the graph when you only care about the most\n",
        "  # recent. Also, as there is some randomness built into training with SGD,\n",
        "  # setting a random seed ensures that results are the same on each identical\n",
        "  # training run.\n",
        "  tf.keras.backend.clear_session()\n",
        "  np.random.seed(0)\n",
        "  tf.random.set_seed(0)\n",
        "\n",
        "  # Build a model using keras.Sequential.\n",
        "  model = keras.Sequential()\n",
        "\n",
        "  # Keras layers can do pre-processing. This layer will take our 28x28 images\n",
        "  # and flatten them into vectors of size 784.\n",
        "  model.add(keras.layers.Flatten())\n",
        "  \n",
        "  # This layer constructs the linear set of parameters for each input feature\n",
        "  # (as well as a bias), and applies a sigmoid to the result. The result is\n",
        "  # binary logistic regression.\n",
        "  model.add(keras.layers.Dense(\n",
        "      units=1,                     # output dim (for binary classification)\n",
        "      use_bias=True,               # use a bias param\n",
        "      activation=\"sigmoid\"         # apply the sigmoid function!\n",
        "  ))\n",
        "\n",
        "  # Use the SGD optimizer as usual.\n",
        "  optimizer = tf.keras.optimizers.SGD(learning_rate=learning_rate)\n",
        "\n",
        "  # We specify the binary_crossentropy loss (equivalent to log loss).\n",
        "  # Notice that we are including 'binary accuracy' as one of the metrics that we\n",
        "  # ask Tensorflow to report when evaluating the model.\n",
        "  model.compile(loss='binary_crossentropy', \n",
        "                optimizer=optimizer, \n",
        "                metrics=[metrics.binary_accuracy])\n",
        "\n",
        "  return model"
      ]
    },
    {
      "cell_type": "markdown",
      "metadata": {
        "id": "e9sNzLTFWliB"
      },
      "source": [
        "Let's make sure model building code works. Before training, the parameters of the model are initialized randomly (this is the default). While the untrained model won't make good predictions, we should still be able to pass data through it and get probability outputs."
      ]
    },
    {
      "cell_type": "code",
      "execution_count": 41,
      "metadata": {
        "id": "ZrpMK0XfX4-M",
        "colab": {
          "base_uri": "https://localhost:8080/"
        },
        "outputId": "9c8eed0f-97b9-4983-a295-b753d788dbd7"
      },
      "outputs": [
        {
          "output_type": "stream",
          "name": "stdout",
          "text": [
            "[[0.24910647]\n",
            " [0.190254  ]\n",
            " [0.14809623]\n",
            " [0.48857784]\n",
            " [0.32321048]]\n"
          ]
        }
      ],
      "source": [
        "# Build the model.\n",
        "model = build_model()\n",
        "\n",
        "# Make a prediction for five inputs.\n",
        "print(model.predict(X_train_binary[0:5]))"
      ]
    },
    {
      "cell_type": "markdown",
      "metadata": {
        "id": "ymQ3i8aRiCcO"
      },
      "source": [
        "As expected, the outputs look like probabilities (in [0,1]). Once the model is trained, we hope that these predictions correspond to the probability that each input image is a sneaker."
      ]
    },
    {
      "cell_type": "markdown",
      "metadata": {
        "id": "OUQDiYqCh2Ns"
      },
      "source": [
        "## Train a model\n",
        "Let's train the model. Note that we're using 10% of the training data as a *validation split*. This serves a similar purpose to our test data, allowing us to check for over-fitting during training. We don't use the test data here because we might run lots of experiments, and over time, we might adjust settings to improve results on the validation set. We want to preserve the purity of the test data to allow for the cleanest possible evaluation at the end of the experimentation process."
      ]
    },
    {
      "cell_type": "code",
      "execution_count": 42,
      "metadata": {
        "id": "KkUagTzxpWdr",
        "colab": {
          "base_uri": "https://localhost:8080/",
          "height": 405
        },
        "outputId": "9755dfdd-606b-4735-d833-c26d2c7faff1"
      },
      "outputs": [
        {
          "output_type": "stream",
          "name": "stdout",
          "text": [
            "Epoch 1/5\n",
            "844/844 [==============================] - 2s 2ms/step - loss: 0.1407 - binary_accuracy: 0.9432 - val_loss: 0.1152 - val_binary_accuracy: 0.9497\n",
            "Epoch 2/5\n",
            "844/844 [==============================] - 1s 2ms/step - loss: 0.1061 - binary_accuracy: 0.9573 - val_loss: 0.1030 - val_binary_accuracy: 0.9582\n",
            "Epoch 3/5\n",
            "844/844 [==============================] - 1s 2ms/step - loss: 0.0959 - binary_accuracy: 0.9631 - val_loss: 0.0959 - val_binary_accuracy: 0.9605\n",
            "Epoch 4/5\n",
            "844/844 [==============================] - 1s 2ms/step - loss: 0.0894 - binary_accuracy: 0.9669 - val_loss: 0.0909 - val_binary_accuracy: 0.9623\n",
            "Epoch 5/5\n",
            "844/844 [==============================] - 1s 2ms/step - loss: 0.0848 - binary_accuracy: 0.9691 - val_loss: 0.0877 - val_binary_accuracy: 0.9633\n"
          ]
        },
        {
          "output_type": "display_data",
          "data": {
            "text/plain": [
              "       loss  binary_accuracy  val_loss  val_binary_accuracy\n",
              "0  0.140679         0.943222  0.115156             0.949667\n",
              "1  0.106147         0.957296  0.103045             0.958167\n",
              "2  0.095930         0.963148  0.095921             0.960500\n",
              "3  0.089447         0.966870  0.090878             0.962333\n",
              "4  0.084804         0.969074  0.087673             0.963333"
            ],
            "text/html": [
              "\n",
              "  <div id=\"df-46e08dbc-6926-46c8-a78e-40d6ed01251b\">\n",
              "    <div class=\"colab-df-container\">\n",
              "      <div>\n",
              "<style scoped>\n",
              "    .dataframe tbody tr th:only-of-type {\n",
              "        vertical-align: middle;\n",
              "    }\n",
              "\n",
              "    .dataframe tbody tr th {\n",
              "        vertical-align: top;\n",
              "    }\n",
              "\n",
              "    .dataframe thead th {\n",
              "        text-align: right;\n",
              "    }\n",
              "</style>\n",
              "<table border=\"1\" class=\"dataframe\">\n",
              "  <thead>\n",
              "    <tr style=\"text-align: right;\">\n",
              "      <th></th>\n",
              "      <th>loss</th>\n",
              "      <th>binary_accuracy</th>\n",
              "      <th>val_loss</th>\n",
              "      <th>val_binary_accuracy</th>\n",
              "    </tr>\n",
              "  </thead>\n",
              "  <tbody>\n",
              "    <tr>\n",
              "      <th>0</th>\n",
              "      <td>0.140679</td>\n",
              "      <td>0.943222</td>\n",
              "      <td>0.115156</td>\n",
              "      <td>0.949667</td>\n",
              "    </tr>\n",
              "    <tr>\n",
              "      <th>1</th>\n",
              "      <td>0.106147</td>\n",
              "      <td>0.957296</td>\n",
              "      <td>0.103045</td>\n",
              "      <td>0.958167</td>\n",
              "    </tr>\n",
              "    <tr>\n",
              "      <th>2</th>\n",
              "      <td>0.095930</td>\n",
              "      <td>0.963148</td>\n",
              "      <td>0.095921</td>\n",
              "      <td>0.960500</td>\n",
              "    </tr>\n",
              "    <tr>\n",
              "      <th>3</th>\n",
              "      <td>0.089447</td>\n",
              "      <td>0.966870</td>\n",
              "      <td>0.090878</td>\n",
              "      <td>0.962333</td>\n",
              "    </tr>\n",
              "    <tr>\n",
              "      <th>4</th>\n",
              "      <td>0.084804</td>\n",
              "      <td>0.969074</td>\n",
              "      <td>0.087673</td>\n",
              "      <td>0.963333</td>\n",
              "    </tr>\n",
              "  </tbody>\n",
              "</table>\n",
              "</div>\n",
              "      <button class=\"colab-df-convert\" onclick=\"convertToInteractive('df-46e08dbc-6926-46c8-a78e-40d6ed01251b')\"\n",
              "              title=\"Convert this dataframe to an interactive table.\"\n",
              "              style=\"display:none;\">\n",
              "        \n",
              "  <svg xmlns=\"http://www.w3.org/2000/svg\" height=\"24px\"viewBox=\"0 0 24 24\"\n",
              "       width=\"24px\">\n",
              "    <path d=\"M0 0h24v24H0V0z\" fill=\"none\"/>\n",
              "    <path d=\"M18.56 5.44l.94 2.06.94-2.06 2.06-.94-2.06-.94-.94-2.06-.94 2.06-2.06.94zm-11 1L8.5 8.5l.94-2.06 2.06-.94-2.06-.94L8.5 2.5l-.94 2.06-2.06.94zm10 10l.94 2.06.94-2.06 2.06-.94-2.06-.94-.94-2.06-.94 2.06-2.06.94z\"/><path d=\"M17.41 7.96l-1.37-1.37c-.4-.4-.92-.59-1.43-.59-.52 0-1.04.2-1.43.59L10.3 9.45l-7.72 7.72c-.78.78-.78 2.05 0 2.83L4 21.41c.39.39.9.59 1.41.59.51 0 1.02-.2 1.41-.59l7.78-7.78 2.81-2.81c.8-.78.8-2.07 0-2.86zM5.41 20L4 18.59l7.72-7.72 1.47 1.35L5.41 20z\"/>\n",
              "  </svg>\n",
              "      </button>\n",
              "      \n",
              "  <style>\n",
              "    .colab-df-container {\n",
              "      display:flex;\n",
              "      flex-wrap:wrap;\n",
              "      gap: 12px;\n",
              "    }\n",
              "\n",
              "    .colab-df-convert {\n",
              "      background-color: #E8F0FE;\n",
              "      border: none;\n",
              "      border-radius: 50%;\n",
              "      cursor: pointer;\n",
              "      display: none;\n",
              "      fill: #1967D2;\n",
              "      height: 32px;\n",
              "      padding: 0 0 0 0;\n",
              "      width: 32px;\n",
              "    }\n",
              "\n",
              "    .colab-df-convert:hover {\n",
              "      background-color: #E2EBFA;\n",
              "      box-shadow: 0px 1px 2px rgba(60, 64, 67, 0.3), 0px 1px 3px 1px rgba(60, 64, 67, 0.15);\n",
              "      fill: #174EA6;\n",
              "    }\n",
              "\n",
              "    [theme=dark] .colab-df-convert {\n",
              "      background-color: #3B4455;\n",
              "      fill: #D2E3FC;\n",
              "    }\n",
              "\n",
              "    [theme=dark] .colab-df-convert:hover {\n",
              "      background-color: #434B5C;\n",
              "      box-shadow: 0px 1px 3px 1px rgba(0, 0, 0, 0.15);\n",
              "      filter: drop-shadow(0px 1px 2px rgba(0, 0, 0, 0.3));\n",
              "      fill: #FFFFFF;\n",
              "    }\n",
              "  </style>\n",
              "\n",
              "      <script>\n",
              "        const buttonEl =\n",
              "          document.querySelector('#df-46e08dbc-6926-46c8-a78e-40d6ed01251b button.colab-df-convert');\n",
              "        buttonEl.style.display =\n",
              "          google.colab.kernel.accessAllowed ? 'block' : 'none';\n",
              "\n",
              "        async function convertToInteractive(key) {\n",
              "          const element = document.querySelector('#df-46e08dbc-6926-46c8-a78e-40d6ed01251b');\n",
              "          const dataTable =\n",
              "            await google.colab.kernel.invokeFunction('convertToInteractive',\n",
              "                                                     [key], {});\n",
              "          if (!dataTable) return;\n",
              "\n",
              "          const docLinkHtml = 'Like what you see? Visit the ' +\n",
              "            '<a target=\"_blank\" href=https://colab.research.google.com/notebooks/data_table.ipynb>data table notebook</a>'\n",
              "            + ' to learn more about interactive tables.';\n",
              "          element.innerHTML = '';\n",
              "          dataTable['output_type'] = 'display_data';\n",
              "          await google.colab.output.renderOutput(dataTable, element);\n",
              "          const docLink = document.createElement('div');\n",
              "          docLink.innerHTML = docLinkHtml;\n",
              "          element.appendChild(docLink);\n",
              "        }\n",
              "      </script>\n",
              "    </div>\n",
              "  </div>\n",
              "  "
            ]
          },
          "metadata": {}
        }
      ],
      "source": [
        "model = build_model(learning_rate=0.01)\n",
        "\n",
        "# Fit the model.\n",
        "history = model.fit(\n",
        "  x = X_train_binary,   # our binary training examples\n",
        "  y = Y_train_binary,   # corresponding binary labels\n",
        "  epochs=5,             # number of passes through the training data\n",
        "  batch_size=64,        # mini-batch size for SGD\n",
        "  validation_split=0.1, # use a fraction of the examples for validation\n",
        "  verbose=1             # display some progress output during training\n",
        "  )\n",
        "\n",
        "# Convert the return value into a DataFrame so we can see the train loss \n",
        "# and binary accuracy after every epoch.\n",
        "history = pd.DataFrame(history.history)\n",
        "display(history)"
      ]
    },
    {
      "cell_type": "markdown",
      "metadata": {
        "id": "eS8lOgCK-0At"
      },
      "source": [
        "## Evaluate the model\n",
        "\n",
        "Good news. It appears that our model is doing better than our baseline. Let's use the trained model to predict probabilities for the test data. We can use `predict` to run *inference*."
      ]
    },
    {
      "cell_type": "code",
      "execution_count": 43,
      "metadata": {
        "id": "t0PU3br4-zv8",
        "colab": {
          "base_uri": "https://localhost:8080/"
        },
        "outputId": "9b8843b1-3789-4e9a-864a-531fc121a076"
      },
      "outputs": [
        {
          "output_type": "stream",
          "name": "stdout",
          "text": [
            "(10000,)\n",
            "[2.7270913e-01 2.4193906e-07 2.8407574e-04 ... 1.0274351e-03 4.3181479e-03\n",
            " 3.0360001e-01]\n"
          ]
        }
      ],
      "source": [
        "# The result of model.predict has an extra dimension, so we flatten to get a\n",
        "# vector of predictions. Note that these are the predicted probabilities of the\n",
        "# positive (sneaker) class.\n",
        "test_predictions = model.predict(X_test_binary).flatten()\n",
        "print(test_predictions.shape)\n",
        "print(test_predictions)"
      ]
    },
    {
      "cell_type": "markdown",
      "metadata": {
        "id": "LTdRTsyM2YvI"
      },
      "source": [
        "---\n",
        "### Exercise 4 (8 points)\n",
        "\n",
        "Compute the accuracy on the test data using a threshold of 0.5. Remember to use Y_test_binary for the true labels."
      ]
    },
    {
      "cell_type": "code",
      "execution_count": 44,
      "metadata": {
        "id": "B-o6Bdkl2gQT",
        "colab": {
          "base_uri": "https://localhost:8080/"
        },
        "outputId": "d7a837dc-a031-4a51-ff26-cb838a265b6e"
      },
      "outputs": [
        {
          "output_type": "stream",
          "name": "stdout",
          "text": [
            "[0 0 0 ... 0 0 0]\n",
            "Test: misclassified examples: 301\n",
            "Test: prediction accuracy: 0.970\n"
          ]
        }
      ],
      "source": [
        "# YOUR CODE HERE\n",
        "#test_predictions = np.asanyarray(np.where(test_predictions > 0.5 ,1, 0))\n",
        "# apply the threshold function to create a 0, 1 outcome\n",
        "test_predictions = np.where(test_predictions>=0.5, 1, 0)\n",
        "print(test_predictions)\n",
        "print('Test: misclassified examples: %d' % (Y_test_binary != test_predictions).sum())\n",
        "error_test_tf = (Y_test_binary != test_predictions).sum()/len(test_predictions)\n",
        "print('Test: prediction accuracy: %.3f'% (1-error_test_tf))"
      ]
    },
    {
      "cell_type": "markdown",
      "metadata": {
        "id": "LVEF6i092hfl"
      },
      "source": [
        "---"
      ]
    },
    {
      "cell_type": "markdown",
      "metadata": {
        "id": "tV_gTk-9YI3d"
      },
      "source": [
        "## Analyze the model\n",
        "\n",
        "Let's investigate what the model has learned. Recall how to get the learned weights from the model:"
      ]
    },
    {
      "cell_type": "code",
      "execution_count": 45,
      "metadata": {
        "id": "n9aw-V-FTlaq",
        "colab": {
          "base_uri": "https://localhost:8080/"
        },
        "outputId": "9370781b-6bf6-4af4-88cb-863d0c913a97"
      },
      "outputs": [
        {
          "output_type": "stream",
          "name": "stdout",
          "text": [
            "[<keras.layers.core.flatten.Flatten object at 0x7f3a8faf8d10>, <keras.layers.core.dense.Dense object at 0x7f3a8f3cee10>]\n",
            "Bias: -0.44215232\n",
            "Weights: [-3.63769867e-02 -5.13162687e-02  6.14942471e-03  1.06006749e-02\n",
            " -1.49316657e-02  5.33447936e-02 -1.98818860e-03  8.50041658e-02\n",
            "  2.96042841e-02 -7.77504072e-02  5.39620360e-03 -1.57629624e-02\n",
            " -3.68973874e-02 -7.01286271e-02 -5.97105660e-02 -2.63236649e-02\n",
            "  2.29482353e-02 -1.04311164e-02  3.48573290e-02 -8.18630531e-02\n",
            " -4.25722264e-02 -8.74998719e-02  3.71038169e-02  4.41424698e-02\n",
            "  3.04916725e-02  5.34295710e-03  4.46426831e-02 -7.91574195e-02\n",
            " -7.86240622e-02  4.39981893e-02 -5.73104806e-02 -3.30998003e-02\n",
            " -3.71420793e-02 -7.14391768e-02 -6.33686036e-02  3.62656526e-02\n",
            " -3.72384978e-03  5.10641187e-02  1.42581435e-02 -1.39757201e-01\n",
            " -1.66925073e-01 -8.49241316e-02 -1.60152182e-01 -1.00344814e-01\n",
            " -8.46819486e-03 -1.24405734e-01 -1.29234806e-01 -1.32289547e-02\n",
            " -8.28083325e-03  3.93561237e-02  4.72018914e-03 -7.67678991e-02\n",
            "  7.44428188e-02 -3.91834565e-02  8.73819087e-03 -3.86503600e-02\n",
            " -7.35375956e-02 -1.93646718e-02 -7.53840804e-02 -8.05454552e-02\n",
            "  7.25708976e-02  5.99882901e-02 -1.83216669e-02 -2.31241491e-02\n",
            " -2.93947803e-03 -1.46114931e-03  1.31325508e-02 -9.30753797e-02\n",
            " -1.29471809e-01 -7.44886622e-02 -1.15315877e-01 -7.20449910e-02\n",
            " -1.06114540e-02 -1.04821930e-02 -1.42916858e-01 -8.50284472e-02\n",
            " -8.21624175e-02 -1.05928406e-01  6.16206229e-02 -7.30408207e-02\n",
            "  2.69170832e-02  3.85793559e-02  5.87910078e-02  4.09504212e-02\n",
            "  4.03798819e-02 -5.47507033e-02  4.07547317e-02 -5.54717854e-02\n",
            "  1.08005190e-02 -9.08970609e-02  1.25681460e-02 -9.86100920e-03\n",
            " -1.19882062e-01 -5.30184284e-02  1.58989523e-02 -2.71534007e-02\n",
            " -5.85344657e-02 -1.09790981e-01 -3.67331728e-02 -1.53243497e-01\n",
            " -4.42197733e-02 -7.04055205e-02 -1.38005480e-01  2.94289179e-02\n",
            " -4.98520397e-02 -3.76530848e-02 -1.00947298e-01  1.24332597e-02\n",
            "  2.85871550e-02 -1.79007780e-02 -8.05128217e-02  5.92305511e-03\n",
            " -5.91437183e-02 -1.86323933e-02  1.00564091e-02 -7.17208534e-02\n",
            "  7.15526119e-02 -4.68957871e-02 -2.99464818e-02 -1.36997867e-02\n",
            " -1.04142532e-01 -8.53130743e-02 -1.11105137e-01 -3.75934877e-02\n",
            " -1.11505419e-01 -8.13345052e-03 -3.31023149e-02 -5.23124672e-02\n",
            " -2.96300557e-02 -2.93140560e-02 -7.71677569e-02  3.31376530e-02\n",
            " -2.54448596e-02 -6.53741285e-02 -7.12439138e-03 -1.11451432e-01\n",
            " -5.59960194e-02 -4.55492064e-02 -1.91753116e-02  1.69397779e-02\n",
            "  3.16926464e-02  2.35792845e-02  6.77962676e-02 -8.46299008e-02\n",
            " -1.76790264e-02 -2.67079361e-02 -5.73533401e-02 -9.83284637e-02\n",
            " -7.93528110e-02 -5.52360006e-02 -1.42493531e-01 -8.33751857e-02\n",
            " -1.22850969e-01 -1.20231286e-01 -8.74986947e-02 -5.27005596e-03\n",
            " -1.51988596e-01 -1.01705484e-01 -5.60566597e-03 -1.05288066e-02\n",
            " -1.12732857e-01 -1.23771884e-01 -1.44043609e-01 -4.88321781e-02\n",
            " -3.96068171e-02  3.39305922e-02  1.77004654e-02 -4.99859191e-02\n",
            "  5.08814789e-02  4.79038022e-02  7.71238143e-03  7.21693179e-03\n",
            " -6.46666810e-02 -7.77491853e-02 -9.37742069e-02  3.90377380e-02\n",
            " -2.26158202e-02  4.49596485e-03 -4.68308963e-02 -2.34813932e-02\n",
            " -1.16791174e-01 -4.18221876e-02 -1.61157295e-01 -8.09690654e-02\n",
            " -7.47437254e-02 -5.71687851e-05  7.84614310e-02  4.38349061e-02\n",
            " -6.22912720e-02 -1.62292749e-01 -2.40973998e-02 -8.17410946e-02\n",
            " -1.10945441e-01 -2.98695676e-02  1.65836606e-03 -4.12553586e-02\n",
            "  8.14662427e-02  2.49591395e-02 -8.75446200e-02 -7.13293925e-02\n",
            " -8.56654253e-03 -4.42212261e-02 -3.50169279e-02 -1.18509315e-01\n",
            " -1.17321827e-01 -2.24649012e-02 -1.58007070e-01 -6.61753267e-02\n",
            " -6.15466088e-02 -1.72124743e-01 -1.65040061e-01 -1.24477521e-01\n",
            " -1.18734084e-01 -1.76012404e-02  4.69173342e-02 -1.92654505e-02\n",
            "  4.55211140e-02 -7.03534409e-02 -8.54611099e-02 -5.82531802e-02\n",
            " -1.14253439e-01 -5.50456904e-02 -1.06543303e-01 -2.00637765e-02\n",
            "  7.73901269e-02 -7.13315457e-02  6.48292005e-02 -8.50056559e-02\n",
            "  1.10233098e-03 -8.43081065e-03 -1.91083807e-03 -1.14640936e-01\n",
            " -5.07459491e-02 -2.97401510e-02 -1.08333685e-01 -7.70499781e-02\n",
            " -1.67813927e-01 -4.81676273e-02 -1.52672783e-01 -4.46069203e-02\n",
            "  2.88464967e-02  1.54581562e-01  1.40341803e-01 -4.18619066e-02\n",
            " -2.10696422e-02 -1.24052845e-01 -6.40804172e-02 -7.99247846e-02\n",
            " -1.45461142e-01 -2.58955397e-02 -1.04263209e-01  7.80213848e-02\n",
            "  4.64777201e-02  3.71316373e-02 -2.42680288e-03 -4.15087081e-02\n",
            "  2.58337054e-02  1.04618622e-02  1.72148664e-02  6.50451193e-03\n",
            " -2.53135711e-02 -1.18756518e-01 -1.77299529e-01 -1.13570496e-01\n",
            " -1.17304124e-01 -3.50509025e-02 -1.24320507e-01  1.97641626e-02\n",
            "  6.72986805e-02  1.44505560e-01  1.08471788e-01 -4.93390523e-02\n",
            " -9.42758545e-02 -1.21691488e-01 -1.45138428e-01 -3.29806320e-02\n",
            " -2.82317810e-02  2.60515027e-02 -4.30016546e-03  7.01411217e-02\n",
            " -3.42280716e-02 -4.53264005e-02 -1.13374710e-01 -9.83251482e-02\n",
            " -1.04283772e-01 -1.34762481e-01 -1.07149817e-01 -1.48956433e-01\n",
            " -1.17049560e-01 -1.83472201e-01 -1.20395891e-01 -1.26342893e-01\n",
            " -4.66049947e-02 -1.63026107e-03  5.89040183e-02  5.79760782e-02\n",
            "  6.25156388e-02  7.79734254e-02  1.30499765e-01  4.28583939e-03\n",
            " -1.00193150e-01 -4.56557795e-02 -1.67594820e-01 -1.26863629e-01\n",
            " -6.18784949e-02  7.24935159e-02  6.17427975e-02 -2.62920037e-02\n",
            " -3.16342749e-02 -1.98080931e-02 -8.52288455e-02  1.65175702e-02\n",
            " -1.13899596e-01 -9.64382514e-02 -1.67583689e-01 -8.25708956e-02\n",
            " -6.90128878e-02 -1.53989851e-01 -5.02134226e-02  6.42168969e-02\n",
            " -6.29862249e-02 -5.20643443e-02  5.30003011e-02  1.25020131e-01\n",
            "  9.01685208e-02  4.49759513e-02  3.20983492e-02  2.64031962e-02\n",
            " -1.52645543e-01 -1.14854842e-01 -1.52798489e-01 -6.46900311e-02\n",
            " -4.56942245e-02  1.31711632e-01  1.39830276e-01  2.34520361e-02\n",
            "  1.79534629e-02 -1.78737901e-02  2.15981808e-02  4.48300596e-03\n",
            " -9.77308899e-02 -6.46787286e-02 -2.00849891e-01 -8.52204710e-02\n",
            " -8.78882259e-02 -1.04075275e-01 -4.66123447e-02  4.50648665e-02\n",
            "  4.24591415e-02  5.99369742e-02  5.29434830e-02  4.96999137e-02\n",
            "  8.39146897e-02  4.96763438e-02  1.50809344e-02  7.18617439e-02\n",
            "  3.86390761e-02  9.71355513e-02  7.84700364e-03  1.26313955e-01\n",
            "  1.17467299e-01  1.46627635e-01  2.05830157e-01  5.26780337e-02\n",
            " -4.70826440e-02  1.33471685e-02  5.16761094e-02 -7.23336190e-02\n",
            " -1.05596155e-01 -9.42218080e-02 -1.00058161e-01 -6.65255589e-04\n",
            " -7.61575066e-04  5.45363128e-03  4.58591245e-03 -2.23382805e-02\n",
            "  1.09976329e-01  1.72178894e-02  7.20789749e-03  1.41404763e-01\n",
            "  1.12760738e-01  2.26516183e-02  1.08908840e-01  1.51908714e-02\n",
            "  1.41808242e-01  7.81059936e-02  3.80241647e-02  1.16438404e-01\n",
            "  2.51171350e-01  2.76129067e-01  1.26373574e-01  6.30179346e-02\n",
            " -5.04691936e-02 -5.60622700e-02  4.48115207e-02  1.04251333e-01\n",
            " -4.72905347e-03 -1.38268769e-01 -1.94912460e-02 -4.97430451e-02\n",
            "  7.63344169e-02  4.56950068e-02  1.42707214e-01  1.81164533e-01\n",
            "  7.13718459e-02  3.39518525e-02  6.16443641e-02  1.31688565e-01\n",
            "  9.46298838e-02  9.93597284e-02 -5.35925701e-02 -3.65812741e-02\n",
            " -1.19247204e-02  7.84079134e-02  1.14147358e-01  2.42365867e-01\n",
            "  1.84388340e-01  1.63380414e-01  2.36641496e-01 -5.01198519e-04\n",
            "  4.22638915e-02  1.09295249e-01  5.55154718e-02  9.07157287e-02\n",
            "  1.26266450e-05 -1.27274767e-01 -1.47108242e-01 -8.06210116e-02\n",
            " -3.46360393e-02  7.45017489e-04  1.07565351e-01  1.07142389e-01\n",
            "  4.07429226e-02  9.50835571e-02  1.31610230e-01  2.40969248e-02\n",
            " -1.87552534e-02  4.60175015e-02 -1.54132806e-02 -9.89838168e-02\n",
            " -3.00209112e-02  7.81729817e-03  8.81913453e-02  2.03758463e-01\n",
            "  1.51000589e-01  1.93078190e-01  8.95753577e-02  4.64745723e-02\n",
            " -4.12466004e-02  1.27778679e-01  8.65661651e-02  5.39377406e-02\n",
            " -3.78542952e-02 -2.28542179e-01 -2.89398264e-02 -3.38581987e-02\n",
            " -6.04389012e-02 -5.37908487e-02  8.85671098e-03 -2.62426231e-02\n",
            " -2.58538555e-02  1.09589912e-01  9.48650949e-03  1.20891728e-01\n",
            " -1.30144712e-02 -9.90161207e-03 -1.21137746e-01 -2.19083671e-03\n",
            " -2.36809198e-02 -7.19980150e-02  8.39911029e-02 -1.33523252e-02\n",
            "  1.13239743e-01 -4.64512631e-02 -6.22050054e-02  1.36079248e-02\n",
            "  3.59040573e-02  6.43221438e-02  1.24072105e-01  3.51925753e-02\n",
            "  2.70113279e-03 -1.08340427e-01 -9.85459909e-02 -2.15108506e-02\n",
            " -5.90234324e-02 -9.70039889e-02 -4.54233326e-02 -2.07541548e-02\n",
            "  6.42270222e-02 -3.66682485e-02  5.88476956e-02 -1.04987271e-01\n",
            " -1.25547439e-01 -9.17268619e-02 -3.12069673e-02 -5.55734634e-02\n",
            " -1.20578013e-01 -1.06261037e-01 -1.11024315e-02 -1.48333520e-01\n",
            " -1.30828857e-01 -5.28015420e-02 -9.90216583e-02  4.29168083e-02\n",
            "  4.28619199e-02 -4.53967787e-02 -1.15849267e-04  2.07066424e-02\n",
            " -1.79731455e-02 -4.87814359e-02 -3.18619832e-02 -1.13146700e-01\n",
            "  2.87475921e-02 -2.19503790e-02 -1.13634586e-01 -7.18317106e-02\n",
            "  3.41571495e-02 -2.95505431e-02  5.07304147e-02  1.19502191e-02\n",
            " -1.06137559e-01 -3.05118822e-02 -1.01752602e-01  9.27270390e-03\n",
            "  3.98212969e-02  2.56095342e-02 -2.50167977e-02 -5.22126742e-02\n",
            " -9.40019488e-02 -1.50100797e-01 -4.64506559e-02 -5.31575978e-02\n",
            "  2.59174183e-02  6.10919297e-02  1.20596159e-02 -1.01597585e-01\n",
            " -9.82939079e-02 -8.07811841e-02 -2.07269285e-02 -1.34559333e-01\n",
            " -6.08964376e-02 -1.04825459e-02  6.83832355e-03 -1.09411106e-01\n",
            " -1.11439511e-01 -1.68465935e-02  1.49287516e-03 -2.84544267e-02\n",
            " -2.39064451e-02 -4.68811765e-03  2.73684990e-02 -2.33624112e-02\n",
            " -5.10354750e-02  5.80591895e-02 -1.03609852e-01 -9.29100439e-03\n",
            " -1.58858276e-03 -8.15870091e-02  5.54064754e-03  8.55731368e-02\n",
            " -5.11142984e-02 -6.62425440e-03  5.89961894e-02 -6.49653301e-02\n",
            " -1.26576170e-01 -1.24188200e-01 -3.56587842e-02 -8.72560591e-03\n",
            " -1.00730523e-01 -1.61077585e-02 -1.27819538e-01  2.88373278e-03\n",
            " -1.49959356e-01 -9.57754776e-02 -3.24318595e-02 -8.39909613e-02\n",
            "  3.93699482e-02  8.44046474e-02  1.12458300e-02  1.16885029e-01\n",
            " -1.79053436e-03  5.13789542e-02 -8.89092460e-02  2.28986051e-02\n",
            " -8.40589106e-02 -1.14551164e-01 -4.32326011e-02 -2.54279356e-02\n",
            "  7.65462816e-02 -7.17990994e-02 -4.73979302e-02 -3.64011452e-02\n",
            " -3.86591740e-02 -2.67523085e-03 -3.37379649e-02 -1.86997764e-02\n",
            " -5.08652218e-02 -1.39463358e-02 -1.74765319e-01 -4.17825989e-02\n",
            " -1.14439853e-01 -1.27474993e-01 -3.98756489e-02 -1.08797565e-01\n",
            "  3.75022478e-02 -4.85518668e-03 -2.74859667e-02 -1.28090121e-02\n",
            " -8.20525885e-02 -9.54063311e-02 -5.63136674e-02 -1.42127782e-01\n",
            "  9.57665127e-03 -1.79364458e-02  1.61371697e-02  8.97330716e-02\n",
            "  5.67734800e-02 -1.91254374e-02  4.05368730e-02 -1.44481258e-02\n",
            "  1.29049309e-04 -1.02528542e-01  1.10611161e-02  1.64383184e-02\n",
            " -2.41131764e-02 -7.01417774e-02 -3.31350453e-02 -1.61268964e-01\n",
            " -1.46345809e-01 -2.74329707e-02 -5.34806438e-02  3.18868645e-02\n",
            " -8.55903849e-02  9.21329558e-02 -4.15178016e-02  9.71832033e-03\n",
            " -8.31506625e-02  5.42390160e-02 -1.07461065e-01 -1.78360622e-02\n",
            " -1.23278290e-01 -1.12923592e-01  4.67335321e-02 -1.84253473e-02\n",
            " -7.37324432e-02  5.52210491e-04  5.81910163e-02 -7.39608929e-02\n",
            " -8.37981552e-02 -7.05923215e-02 -9.87855345e-03 -1.35440037e-01\n",
            "  7.06117414e-03 -1.16910115e-01 -1.14669435e-01 -1.65660992e-01\n",
            " -8.68169144e-02 -5.89215718e-02 -3.79757620e-02 -3.10801659e-02\n",
            "  2.51754746e-02 -1.19960263e-01 -1.12249434e-01  4.25523110e-02\n",
            " -4.80677485e-02 -4.65212315e-02 -1.01728424e-01 -1.21185243e-01\n",
            " -1.16011858e-01  4.15929547e-03 -1.02049664e-01 -2.69733220e-02\n",
            "  4.06059995e-02 -2.96732485e-02  3.47207114e-02 -5.89662716e-02\n",
            " -2.51877476e-02 -1.20805643e-01  2.14326140e-02 -6.00333102e-02\n",
            " -1.26329362e-01 -1.51926160e-01 -8.38960484e-02 -1.71259865e-01\n",
            " -1.65296122e-01 -6.50899857e-02 -1.27078786e-01 -4.47660312e-02\n",
            " -3.79954204e-02 -1.18519671e-01  9.08956863e-03 -2.45796386e-02\n",
            "  1.62050929e-02 -1.44409423e-03 -1.86887812e-02 -2.48184390e-02\n",
            " -7.55674690e-02 -2.38704830e-02 -8.48351195e-02  7.15425983e-02\n",
            " -8.64587948e-02  2.12153140e-02 -7.44698718e-02  4.66740541e-02\n",
            " -9.37049687e-02  2.67709903e-02 -3.36104222e-02 -6.41076341e-02\n",
            " -5.35335299e-03 -7.11096451e-02 -1.32475972e-01 -1.34500429e-01\n",
            " -4.80256416e-02 -1.54023796e-01 -1.33096182e-03 -1.21018611e-01\n",
            "  8.73569679e-03 -1.93908270e-02 -7.13006109e-02 -6.38926700e-02\n",
            "  3.92254591e-02 -6.96371421e-02  1.92016363e-02 -1.94643792e-02\n",
            " -5.34806363e-02 -3.51482444e-02 -4.93865311e-02 -5.19416183e-02\n",
            " -7.43018985e-02  7.50555545e-02 -7.74647370e-02 -8.59046429e-02\n",
            " -1.13662444e-02 -8.67946446e-02 -5.69131076e-02 -2.82406099e-02\n",
            " -9.42523926e-02 -1.37027696e-01 -1.17359534e-01  4.22838051e-03\n",
            " -1.03669226e-01 -1.44673824e-01 -1.37142435e-01 -1.14453487e-01\n",
            " -3.62060517e-02 -1.12522684e-01 -7.51667768e-02 -1.05049051e-01\n",
            " -4.98457961e-02 -8.81678052e-03  4.09672558e-02 -2.86341105e-02\n",
            " -6.98369071e-02 -1.52109331e-02 -2.17522103e-02 -6.06395602e-02\n",
            " -7.39789382e-02  3.11532952e-02 -1.84749607e-02 -2.26222747e-03\n",
            "  3.32531184e-02 -9.53409821e-02 -4.42498922e-02  6.19443227e-03\n",
            " -1.91013422e-02  3.28234844e-02 -4.52653617e-02  3.49891856e-02\n",
            "  2.63278857e-02 -8.30092132e-02  1.27270119e-02 -5.84214693e-03\n",
            " -2.56239274e-03 -2.24870834e-02 -1.11370407e-01  3.18038240e-02\n",
            " -9.14945975e-02 -5.06408475e-02  3.11605837e-02 -5.86923547e-02\n",
            "  8.00441280e-02  4.69946004e-02 -9.46864858e-03 -1.34327067e-02]\n",
            "Weights shape: (784,)\n"
          ]
        }
      ],
      "source": [
        "# The model includes 2 layers: a flattening layer and a dense layer.\n",
        "print(model.layers)\n",
        "\n",
        "# Retrieve the weights and biases from the dense layer.\n",
        "weights, biases = model.layers[1].get_weights()\n",
        "bias = biases[0]  # there's only 1 bias\n",
        "weights = weights.flatten()  # flatten the weights to a vector\n",
        "print('Bias:', bias)\n",
        "print('Weights:', weights)\n",
        "print('Weights shape:', weights.shape)"
      ]
    },
    {
      "cell_type": "markdown",
      "metadata": {
        "id": "9gfq7t1naoTM"
      },
      "source": [
        "---\n",
        "### Exercise 5 (8 points)\n",
        "\n",
        "1. Using the your knowledge of the model's functional form, compute the predicted probability (of the sneaker class) for an image of all 0-valued inputs.\n",
        "\n",
        "2. Confirm this probability by constructing a fake image with all 0s and use model.predict."
      ]
    },
    {
      "cell_type": "code",
      "execution_count": null,
      "metadata": {
        "id": "3d4NzODhbB8G"
      },
      "outputs": [],
      "source": [
        "# YOUR CODE HERE"
      ]
    },
    {
      "cell_type": "markdown",
      "metadata": {
        "id": "LsCGfuB1c_vs"
      },
      "source": [
        "---"
      ]
    }
  ],
  "metadata": {
    "colab": {
      "collapsed_sections": [],
      "provenance": [],
      "toc_visible": true,
      "include_colab_link": true
    },
    "kernelspec": {
      "display_name": "Python 3",
      "language": "python",
      "name": "python3"
    },
    "language_info": {
      "codemirror_mode": {
        "name": "ipython",
        "version": 3
      },
      "file_extension": ".py",
      "mimetype": "text/x-python",
      "name": "python",
      "nbconvert_exporter": "python",
      "pygments_lexer": "ipython3",
      "version": "3.8.3"
    },
    "gpuClass": "standard"
  },
  "nbformat": 4,
  "nbformat_minor": 0
}