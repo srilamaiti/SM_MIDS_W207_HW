{
  "cells": [
    {
      "cell_type": "markdown",
      "metadata": {
        "id": "view-in-github",
        "colab_type": "text"
      },
      "source": [
        "<a href=\"https://colab.research.google.com/github/srilamaiti/SM_MIDS_W207_HW/blob/main/08_Kmeans_Clustering.ipynb\" target=\"_parent\"><img src=\"https://colab.research.google.com/assets/colab-badge.svg\" alt=\"Open In Colab\"/></a>"
      ]
    },
    {
      "cell_type": "markdown",
      "metadata": {
        "id": "oeL1CksCWEql"
      },
      "source": [
        "# Lab 8\n",
        "\n",
        "K-means Clustering\n",
        "\n",
        "[The RGB color model](https://en.wikipedia.org/wiki/RGB_color_model) is an additive color model in which the red, green, and blue primary colors of light are added together in various ways to reproduce a broad array of colors. The name of the model comes from the initials of the three additive primary colors, red, green, and blue.\n",
        "\n",
        "There are plenty of RBG-to-color converters on the web \n",
        "https://www.rapidtables.com/convert/color/rgb-to-hex.html\n",
        "\n",
        "These two RGB triples look almost identical to the human eye\n",
        "- [0, 0, 255]\n",
        "- [0, 1, 255]\n",
        "\n",
        "However there is no \"reverse lookup\" that tells you that \"this color is close to blue\" unless it is a [basic](https://en.wikipedia.org/wiki/Web_colors#Basic_colors) or [extended](https://en.wikipedia.org/wiki/Web_colors#Extended_colors) color with a specified RGB value.\n",
        "\n",
        "For this assignment you are provided a file with RGB triples for a bunch of colors.\n",
        "\n",
        "The task is to use K-means clustering to:\n",
        "\n",
        "- group the colors into color families\n",
        "- make a histogram of your color clusters to see the dsitribution of colors\n",
        "- establish some human-readable names for your clusters like red, blue, yellow, etc.\n",
        "- determine the centroids of the clusters\n",
        "- write a function that makes the best guess of an RGB triple based on the centroids\n",
        "- make some visual output to show that your guesses worked"
      ]
    },
    {
      "cell_type": "code",
      "execution_count": 45,
      "metadata": {
        "id": "lpOiog6ffG1N"
      },
      "outputs": [],
      "source": [
        "## import necessary libraries and packages\n",
        "import pandas as pd\n",
        "import numpy as np\n",
        "import matplotlib.pyplot as plt\n",
        "from mpl_toolkits.mplot3d import Axes3D\n",
        "from sklearn.cluster import KMeans\n",
        "import random\n",
        "import copy"
      ]
    },
    {
      "cell_type": "markdown",
      "metadata": {
        "id": "1vulsLQRfAzV"
      },
      "source": [
        "---\n",
        "## Load Data\n",
        "\n",
        "This color data was taken from a selection of digital ad images where the goal of the project was to understand if the presence of certain colors were indicative of high performing ads.\n",
        "\n",
        "However, before making a predictive model, it was necessary to actually classify the color of RBG triples that were present in the images.\n",
        "\n",
        "It is important to note that if the color values were uniformly distributed there would be no value in clustering.\n"
      ]
    },
    {
      "cell_type": "code",
      "execution_count": 46,
      "metadata": {
        "id": "ojQcyUk0fDG_"
      },
      "outputs": [],
      "source": [
        "url = \"https://drive.google.com/file/d/1D-WVx8-CL4a1X4Gvt5MfaS7CLSHzCYa3/view?usp=sharing\"\n",
        "url = 'https://drive.google.com/uc?id=' + url.split('/')[-2]\n",
        "df_colors = pd.read_csv(url)"
      ]
    },
    {
      "cell_type": "markdown",
      "metadata": {
        "id": "sC7gYG67hEEi"
      },
      "source": [
        "---\n",
        "## Examine data\n",
        "\n",
        "If our thesis is correct, similar colors should be near each other in the 3-dimensional RBG space.\n",
        "\n",
        "To visualize this we can plot the RBG components and verify that this is the case.\n",
        "\n",
        "Note that in the plot below, the full RGB triple is used to tell pandas/matplotlib what color to make each dot."
      ]
    },
    {
      "cell_type": "code",
      "execution_count": 47,
      "metadata": {
        "colab": {
          "base_uri": "https://localhost:8080/"
        },
        "id": "4Q_cJb7BC-MO",
        "outputId": "bac3c612-5184-4083-ceaf-20511f3ff7d5"
      },
      "outputs": [
        {
          "output_type": "execute_result",
          "data": {
            "text/plain": [
              "2030"
            ]
          },
          "metadata": {},
          "execution_count": 47
        }
      ],
      "source": [
        "# how many data points?\n",
        "len(df_colors)"
      ]
    },
    {
      "cell_type": "code",
      "execution_count": 48,
      "metadata": {
        "colab": {
          "base_uri": "https://localhost:8080/",
          "height": 206
        },
        "id": "XEhZjtLHcAZa",
        "outputId": "c7fe7b56-3f94-42d2-f3d7-b755d3dbe027"
      },
      "outputs": [
        {
          "output_type": "execute_result",
          "data": {
            "text/plain": [
              "   red  green  blue\n",
              "0  233    197   146\n",
              "1  183     97    58\n",
              "2  188     84     7\n",
              "3  247    252   254\n",
              "4  248    253   253"
            ],
            "text/html": [
              "\n",
              "  <div id=\"df-f9f9f4ec-a99f-4a45-80b3-9c8a65b56124\">\n",
              "    <div class=\"colab-df-container\">\n",
              "      <div>\n",
              "<style scoped>\n",
              "    .dataframe tbody tr th:only-of-type {\n",
              "        vertical-align: middle;\n",
              "    }\n",
              "\n",
              "    .dataframe tbody tr th {\n",
              "        vertical-align: top;\n",
              "    }\n",
              "\n",
              "    .dataframe thead th {\n",
              "        text-align: right;\n",
              "    }\n",
              "</style>\n",
              "<table border=\"1\" class=\"dataframe\">\n",
              "  <thead>\n",
              "    <tr style=\"text-align: right;\">\n",
              "      <th></th>\n",
              "      <th>red</th>\n",
              "      <th>green</th>\n",
              "      <th>blue</th>\n",
              "    </tr>\n",
              "  </thead>\n",
              "  <tbody>\n",
              "    <tr>\n",
              "      <th>0</th>\n",
              "      <td>233</td>\n",
              "      <td>197</td>\n",
              "      <td>146</td>\n",
              "    </tr>\n",
              "    <tr>\n",
              "      <th>1</th>\n",
              "      <td>183</td>\n",
              "      <td>97</td>\n",
              "      <td>58</td>\n",
              "    </tr>\n",
              "    <tr>\n",
              "      <th>2</th>\n",
              "      <td>188</td>\n",
              "      <td>84</td>\n",
              "      <td>7</td>\n",
              "    </tr>\n",
              "    <tr>\n",
              "      <th>3</th>\n",
              "      <td>247</td>\n",
              "      <td>252</td>\n",
              "      <td>254</td>\n",
              "    </tr>\n",
              "    <tr>\n",
              "      <th>4</th>\n",
              "      <td>248</td>\n",
              "      <td>253</td>\n",
              "      <td>253</td>\n",
              "    </tr>\n",
              "  </tbody>\n",
              "</table>\n",
              "</div>\n",
              "      <button class=\"colab-df-convert\" onclick=\"convertToInteractive('df-f9f9f4ec-a99f-4a45-80b3-9c8a65b56124')\"\n",
              "              title=\"Convert this dataframe to an interactive table.\"\n",
              "              style=\"display:none;\">\n",
              "        \n",
              "  <svg xmlns=\"http://www.w3.org/2000/svg\" height=\"24px\"viewBox=\"0 0 24 24\"\n",
              "       width=\"24px\">\n",
              "    <path d=\"M0 0h24v24H0V0z\" fill=\"none\"/>\n",
              "    <path d=\"M18.56 5.44l.94 2.06.94-2.06 2.06-.94-2.06-.94-.94-2.06-.94 2.06-2.06.94zm-11 1L8.5 8.5l.94-2.06 2.06-.94-2.06-.94L8.5 2.5l-.94 2.06-2.06.94zm10 10l.94 2.06.94-2.06 2.06-.94-2.06-.94-.94-2.06-.94 2.06-2.06.94z\"/><path d=\"M17.41 7.96l-1.37-1.37c-.4-.4-.92-.59-1.43-.59-.52 0-1.04.2-1.43.59L10.3 9.45l-7.72 7.72c-.78.78-.78 2.05 0 2.83L4 21.41c.39.39.9.59 1.41.59.51 0 1.02-.2 1.41-.59l7.78-7.78 2.81-2.81c.8-.78.8-2.07 0-2.86zM5.41 20L4 18.59l7.72-7.72 1.47 1.35L5.41 20z\"/>\n",
              "  </svg>\n",
              "      </button>\n",
              "      \n",
              "  <style>\n",
              "    .colab-df-container {\n",
              "      display:flex;\n",
              "      flex-wrap:wrap;\n",
              "      gap: 12px;\n",
              "    }\n",
              "\n",
              "    .colab-df-convert {\n",
              "      background-color: #E8F0FE;\n",
              "      border: none;\n",
              "      border-radius: 50%;\n",
              "      cursor: pointer;\n",
              "      display: none;\n",
              "      fill: #1967D2;\n",
              "      height: 32px;\n",
              "      padding: 0 0 0 0;\n",
              "      width: 32px;\n",
              "    }\n",
              "\n",
              "    .colab-df-convert:hover {\n",
              "      background-color: #E2EBFA;\n",
              "      box-shadow: 0px 1px 2px rgba(60, 64, 67, 0.3), 0px 1px 3px 1px rgba(60, 64, 67, 0.15);\n",
              "      fill: #174EA6;\n",
              "    }\n",
              "\n",
              "    [theme=dark] .colab-df-convert {\n",
              "      background-color: #3B4455;\n",
              "      fill: #D2E3FC;\n",
              "    }\n",
              "\n",
              "    [theme=dark] .colab-df-convert:hover {\n",
              "      background-color: #434B5C;\n",
              "      box-shadow: 0px 1px 3px 1px rgba(0, 0, 0, 0.15);\n",
              "      filter: drop-shadow(0px 1px 2px rgba(0, 0, 0, 0.3));\n",
              "      fill: #FFFFFF;\n",
              "    }\n",
              "  </style>\n",
              "\n",
              "      <script>\n",
              "        const buttonEl =\n",
              "          document.querySelector('#df-f9f9f4ec-a99f-4a45-80b3-9c8a65b56124 button.colab-df-convert');\n",
              "        buttonEl.style.display =\n",
              "          google.colab.kernel.accessAllowed ? 'block' : 'none';\n",
              "\n",
              "        async function convertToInteractive(key) {\n",
              "          const element = document.querySelector('#df-f9f9f4ec-a99f-4a45-80b3-9c8a65b56124');\n",
              "          const dataTable =\n",
              "            await google.colab.kernel.invokeFunction('convertToInteractive',\n",
              "                                                     [key], {});\n",
              "          if (!dataTable) return;\n",
              "\n",
              "          const docLinkHtml = 'Like what you see? Visit the ' +\n",
              "            '<a target=\"_blank\" href=https://colab.research.google.com/notebooks/data_table.ipynb>data table notebook</a>'\n",
              "            + ' to learn more about interactive tables.';\n",
              "          element.innerHTML = '';\n",
              "          dataTable['output_type'] = 'display_data';\n",
              "          await google.colab.output.renderOutput(dataTable, element);\n",
              "          const docLink = document.createElement('div');\n",
              "          docLink.innerHTML = docLinkHtml;\n",
              "          element.appendChild(docLink);\n",
              "        }\n",
              "      </script>\n",
              "    </div>\n",
              "  </div>\n",
              "  "
            ]
          },
          "metadata": {},
          "execution_count": 48
        }
      ],
      "source": [
        "# what is in our DataFrame?\n",
        "df_colors.head()"
      ]
    },
    {
      "cell_type": "code",
      "execution_count": 49,
      "metadata": {
        "colab": {
          "base_uri": "https://localhost:8080/",
          "height": 266
        },
        "id": "7adadJysAozT",
        "outputId": "58d1108e-b4aa-40b6-aca6-3c0b3980a653"
      },
      "outputs": [
        {
          "output_type": "execute_result",
          "data": {
            "text/plain": [
              "<mpl_toolkits.mplot3d.art3d.Path3DCollection at 0x7fd6c5572310>"
            ]
          },
          "metadata": {},
          "execution_count": 49
        },
        {
          "output_type": "display_data",
          "data": {
            "text/plain": [
              "<Figure size 432x288 with 1 Axes>"
            ],
            "image/png": "[encoded data removed]"
          },
          "metadata": {
            "needs_background": "light"
          }
        }
      ],
      "source": [
        "# make a 3d scatter plot\n",
        "colors = np.array(df_colors.values)/256 # colors need to be (r,b,g) tuple in the range of 0-1\n",
        "\n",
        "fig = plt.figure().gca(projection='3d')\n",
        "fig.scatter(df_colors.red, df_colors.green, df_colors.blue, color=colors )"
      ]
    },
    {
      "cell_type": "markdown",
      "metadata": {
        "id": "iKTKmUYllvmx"
      },
      "source": [
        "---\n",
        "### Exercise 1: Construct K-means model (4 points)\n",
        "\n",
        "Fit a KMeans model with 10 clusters.  Be sure to use a fixed `random_state` so that you get consistent results.\n",
        "\n",
        "Use the `predict` function to get the cluster predictions for each data point and add this to the `df_colors` DataFrame "
      ]
    },
    {
      "cell_type": "markdown",
      "metadata": {
        "id": "4UM_zK5UJZK4"
      },
      "source": [
        "##### Student Solution"
      ]
    },
    {
      "cell_type": "code",
      "execution_count": 50,
      "metadata": {
        "id": "ROCne7e6JlKk",
        "colab": {
          "base_uri": "https://localhost:8080/"
        },
        "outputId": "4b4ea393-4db1-4332-8969-dcc915479c6f"
      },
      "outputs": [
        {
          "output_type": "stream",
          "name": "stdout",
          "text": [
            "      red  green  blue  cluster\n",
            "0     233    197   146        0\n",
            "1     183     97    58        4\n",
            "2     188     84     7        4\n",
            "3     247    252   254        5\n",
            "4     248    253   253        5\n",
            "...   ...    ...   ...      ...\n",
            "2025   27    123   141        8\n",
            "2026  194    193   198        0\n",
            "2027   41    113   197        8\n",
            "2028   35    114   197        8\n",
            "2029   27    123   141        8\n",
            "\n",
            "[2030 rows x 4 columns]\n"
          ]
        }
      ],
      "source": [
        "n_clusters = 10\n",
        "random_state = 10  # makes sure you get the same results each time\n",
        "\n",
        "## get np array for RBG values\n",
        "X = np.array(df_colors.values)\n",
        "\n",
        "\n",
        "def fit_kmeans(X, n_clusters, random_state):\n",
        "  ## YOUR CODE HERE ## \n",
        "  model = KMeans(n_clusters = n_clusters,\n",
        "           init = 'random',\n",
        "           #init='k-means++',\n",
        "           n_init = 10,\n",
        "           max_iter = 300,\n",
        "           tol = 1e-04,\n",
        "           random_state = random_state)\n",
        "\n",
        "  return model\n",
        "\n",
        "model = fit_kmeans(X, n_clusters, random_state)\n",
        "\n",
        "## get cluster prediction and add to DataFrame\n",
        "# predict k-means classes\n",
        "df_colors['cluster'] = model.fit_predict(X)\n",
        "#print(model.cluster_centers_)\n",
        "print(df_colors)\n"
      ]
    },
    {
      "cell_type": "markdown",
      "metadata": {
        "id": "ZboSuE-Gd9Zh"
      },
      "source": [
        "## Visualize results for K-means clustering\n"
      ]
    },
    {
      "cell_type": "markdown",
      "metadata": {
        "id": "PtsNYYLSe_D1"
      },
      "source": [
        "---\n",
        "### Exercise 2: Plot a histogram of the distribution of clusters (4 points)\n",
        "\n",
        "Since there are 10 clusters, using the `pandas.DataFrame.hist()` will render the correct distribution of values across each bin since 10 is the default number of bins.\n",
        "\n",
        "Make sure that your visual output also matches the output of `Series.value_counts()`\n"
      ]
    },
    {
      "cell_type": "markdown",
      "metadata": {
        "id": "asvG7XGwKKHS"
      },
      "source": [
        "##### Student Solution"
      ]
    },
    {
      "cell_type": "code",
      "execution_count": 51,
      "metadata": {
        "id": "gwPsVEGGKGSr",
        "colab": {
          "base_uri": "https://localhost:8080/",
          "height": 479
        },
        "outputId": "0afcceaf-14f4-42a2-894e-64069051a305"
      },
      "outputs": [
        {
          "output_type": "stream",
          "name": "stdout",
          "text": [
            "Cluster counts:\n",
            "5    396\n",
            "9    338\n",
            "7    276\n",
            "8    243\n",
            "0    162\n",
            "1    146\n",
            "3    130\n",
            "4    127\n",
            "2    120\n",
            "6     92\n",
            "Name: cluster, dtype: int64\n"
          ]
        },
        {
          "output_type": "display_data",
          "data": {
            "text/plain": [
              "<Figure size 432x288 with 1 Axes>"
            ],
            "image/png": "[encoded data removed]"
          },
          "metadata": {
            "needs_background": "light"
          }
        }
      ],
      "source": [
        "## plot histogram and print out number of points in each color cluster\n",
        "df_colors['cluster'].hist()\n",
        "\n",
        "## YOUR CODE HERE ## \n",
        "print(\"Cluster counts:\")\n",
        "print(df_colors.cluster.value_counts())"
      ]
    },
    {
      "cell_type": "markdown",
      "metadata": {
        "id": "wcgxW7trbt4p"
      },
      "source": [
        "### Examine results of clustering"
      ]
    },
    {
      "cell_type": "code",
      "execution_count": 52,
      "metadata": {
        "colab": {
          "base_uri": "https://localhost:8080/",
          "height": 297
        },
        "id": "8sw287rQb0lo",
        "outputId": "d4cd7621-6e12-4d70-e2ce-f99269cb0382"
      },
      "outputs": [
        {
          "output_type": "execute_result",
          "data": {
            "text/plain": [
              "<matplotlib.axes._subplots.AxesSubplot at 0x7fd6c54677d0>"
            ]
          },
          "metadata": {},
          "execution_count": 52
        },
        {
          "output_type": "display_data",
          "data": {
            "text/plain": [
              "<Figure size 432x288 with 1 Axes>"
            ],
            "image/png": "[encoded data removed]"
          },
          "metadata": {
            "needs_background": "light"
          }
        }
      ],
      "source": [
        "# take a look at distribution of colors - only the first 500 for clarity\n",
        "df_colors[:3000].reset_index(drop=False).plot(x='index', y='cluster', kind='scatter', color=colors[:3000])"
      ]
    },
    {
      "cell_type": "markdown",
      "metadata": {
        "id": "c0mBWkg2cUcj"
      },
      "source": [
        "---\n",
        "### Exercise 3: Establish some human-readable names for your clusters like red, blue, yellow, etc. (4 points)"
      ]
    },
    {
      "cell_type": "markdown",
      "metadata": {
        "id": "RH5gMTLkKgeb"
      },
      "source": [
        "##### Student Solution"
      ]
    },
    {
      "cell_type": "code",
      "source": [
        "df_colors.groupby(['cluster']).agg({'red' : np.mean, 'green': np.mean, 'blue': np.mean})"
      ],
      "metadata": {
        "colab": {
          "base_uri": "https://localhost:8080/",
          "height": 394
        },
        "id": "QCbR2lZEBl0C",
        "outputId": "e923126c-8b05-4750-d066-03ee5b3b1949"
      },
      "execution_count": 53,
      "outputs": [
        {
          "output_type": "execute_result",
          "data": {
            "text/plain": [
              "                red       green        blue\n",
              "cluster                                    \n",
              "0        201.919753  192.481481  167.993827\n",
              "1        143.938356  139.965753  140.958904\n",
              "2        224.900000  180.091667   41.216667\n",
              "3         89.115385  189.976923  217.969231\n",
              "4        137.275591   51.299213   44.795276\n",
              "5        244.318182  246.982323  246.371212\n",
              "6        213.326087   26.782609   42.923913\n",
              "7         55.155797   73.496377   61.184783\n",
              "8         32.860082  102.144033  184.942387\n",
              "9         13.742604   12.257396   16.142012"
            ],
            "text/html": [
              "\n",
              "  <div id=\"df-58188175-088a-4028-bb8c-b824f396d965\">\n",
              "    <div class=\"colab-df-container\">\n",
              "      <div>\n",
              "<style scoped>\n",
              "    .dataframe tbody tr th:only-of-type {\n",
              "        vertical-align: middle;\n",
              "    }\n",
              "\n",
              "    .dataframe tbody tr th {\n",
              "        vertical-align: top;\n",
              "    }\n",
              "\n",
              "    .dataframe thead th {\n",
              "        text-align: right;\n",
              "    }\n",
              "</style>\n",
              "<table border=\"1\" class=\"dataframe\">\n",
              "  <thead>\n",
              "    <tr style=\"text-align: right;\">\n",
              "      <th></th>\n",
              "      <th>red</th>\n",
              "      <th>green</th>\n",
              "      <th>blue</th>\n",
              "    </tr>\n",
              "    <tr>\n",
              "      <th>cluster</th>\n",
              "      <th></th>\n",
              "      <th></th>\n",
              "      <th></th>\n",
              "    </tr>\n",
              "  </thead>\n",
              "  <tbody>\n",
              "    <tr>\n",
              "      <th>0</th>\n",
              "      <td>201.919753</td>\n",
              "      <td>192.481481</td>\n",
              "      <td>167.993827</td>\n",
              "    </tr>\n",
              "    <tr>\n",
              "      <th>1</th>\n",
              "      <td>143.938356</td>\n",
              "      <td>139.965753</td>\n",
              "      <td>140.958904</td>\n",
              "    </tr>\n",
              "    <tr>\n",
              "      <th>2</th>\n",
              "      <td>224.900000</td>\n",
              "      <td>180.091667</td>\n",
              "      <td>41.216667</td>\n",
              "    </tr>\n",
              "    <tr>\n",
              "      <th>3</th>\n",
              "      <td>89.115385</td>\n",
              "      <td>189.976923</td>\n",
              "      <td>217.969231</td>\n",
              "    </tr>\n",
              "    <tr>\n",
              "      <th>4</th>\n",
              "      <td>137.275591</td>\n",
              "      <td>51.299213</td>\n",
              "      <td>44.795276</td>\n",
              "    </tr>\n",
              "    <tr>\n",
              "      <th>5</th>\n",
              "      <td>244.318182</td>\n",
              "      <td>246.982323</td>\n",
              "      <td>246.371212</td>\n",
              "    </tr>\n",
              "    <tr>\n",
              "      <th>6</th>\n",
              "      <td>213.326087</td>\n",
              "      <td>26.782609</td>\n",
              "      <td>42.923913</td>\n",
              "    </tr>\n",
              "    <tr>\n",
              "      <th>7</th>\n",
              "      <td>55.155797</td>\n",
              "      <td>73.496377</td>\n",
              "      <td>61.184783</td>\n",
              "    </tr>\n",
              "    <tr>\n",
              "      <th>8</th>\n",
              "      <td>32.860082</td>\n",
              "      <td>102.144033</td>\n",
              "      <td>184.942387</td>\n",
              "    </tr>\n",
              "    <tr>\n",
              "      <th>9</th>\n",
              "      <td>13.742604</td>\n",
              "      <td>12.257396</td>\n",
              "      <td>16.142012</td>\n",
              "    </tr>\n",
              "  </tbody>\n",
              "</table>\n",
              "</div>\n",
              "      <button class=\"colab-df-convert\" onclick=\"convertToInteractive('df-58188175-088a-4028-bb8c-b824f396d965')\"\n",
              "              title=\"Convert this dataframe to an interactive table.\"\n",
              "              style=\"display:none;\">\n",
              "        \n",
              "  <svg xmlns=\"http://www.w3.org/2000/svg\" height=\"24px\"viewBox=\"0 0 24 24\"\n",
              "       width=\"24px\">\n",
              "    <path d=\"M0 0h24v24H0V0z\" fill=\"none\"/>\n",
              "    <path d=\"M18.56 5.44l.94 2.06.94-2.06 2.06-.94-2.06-.94-.94-2.06-.94 2.06-2.06.94zm-11 1L8.5 8.5l.94-2.06 2.06-.94-2.06-.94L8.5 2.5l-.94 2.06-2.06.94zm10 10l.94 2.06.94-2.06 2.06-.94-2.06-.94-.94-2.06-.94 2.06-2.06.94z\"/><path d=\"M17.41 7.96l-1.37-1.37c-.4-.4-.92-.59-1.43-.59-.52 0-1.04.2-1.43.59L10.3 9.45l-7.72 7.72c-.78.78-.78 2.05 0 2.83L4 21.41c.39.39.9.59 1.41.59.51 0 1.02-.2 1.41-.59l7.78-7.78 2.81-2.81c.8-.78.8-2.07 0-2.86zM5.41 20L4 18.59l7.72-7.72 1.47 1.35L5.41 20z\"/>\n",
              "  </svg>\n",
              "      </button>\n",
              "      \n",
              "  <style>\n",
              "    .colab-df-container {\n",
              "      display:flex;\n",
              "      flex-wrap:wrap;\n",
              "      gap: 12px;\n",
              "    }\n",
              "\n",
              "    .colab-df-convert {\n",
              "      background-color: #E8F0FE;\n",
              "      border: none;\n",
              "      border-radius: 50%;\n",
              "      cursor: pointer;\n",
              "      display: none;\n",
              "      fill: #1967D2;\n",
              "      height: 32px;\n",
              "      padding: 0 0 0 0;\n",
              "      width: 32px;\n",
              "    }\n",
              "\n",
              "    .colab-df-convert:hover {\n",
              "      background-color: #E2EBFA;\n",
              "      box-shadow: 0px 1px 2px rgba(60, 64, 67, 0.3), 0px 1px 3px 1px rgba(60, 64, 67, 0.15);\n",
              "      fill: #174EA6;\n",
              "    }\n",
              "\n",
              "    [theme=dark] .colab-df-convert {\n",
              "      background-color: #3B4455;\n",
              "      fill: #D2E3FC;\n",
              "    }\n",
              "\n",
              "    [theme=dark] .colab-df-convert:hover {\n",
              "      background-color: #434B5C;\n",
              "      box-shadow: 0px 1px 3px 1px rgba(0, 0, 0, 0.15);\n",
              "      filter: drop-shadow(0px 1px 2px rgba(0, 0, 0, 0.3));\n",
              "      fill: #FFFFFF;\n",
              "    }\n",
              "  </style>\n",
              "\n",
              "      <script>\n",
              "        const buttonEl =\n",
              "          document.querySelector('#df-58188175-088a-4028-bb8c-b824f396d965 button.colab-df-convert');\n",
              "        buttonEl.style.display =\n",
              "          google.colab.kernel.accessAllowed ? 'block' : 'none';\n",
              "\n",
              "        async function convertToInteractive(key) {\n",
              "          const element = document.querySelector('#df-58188175-088a-4028-bb8c-b824f396d965');\n",
              "          const dataTable =\n",
              "            await google.colab.kernel.invokeFunction('convertToInteractive',\n",
              "                                                     [key], {});\n",
              "          if (!dataTable) return;\n",
              "\n",
              "          const docLinkHtml = 'Like what you see? Visit the ' +\n",
              "            '<a target=\"_blank\" href=https://colab.research.google.com/notebooks/data_table.ipynb>data table notebook</a>'\n",
              "            + ' to learn more about interactive tables.';\n",
              "          element.innerHTML = '';\n",
              "          dataTable['output_type'] = 'display_data';\n",
              "          await google.colab.output.renderOutput(dataTable, element);\n",
              "          const docLink = document.createElement('div');\n",
              "          docLink.innerHTML = docLinkHtml;\n",
              "          element.appendChild(docLink);\n",
              "        }\n",
              "      </script>\n",
              "    </div>\n",
              "  </div>\n",
              "  "
            ]
          },
          "metadata": {},
          "execution_count": 53
        }
      ]
    },
    {
      "cell_type": "code",
      "source": [
        "df_colors.groupby(['cluster']).agg({'red' : np.max, 'green': np.max, 'blue': np.max})"
      ],
      "metadata": {
        "colab": {
          "base_uri": "https://localhost:8080/",
          "height": 394
        },
        "id": "mAyYFz-GPWsx",
        "outputId": "f1f8d1fb-3ecd-4f32-a51d-d5e515c0b0fd"
      },
      "execution_count": 54,
      "outputs": [
        {
          "output_type": "execute_result",
          "data": {
            "text/plain": [
              "         red  green  blue\n",
              "cluster                  \n",
              "0        248    215   234\n",
              "1        195    175   215\n",
              "2        255    247   105\n",
              "3        155    218   252\n",
              "4        188    127   141\n",
              "5        255    255   255\n",
              "6        255     78   134\n",
              "7        107    148   139\n",
              "8         88    177   253\n",
              "9         56     32    89"
            ],
            "text/html": [
              "\n",
              "  <div id=\"df-2135acc3-636a-43e2-9e18-398937ca1840\">\n",
              "    <div class=\"colab-df-container\">\n",
              "      <div>\n",
              "<style scoped>\n",
              "    .dataframe tbody tr th:only-of-type {\n",
              "        vertical-align: middle;\n",
              "    }\n",
              "\n",
              "    .dataframe tbody tr th {\n",
              "        vertical-align: top;\n",
              "    }\n",
              "\n",
              "    .dataframe thead th {\n",
              "        text-align: right;\n",
              "    }\n",
              "</style>\n",
              "<table border=\"1\" class=\"dataframe\">\n",
              "  <thead>\n",
              "    <tr style=\"text-align: right;\">\n",
              "      <th></th>\n",
              "      <th>red</th>\n",
              "      <th>green</th>\n",
              "      <th>blue</th>\n",
              "    </tr>\n",
              "    <tr>\n",
              "      <th>cluster</th>\n",
              "      <th></th>\n",
              "      <th></th>\n",
              "      <th></th>\n",
              "    </tr>\n",
              "  </thead>\n",
              "  <tbody>\n",
              "    <tr>\n",
              "      <th>0</th>\n",
              "      <td>248</td>\n",
              "      <td>215</td>\n",
              "      <td>234</td>\n",
              "    </tr>\n",
              "    <tr>\n",
              "      <th>1</th>\n",
              "      <td>195</td>\n",
              "      <td>175</td>\n",
              "      <td>215</td>\n",
              "    </tr>\n",
              "    <tr>\n",
              "      <th>2</th>\n",
              "      <td>255</td>\n",
              "      <td>247</td>\n",
              "      <td>105</td>\n",
              "    </tr>\n",
              "    <tr>\n",
              "      <th>3</th>\n",
              "      <td>155</td>\n",
              "      <td>218</td>\n",
              "      <td>252</td>\n",
              "    </tr>\n",
              "    <tr>\n",
              "      <th>4</th>\n",
              "      <td>188</td>\n",
              "      <td>127</td>\n",
              "      <td>141</td>\n",
              "    </tr>\n",
              "    <tr>\n",
              "      <th>5</th>\n",
              "      <td>255</td>\n",
              "      <td>255</td>\n",
              "      <td>255</td>\n",
              "    </tr>\n",
              "    <tr>\n",
              "      <th>6</th>\n",
              "      <td>255</td>\n",
              "      <td>78</td>\n",
              "      <td>134</td>\n",
              "    </tr>\n",
              "    <tr>\n",
              "      <th>7</th>\n",
              "      <td>107</td>\n",
              "      <td>148</td>\n",
              "      <td>139</td>\n",
              "    </tr>\n",
              "    <tr>\n",
              "      <th>8</th>\n",
              "      <td>88</td>\n",
              "      <td>177</td>\n",
              "      <td>253</td>\n",
              "    </tr>\n",
              "    <tr>\n",
              "      <th>9</th>\n",
              "      <td>56</td>\n",
              "      <td>32</td>\n",
              "      <td>89</td>\n",
              "    </tr>\n",
              "  </tbody>\n",
              "</table>\n",
              "</div>\n",
              "      <button class=\"colab-df-convert\" onclick=\"convertToInteractive('df-2135acc3-636a-43e2-9e18-398937ca1840')\"\n",
              "              title=\"Convert this dataframe to an interactive table.\"\n",
              "              style=\"display:none;\">\n",
              "        \n",
              "  <svg xmlns=\"http://www.w3.org/2000/svg\" height=\"24px\"viewBox=\"0 0 24 24\"\n",
              "       width=\"24px\">\n",
              "    <path d=\"M0 0h24v24H0V0z\" fill=\"none\"/>\n",
              "    <path d=\"M18.56 5.44l.94 2.06.94-2.06 2.06-.94-2.06-.94-.94-2.06-.94 2.06-2.06.94zm-11 1L8.5 8.5l.94-2.06 2.06-.94-2.06-.94L8.5 2.5l-.94 2.06-2.06.94zm10 10l.94 2.06.94-2.06 2.06-.94-2.06-.94-.94-2.06-.94 2.06-2.06.94z\"/><path d=\"M17.41 7.96l-1.37-1.37c-.4-.4-.92-.59-1.43-.59-.52 0-1.04.2-1.43.59L10.3 9.45l-7.72 7.72c-.78.78-.78 2.05 0 2.83L4 21.41c.39.39.9.59 1.41.59.51 0 1.02-.2 1.41-.59l7.78-7.78 2.81-2.81c.8-.78.8-2.07 0-2.86zM5.41 20L4 18.59l7.72-7.72 1.47 1.35L5.41 20z\"/>\n",
              "  </svg>\n",
              "      </button>\n",
              "      \n",
              "  <style>\n",
              "    .colab-df-container {\n",
              "      display:flex;\n",
              "      flex-wrap:wrap;\n",
              "      gap: 12px;\n",
              "    }\n",
              "\n",
              "    .colab-df-convert {\n",
              "      background-color: #E8F0FE;\n",
              "      border: none;\n",
              "      border-radius: 50%;\n",
              "      cursor: pointer;\n",
              "      display: none;\n",
              "      fill: #1967D2;\n",
              "      height: 32px;\n",
              "      padding: 0 0 0 0;\n",
              "      width: 32px;\n",
              "    }\n",
              "\n",
              "    .colab-df-convert:hover {\n",
              "      background-color: #E2EBFA;\n",
              "      box-shadow: 0px 1px 2px rgba(60, 64, 67, 0.3), 0px 1px 3px 1px rgba(60, 64, 67, 0.15);\n",
              "      fill: #174EA6;\n",
              "    }\n",
              "\n",
              "    [theme=dark] .colab-df-convert {\n",
              "      background-color: #3B4455;\n",
              "      fill: #D2E3FC;\n",
              "    }\n",
              "\n",
              "    [theme=dark] .colab-df-convert:hover {\n",
              "      background-color: #434B5C;\n",
              "      box-shadow: 0px 1px 3px 1px rgba(0, 0, 0, 0.15);\n",
              "      filter: drop-shadow(0px 1px 2px rgba(0, 0, 0, 0.3));\n",
              "      fill: #FFFFFF;\n",
              "    }\n",
              "  </style>\n",
              "\n",
              "      <script>\n",
              "        const buttonEl =\n",
              "          document.querySelector('#df-2135acc3-636a-43e2-9e18-398937ca1840 button.colab-df-convert');\n",
              "        buttonEl.style.display =\n",
              "          google.colab.kernel.accessAllowed ? 'block' : 'none';\n",
              "\n",
              "        async function convertToInteractive(key) {\n",
              "          const element = document.querySelector('#df-2135acc3-636a-43e2-9e18-398937ca1840');\n",
              "          const dataTable =\n",
              "            await google.colab.kernel.invokeFunction('convertToInteractive',\n",
              "                                                     [key], {});\n",
              "          if (!dataTable) return;\n",
              "\n",
              "          const docLinkHtml = 'Like what you see? Visit the ' +\n",
              "            '<a target=\"_blank\" href=https://colab.research.google.com/notebooks/data_table.ipynb>data table notebook</a>'\n",
              "            + ' to learn more about interactive tables.';\n",
              "          element.innerHTML = '';\n",
              "          dataTable['output_type'] = 'display_data';\n",
              "          await google.colab.output.renderOutput(dataTable, element);\n",
              "          const docLink = document.createElement('div');\n",
              "          docLink.innerHTML = docLinkHtml;\n",
              "          element.appendChild(docLink);\n",
              "        }\n",
              "      </script>\n",
              "    </div>\n",
              "  </div>\n",
              "  "
            ]
          },
          "metadata": {},
          "execution_count": 54
        }
      ]
    },
    {
      "cell_type": "code",
      "source": [
        "df_colors.groupby(['cluster']).agg({'red' : np.min, 'green': np.min, 'blue': np.min})"
      ],
      "metadata": {
        "colab": {
          "base_uri": "https://localhost:8080/",
          "height": 394
        },
        "id": "tVsiRG2tPjRV",
        "outputId": "adf221f9-9ef7-4228-ad3b-ef992b46ff01"
      },
      "execution_count": 55,
      "outputs": [
        {
          "output_type": "execute_result",
          "data": {
            "text/plain": [
              "         red  green  blue\n",
              "cluster                  \n",
              "0        165    124   130\n",
              "1         90     35    62\n",
              "2        133    105     1\n",
              "3          1    152   157\n",
              "4         85      1     2\n",
              "5        195    222   186\n",
              "6        182      2     2\n",
              "7          2     35    16\n",
              "8          0      1   124\n",
              "9          0      0     0"
            ],
            "text/html": [
              "\n",
              "  <div id=\"df-410ae83d-7379-4893-ad96-935be127c9a9\">\n",
              "    <div class=\"colab-df-container\">\n",
              "      <div>\n",
              "<style scoped>\n",
              "    .dataframe tbody tr th:only-of-type {\n",
              "        vertical-align: middle;\n",
              "    }\n",
              "\n",
              "    .dataframe tbody tr th {\n",
              "        vertical-align: top;\n",
              "    }\n",
              "\n",
              "    .dataframe thead th {\n",
              "        text-align: right;\n",
              "    }\n",
              "</style>\n",
              "<table border=\"1\" class=\"dataframe\">\n",
              "  <thead>\n",
              "    <tr style=\"text-align: right;\">\n",
              "      <th></th>\n",
              "      <th>red</th>\n",
              "      <th>green</th>\n",
              "      <th>blue</th>\n",
              "    </tr>\n",
              "    <tr>\n",
              "      <th>cluster</th>\n",
              "      <th></th>\n",
              "      <th></th>\n",
              "      <th></th>\n",
              "    </tr>\n",
              "  </thead>\n",
              "  <tbody>\n",
              "    <tr>\n",
              "      <th>0</th>\n",
              "      <td>165</td>\n",
              "      <td>124</td>\n",
              "      <td>130</td>\n",
              "    </tr>\n",
              "    <tr>\n",
              "      <th>1</th>\n",
              "      <td>90</td>\n",
              "      <td>35</td>\n",
              "      <td>62</td>\n",
              "    </tr>\n",
              "    <tr>\n",
              "      <th>2</th>\n",
              "      <td>133</td>\n",
              "      <td>105</td>\n",
              "      <td>1</td>\n",
              "    </tr>\n",
              "    <tr>\n",
              "      <th>3</th>\n",
              "      <td>1</td>\n",
              "      <td>152</td>\n",
              "      <td>157</td>\n",
              "    </tr>\n",
              "    <tr>\n",
              "      <th>4</th>\n",
              "      <td>85</td>\n",
              "      <td>1</td>\n",
              "      <td>2</td>\n",
              "    </tr>\n",
              "    <tr>\n",
              "      <th>5</th>\n",
              "      <td>195</td>\n",
              "      <td>222</td>\n",
              "      <td>186</td>\n",
              "    </tr>\n",
              "    <tr>\n",
              "      <th>6</th>\n",
              "      <td>182</td>\n",
              "      <td>2</td>\n",
              "      <td>2</td>\n",
              "    </tr>\n",
              "    <tr>\n",
              "      <th>7</th>\n",
              "      <td>2</td>\n",
              "      <td>35</td>\n",
              "      <td>16</td>\n",
              "    </tr>\n",
              "    <tr>\n",
              "      <th>8</th>\n",
              "      <td>0</td>\n",
              "      <td>1</td>\n",
              "      <td>124</td>\n",
              "    </tr>\n",
              "    <tr>\n",
              "      <th>9</th>\n",
              "      <td>0</td>\n",
              "      <td>0</td>\n",
              "      <td>0</td>\n",
              "    </tr>\n",
              "  </tbody>\n",
              "</table>\n",
              "</div>\n",
              "      <button class=\"colab-df-convert\" onclick=\"convertToInteractive('df-410ae83d-7379-4893-ad96-935be127c9a9')\"\n",
              "              title=\"Convert this dataframe to an interactive table.\"\n",
              "              style=\"display:none;\">\n",
              "        \n",
              "  <svg xmlns=\"http://www.w3.org/2000/svg\" height=\"24px\"viewBox=\"0 0 24 24\"\n",
              "       width=\"24px\">\n",
              "    <path d=\"M0 0h24v24H0V0z\" fill=\"none\"/>\n",
              "    <path d=\"M18.56 5.44l.94 2.06.94-2.06 2.06-.94-2.06-.94-.94-2.06-.94 2.06-2.06.94zm-11 1L8.5 8.5l.94-2.06 2.06-.94-2.06-.94L8.5 2.5l-.94 2.06-2.06.94zm10 10l.94 2.06.94-2.06 2.06-.94-2.06-.94-.94-2.06-.94 2.06-2.06.94z\"/><path d=\"M17.41 7.96l-1.37-1.37c-.4-.4-.92-.59-1.43-.59-.52 0-1.04.2-1.43.59L10.3 9.45l-7.72 7.72c-.78.78-.78 2.05 0 2.83L4 21.41c.39.39.9.59 1.41.59.51 0 1.02-.2 1.41-.59l7.78-7.78 2.81-2.81c.8-.78.8-2.07 0-2.86zM5.41 20L4 18.59l7.72-7.72 1.47 1.35L5.41 20z\"/>\n",
              "  </svg>\n",
              "      </button>\n",
              "      \n",
              "  <style>\n",
              "    .colab-df-container {\n",
              "      display:flex;\n",
              "      flex-wrap:wrap;\n",
              "      gap: 12px;\n",
              "    }\n",
              "\n",
              "    .colab-df-convert {\n",
              "      background-color: #E8F0FE;\n",
              "      border: none;\n",
              "      border-radius: 50%;\n",
              "      cursor: pointer;\n",
              "      display: none;\n",
              "      fill: #1967D2;\n",
              "      height: 32px;\n",
              "      padding: 0 0 0 0;\n",
              "      width: 32px;\n",
              "    }\n",
              "\n",
              "    .colab-df-convert:hover {\n",
              "      background-color: #E2EBFA;\n",
              "      box-shadow: 0px 1px 2px rgba(60, 64, 67, 0.3), 0px 1px 3px 1px rgba(60, 64, 67, 0.15);\n",
              "      fill: #174EA6;\n",
              "    }\n",
              "\n",
              "    [theme=dark] .colab-df-convert {\n",
              "      background-color: #3B4455;\n",
              "      fill: #D2E3FC;\n",
              "    }\n",
              "\n",
              "    [theme=dark] .colab-df-convert:hover {\n",
              "      background-color: #434B5C;\n",
              "      box-shadow: 0px 1px 3px 1px rgba(0, 0, 0, 0.15);\n",
              "      filter: drop-shadow(0px 1px 2px rgba(0, 0, 0, 0.3));\n",
              "      fill: #FFFFFF;\n",
              "    }\n",
              "  </style>\n",
              "\n",
              "      <script>\n",
              "        const buttonEl =\n",
              "          document.querySelector('#df-410ae83d-7379-4893-ad96-935be127c9a9 button.colab-df-convert');\n",
              "        buttonEl.style.display =\n",
              "          google.colab.kernel.accessAllowed ? 'block' : 'none';\n",
              "\n",
              "        async function convertToInteractive(key) {\n",
              "          const element = document.querySelector('#df-410ae83d-7379-4893-ad96-935be127c9a9');\n",
              "          const dataTable =\n",
              "            await google.colab.kernel.invokeFunction('convertToInteractive',\n",
              "                                                     [key], {});\n",
              "          if (!dataTable) return;\n",
              "\n",
              "          const docLinkHtml = 'Like what you see? Visit the ' +\n",
              "            '<a target=\"_blank\" href=https://colab.research.google.com/notebooks/data_table.ipynb>data table notebook</a>'\n",
              "            + ' to learn more about interactive tables.';\n",
              "          element.innerHTML = '';\n",
              "          dataTable['output_type'] = 'display_data';\n",
              "          await google.colab.output.renderOutput(dataTable, element);\n",
              "          const docLink = document.createElement('div');\n",
              "          docLink.innerHTML = docLinkHtml;\n",
              "          element.appendChild(docLink);\n",
              "        }\n",
              "      </script>\n",
              "    </div>\n",
              "  </div>\n",
              "  "
            ]
          },
          "metadata": {},
          "execution_count": 55
        }
      ]
    },
    {
      "cell_type": "code",
      "source": [
        "df_colors.groupby(['cluster']).agg({'red' : np.median, 'green': np.median, 'blue': np.median})"
      ],
      "metadata": {
        "id": "y9QgzJmKR5qn",
        "outputId": "a580f944-4167-4e8c-849a-26d48cc92912",
        "colab": {
          "base_uri": "https://localhost:8080/",
          "height": 394
        }
      },
      "execution_count": 56,
      "outputs": [
        {
          "output_type": "execute_result",
          "data": {
            "text/plain": [
              "           red  green   blue\n",
              "cluster                     \n",
              "0        206.0  193.0  159.5\n",
              "1        140.0  154.5  155.5\n",
              "2        233.0  180.0   34.0\n",
              "3         97.0  186.0  226.0\n",
              "4        129.0   43.0   37.0\n",
              "5        247.0  251.0  252.0\n",
              "6        217.0   15.0   24.0\n",
              "7         64.0   58.5   59.0\n",
              "8         27.0  114.0  183.0\n",
              "9         14.0   12.0   15.0"
            ],
            "text/html": [
              "\n",
              "  <div id=\"df-56340d6a-8159-4951-914b-c148e7864d04\">\n",
              "    <div class=\"colab-df-container\">\n",
              "      <div>\n",
              "<style scoped>\n",
              "    .dataframe tbody tr th:only-of-type {\n",
              "        vertical-align: middle;\n",
              "    }\n",
              "\n",
              "    .dataframe tbody tr th {\n",
              "        vertical-align: top;\n",
              "    }\n",
              "\n",
              "    .dataframe thead th {\n",
              "        text-align: right;\n",
              "    }\n",
              "</style>\n",
              "<table border=\"1\" class=\"dataframe\">\n",
              "  <thead>\n",
              "    <tr style=\"text-align: right;\">\n",
              "      <th></th>\n",
              "      <th>red</th>\n",
              "      <th>green</th>\n",
              "      <th>blue</th>\n",
              "    </tr>\n",
              "    <tr>\n",
              "      <th>cluster</th>\n",
              "      <th></th>\n",
              "      <th></th>\n",
              "      <th></th>\n",
              "    </tr>\n",
              "  </thead>\n",
              "  <tbody>\n",
              "    <tr>\n",
              "      <th>0</th>\n",
              "      <td>206.0</td>\n",
              "      <td>193.0</td>\n",
              "      <td>159.5</td>\n",
              "    </tr>\n",
              "    <tr>\n",
              "      <th>1</th>\n",
              "      <td>140.0</td>\n",
              "      <td>154.5</td>\n",
              "      <td>155.5</td>\n",
              "    </tr>\n",
              "    <tr>\n",
              "      <th>2</th>\n",
              "      <td>233.0</td>\n",
              "      <td>180.0</td>\n",
              "      <td>34.0</td>\n",
              "    </tr>\n",
              "    <tr>\n",
              "      <th>3</th>\n",
              "      <td>97.0</td>\n",
              "      <td>186.0</td>\n",
              "      <td>226.0</td>\n",
              "    </tr>\n",
              "    <tr>\n",
              "      <th>4</th>\n",
              "      <td>129.0</td>\n",
              "      <td>43.0</td>\n",
              "      <td>37.0</td>\n",
              "    </tr>\n",
              "    <tr>\n",
              "      <th>5</th>\n",
              "      <td>247.0</td>\n",
              "      <td>251.0</td>\n",
              "      <td>252.0</td>\n",
              "    </tr>\n",
              "    <tr>\n",
              "      <th>6</th>\n",
              "      <td>217.0</td>\n",
              "      <td>15.0</td>\n",
              "      <td>24.0</td>\n",
              "    </tr>\n",
              "    <tr>\n",
              "      <th>7</th>\n",
              "      <td>64.0</td>\n",
              "      <td>58.5</td>\n",
              "      <td>59.0</td>\n",
              "    </tr>\n",
              "    <tr>\n",
              "      <th>8</th>\n",
              "      <td>27.0</td>\n",
              "      <td>114.0</td>\n",
              "      <td>183.0</td>\n",
              "    </tr>\n",
              "    <tr>\n",
              "      <th>9</th>\n",
              "      <td>14.0</td>\n",
              "      <td>12.0</td>\n",
              "      <td>15.0</td>\n",
              "    </tr>\n",
              "  </tbody>\n",
              "</table>\n",
              "</div>\n",
              "      <button class=\"colab-df-convert\" onclick=\"convertToInteractive('df-56340d6a-8159-4951-914b-c148e7864d04')\"\n",
              "              title=\"Convert this dataframe to an interactive table.\"\n",
              "              style=\"display:none;\">\n",
              "        \n",
              "  <svg xmlns=\"http://www.w3.org/2000/svg\" height=\"24px\"viewBox=\"0 0 24 24\"\n",
              "       width=\"24px\">\n",
              "    <path d=\"M0 0h24v24H0V0z\" fill=\"none\"/>\n",
              "    <path d=\"M18.56 5.44l.94 2.06.94-2.06 2.06-.94-2.06-.94-.94-2.06-.94 2.06-2.06.94zm-11 1L8.5 8.5l.94-2.06 2.06-.94-2.06-.94L8.5 2.5l-.94 2.06-2.06.94zm10 10l.94 2.06.94-2.06 2.06-.94-2.06-.94-.94-2.06-.94 2.06-2.06.94z\"/><path d=\"M17.41 7.96l-1.37-1.37c-.4-.4-.92-.59-1.43-.59-.52 0-1.04.2-1.43.59L10.3 9.45l-7.72 7.72c-.78.78-.78 2.05 0 2.83L4 21.41c.39.39.9.59 1.41.59.51 0 1.02-.2 1.41-.59l7.78-7.78 2.81-2.81c.8-.78.8-2.07 0-2.86zM5.41 20L4 18.59l7.72-7.72 1.47 1.35L5.41 20z\"/>\n",
              "  </svg>\n",
              "      </button>\n",
              "      \n",
              "  <style>\n",
              "    .colab-df-container {\n",
              "      display:flex;\n",
              "      flex-wrap:wrap;\n",
              "      gap: 12px;\n",
              "    }\n",
              "\n",
              "    .colab-df-convert {\n",
              "      background-color: #E8F0FE;\n",
              "      border: none;\n",
              "      border-radius: 50%;\n",
              "      cursor: pointer;\n",
              "      display: none;\n",
              "      fill: #1967D2;\n",
              "      height: 32px;\n",
              "      padding: 0 0 0 0;\n",
              "      width: 32px;\n",
              "    }\n",
              "\n",
              "    .colab-df-convert:hover {\n",
              "      background-color: #E2EBFA;\n",
              "      box-shadow: 0px 1px 2px rgba(60, 64, 67, 0.3), 0px 1px 3px 1px rgba(60, 64, 67, 0.15);\n",
              "      fill: #174EA6;\n",
              "    }\n",
              "\n",
              "    [theme=dark] .colab-df-convert {\n",
              "      background-color: #3B4455;\n",
              "      fill: #D2E3FC;\n",
              "    }\n",
              "\n",
              "    [theme=dark] .colab-df-convert:hover {\n",
              "      background-color: #434B5C;\n",
              "      box-shadow: 0px 1px 3px 1px rgba(0, 0, 0, 0.15);\n",
              "      filter: drop-shadow(0px 1px 2px rgba(0, 0, 0, 0.3));\n",
              "      fill: #FFFFFF;\n",
              "    }\n",
              "  </style>\n",
              "\n",
              "      <script>\n",
              "        const buttonEl =\n",
              "          document.querySelector('#df-56340d6a-8159-4951-914b-c148e7864d04 button.colab-df-convert');\n",
              "        buttonEl.style.display =\n",
              "          google.colab.kernel.accessAllowed ? 'block' : 'none';\n",
              "\n",
              "        async function convertToInteractive(key) {\n",
              "          const element = document.querySelector('#df-56340d6a-8159-4951-914b-c148e7864d04');\n",
              "          const dataTable =\n",
              "            await google.colab.kernel.invokeFunction('convertToInteractive',\n",
              "                                                     [key], {});\n",
              "          if (!dataTable) return;\n",
              "\n",
              "          const docLinkHtml = 'Like what you see? Visit the ' +\n",
              "            '<a target=\"_blank\" href=https://colab.research.google.com/notebooks/data_table.ipynb>data table notebook</a>'\n",
              "            + ' to learn more about interactive tables.';\n",
              "          element.innerHTML = '';\n",
              "          dataTable['output_type'] = 'display_data';\n",
              "          await google.colab.output.renderOutput(dataTable, element);\n",
              "          const docLink = document.createElement('div');\n",
              "          docLink.innerHTML = docLinkHtml;\n",
              "          element.appendChild(docLink);\n",
              "        }\n",
              "      </script>\n",
              "    </div>\n",
              "  </div>\n",
              "  "
            ]
          },
          "metadata": {},
          "execution_count": 56
        }
      ]
    },
    {
      "cell_type": "code",
      "execution_count": 57,
      "metadata": {
        "id": "Nn-zY57rcYFn",
        "colab": {
          "base_uri": "https://localhost:8080/"
        },
        "outputId": "234ca8bb-c266-4d58-bb33-90f9882b5c1b"
      },
      "outputs": [
        {
          "output_type": "stream",
          "name": "stdout",
          "text": [
            "{0: 'khaki', 1: 'gray/magenta mix', 2: 'urobilin', 3: 'turquoise blue', 4: 'burgandy', 5: 'light green/isabelline', 6: 'red', 7: 'dark green', 8: 'blue', 9: 'black'}\n",
            "0                        khaki\n",
            "1                     burgandy\n",
            "2                     burgandy\n",
            "3       light green/isabelline\n",
            "4       light green/isabelline\n",
            "                 ...          \n",
            "2025                      blue\n",
            "2026                     khaki\n",
            "2027                      blue\n",
            "2028                      blue\n",
            "2029                      blue\n",
            "Name: cluster, Length: 2030, dtype: object\n"
          ]
        }
      ],
      "source": [
        "# name your clusters\n",
        "\n",
        "## YOUR CODE HERE ## \n",
        "# ref : https://www.rapidtables.com/web/color/RGB_Color.html\n",
        "# ref : https://inventhigh.com/colorchart\n",
        "\n",
        "color_dict = {\n",
        "    0:'khaki', \n",
        "    1:'gray/magenta mix',\n",
        "    2:'urobilin',\n",
        "    3:'turquoise blue',\n",
        "    4:'burgandy',\n",
        "    5:'light green/isabelline',\n",
        "    6:'red',\n",
        "    7:'dark green',\n",
        "    8:'blue',\n",
        "    9:'black'\n",
        "}\n",
        "\n",
        "print(color_dict)\n",
        "print(df_colors['cluster'].map(color_dict))"
      ]
    },
    {
      "cell_type": "markdown",
      "metadata": {
        "id": "hqygpwqUcjuL"
      },
      "source": [
        "---\n",
        "### Exercise 4: Determine the centroids of the clusters (4 points)\n"
      ]
    },
    {
      "cell_type": "markdown",
      "metadata": {
        "id": "4M2FoubOLeTe"
      },
      "source": [
        "##### Student Solution"
      ]
    },
    {
      "cell_type": "code",
      "source": [
        "# get centroids\n",
        "\n",
        "## YOUR CODE HERE ## \n",
        "centroids = model.cluster_centers_\n",
        "print(model.cluster_centers_)"
      ],
      "metadata": {
        "colab": {
          "base_uri": "https://localhost:8080/"
        },
        "id": "b3KdnLr-Gmao",
        "outputId": "bfe6f51a-dd0e-45dc-8bf4-001a489a1c3b"
      },
      "execution_count": 58,
      "outputs": [
        {
          "output_type": "stream",
          "name": "stdout",
          "text": [
            "[[201.91975309 192.48148148 167.99382716]\n",
            " [143.93835616 139.96575342 140.95890411]\n",
            " [224.9        180.09166667  41.21666667]\n",
            " [ 89.11538462 189.97692308 217.96923077]\n",
            " [137.27559055  51.2992126   44.79527559]\n",
            " [244.31818182 246.98232323 246.37121212]\n",
            " [213.32608696  26.7826087   42.92391304]\n",
            " [ 55.1557971   73.49637681  61.18478261]\n",
            " [ 32.8600823  102.14403292 184.94238683]\n",
            " [ 13.74260355  12.25739645  16.14201183]]\n"
          ]
        }
      ]
    },
    {
      "cell_type": "markdown",
      "metadata": {
        "id": "4vxCLwk1czBJ"
      },
      "source": [
        "---\n",
        "### Exercise 5: Write a function that makes the best guess of an RGB triple based on the centroids (4 points)\n",
        "\n",
        "The  [`KMeans.predict()`](https://scikit-learn.org/stable/modules/generated/sklearn.cluster.KMeans.html#sklearn.cluster.KMeans.predict) function predicts the cluster of any test data point by returning the cluster whose center is closest to the test data point.\n",
        "\n",
        "Without using `predict()` write a function that guesses the color of an RBG triple by finding the nearest centroid.\n",
        "\n",
        "There are many ways to calculate distance.  For this exercise it is sufficient to use a simple Euclidean distance formula.\n"
      ]
    },
    {
      "cell_type": "markdown",
      "metadata": {
        "id": "NGiSb93cghfC"
      },
      "source": [
        "##### Student Solution"
      ]
    },
    {
      "cell_type": "code",
      "execution_count": 59,
      "metadata": {
        "id": "Ocw4OTu2c2DF",
        "colab": {
          "base_uri": "https://localhost:8080/"
        },
        "outputId": "cc49c028-db23-4e1c-919b-a0648e6974ef"
      },
      "outputs": [
        {
          "output_type": "stream",
          "name": "stdout",
          "text": [
            "red\n"
          ]
        }
      ],
      "source": [
        "## your color guessing function\n",
        "def guess_color(centroids, color_dict, test_color):\n",
        "\n",
        "  ## YOUR CODE HERE ## \n",
        "  sq_dist_list = []\n",
        "  sum_sq_dist_list = []\n",
        "  sqrt_sum_sq_dist_list = []\n",
        "  temp_np_array = np.asarray(centroids) - np.asarray(test_color)\n",
        "  for e in temp_np_array:\n",
        "    sq_dist_list.append(np.square(e))\n",
        "  for e in np.asarray(sq_dist_list):\n",
        "    sum_sq_dist_list.append(np.sum(e))\n",
        "  for e in np.asarray(sum_sq_dist_list):\n",
        "    sqrt_sum_sq_dist_list.append(np.sqrt(e))\n",
        "  color_val = np.argmin(np.asarray(sqrt_sum_sq_dist_list))\n",
        "  color_name = color_dict[color_val]\n",
        "  return color_name\n",
        "\n",
        "color1 = [200, 5, 5]  # approximately red \n",
        "print(guess_color(centroids=centroids, color_dict=color_dict, test_color=color1))"
      ]
    },
    {
      "cell_type": "markdown",
      "metadata": {
        "id": "Ffx7sbNMfe4u"
      },
      "source": [
        "---\n",
        "### Exercise 6: Write a function that returns the colors name based on the `predict()` function (4 points)\n"
      ]
    },
    {
      "cell_type": "code",
      "execution_count": 60,
      "metadata": {
        "id": "vwJN1DUQfrD_",
        "colab": {
          "base_uri": "https://localhost:8080/"
        },
        "outputId": "8e034476-9b80-48df-fe7e-87f7348a315b"
      },
      "outputs": [
        {
          "output_type": "stream",
          "name": "stdout",
          "text": [
            "red\n"
          ]
        }
      ],
      "source": [
        "def predict_color(model, color_dict, test_color):\n",
        "\n",
        "    ## YOUR CODE HERE ## \n",
        "    color_name = model.predict([np.asarray(test_color)])\n",
        "    #print(color_name[0])\n",
        "    return color_dict[color_name[0]]\n",
        "\n",
        "color1 = [200, 5, 5] # approximately red \n",
        "print(predict_color(model=model, color_dict=color_dict, test_color=color1))"
      ]
    },
    {
      "cell_type": "markdown",
      "metadata": {
        "id": "niUwnKpZhFeP"
      },
      "source": [
        "---\n",
        "### Exercise 7: Explainability - make some visual output to show that your guesses worked (4 points)\n",
        "\n",
        "It is very important in data sceince, when possible, to have a \"visual confirmation\" that our code is working.  Think of this as an explainability exercise where you need to vefiry that your code it working.\n",
        "\n",
        "Use `matplotlib` to make some visual out to verify that `color1` is indeed RED.\n",
        "\n",
        "Here is an example, but anything that shows the color in a programmatic way is fine.\n",
        "\n",
        "![red.png](data:image/png;base64,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)\n",
        "\n",
        "\n"
      ]
    },
    {
      "cell_type": "code",
      "execution_count": 61,
      "metadata": {
        "id": "U-ZJuciof8s8",
        "colab": {
          "base_uri": "https://localhost:8080/",
          "height": 281
        },
        "outputId": "5e94f7b1-cc3a-4519-821d-436b162dcce8"
      },
      "outputs": [
        {
          "output_type": "display_data",
          "data": {
            "text/plain": [
              "<Figure size 432x288 with 1 Axes>"
            ],
            "image/png": "[encoded data removed]"
          },
          "metadata": {
            "needs_background": "light"
          }
        }
      ],
      "source": [
        "def show_color(test_color, color_name):\n",
        "\n",
        "  ## do something\n",
        "  plt.scatter(1,1,color = np.asarray(test_color)/ 255, s=10000)\n",
        "  plt.title(\"Guessed: \"+color_name)\n",
        "  return plt.show()\n",
        "  \n",
        "\n",
        "color1 = [200, 5, 5] # approximately red \n",
        "color1_name = guess_color(centroids=centroids, color_dict=color_dict, test_color=color1)\n",
        "show_color(color1, color1_name)"
      ]
    },
    {
      "cell_type": "markdown",
      "metadata": {
        "id": "_wmPs6IFlPV0"
      },
      "source": [
        "---\n",
        "### Exercise 8: Check a range of colors (4 points)\n",
        " \n",
        "Given the list of `test_colors`, predict the colors using your `guess_color` function\n",
        "\n",
        "Comment on how good the guesses are.  Are there any unexcepted results? \n"
      ]
    },
    {
      "cell_type": "code",
      "execution_count": 62,
      "metadata": {
        "id": "kSvZ6Y1uByd4"
      },
      "outputs": [],
      "source": [
        "## generate test colors\n",
        "def make_test_colors(n=3):\n",
        "    test_colors = list()\n",
        "    for rr in range(n+1):\n",
        "        for gg in range(n+1):\n",
        "            for bb in range(n+1):\n",
        "                red = int(rr/n*255)\n",
        "                green = int(gg/n*255)\n",
        "                blue = int(bb/n*255)\n",
        "\n",
        "            color = [red, green, blue]\n",
        "            test_colors.append(color)\n",
        "    test_colors = np.array(test_colors)\n",
        "    \n",
        "    return test_colors"
      ]
    },
    {
      "cell_type": "code",
      "execution_count": 63,
      "metadata": {
        "id": "qz3UN4kTDdof",
        "colab": {
          "base_uri": "https://localhost:8080/",
          "height": 1000
        },
        "outputId": "4be6c420-28ea-40fe-fc00-c237161556b6"
      },
      "outputs": [
        {
          "output_type": "display_data",
          "data": {
            "text/plain": [
              "<Figure size 432x288 with 1 Axes>"
            ],
            "image/png": "[encoded data removed]"
          },
          "metadata": {
            "needs_background": "light"
          }
        },
        {
          "output_type": "display_data",
          "data": {
            "text/plain": [
              "<Figure size 432x288 with 1 Axes>"
            ],
            "image/png": "[encoded data removed]"
          },
          "metadata": {
            "needs_background": "light"
          }
        },
        {
          "output_type": "display_data",
          "data": {
            "text/plain": [
              "<Figure size 432x288 with 1 Axes>"
            ],
            "image/png": "[encoded data removed]"
          },
          "metadata": {
            "needs_background": "light"
          }
        },
        {
          "output_type": "display_data",
          "data": {
            "text/plain": [
              "<Figure size 432x288 with 1 Axes>"
            ],
            "image/png": "[encoded data removed]"
          },
          "metadata": {
            "needs_background": "light"
          }
        },
        {
          "output_type": "display_data",
          "data": {
            "text/plain": [
              "<Figure size 432x288 with 1 Axes>"
            ],
            "image/png": "[encoded data removed]"
          },
          "metadata": {
            "needs_background": "light"
          }
        },
        {
          "output_type": "display_data",
          "data": {
            "text/plain": [
              "<Figure size 432x288 with 1 Axes>"
            ],
            "image/png": "[encoded data removed]"
          },
          "metadata": {
            "needs_background": "light"
          }
        },
        {
          "output_type": "display_data",
          "data": {
            "text/plain": [
              "<Figure size 432x288 with 1 Axes>"
            ],
            "image/png": "[encoded data removed]"
          },
          "metadata": {
            "needs_background": "light"
          }
        },
        {
          "output_type": "display_data",
          "data": {
            "text/plain": [
              "<Figure size 432x288 with 1 Axes>"
            ],
            "image/png": "[encoded data removed]"
          },
          "metadata": {
            "needs_background": "light"
          }
        },
        {
          "output_type": "display_data",
          "data": {
            "text/plain": [
              "<Figure size 432x288 with 1 Axes>"
            ],
            "image/png": "[encoded data removed]"
          },
          "metadata": {
            "needs_background": "light"
          }
        },
        {
          "output_type": "display_data",
          "data": {
            "text/plain": [
              "<Figure size 432x288 with 1 Axes>"
            ],
            "image/png": "[encoded data removed]"
          },
          "metadata": {
            "needs_background": "light"
          }
        },
        {
          "output_type": "display_data",
          "data": {
            "text/plain": [
              "<Figure size 432x288 with 1 Axes>"
            ],
            "image/png": "[encoded data removed]"
          },
          "metadata": {
            "needs_background": "light"
          }
        },
        {
          "output_type": "display_data",
          "data": {
            "text/plain": [
              "<Figure size 432x288 with 1 Axes>"
            ],
            "image/png": "[encoded data removed]"
          },
          "metadata": {
            "needs_background": "light"
          }
        },
        {
          "output_type": "display_data",
          "data": {
            "text/plain": [
              "<Figure size 432x288 with 1 Axes>"
            ],
            "image/png": "[encoded data removed]"
          },
          "metadata": {
            "needs_background": "light"
          }
        },
        {
          "output_type": "display_data",
          "data": {
            "text/plain": [
              "<Figure size 432x288 with 1 Axes>"
            ],
            "image/png": "[encoded data removed]"
          },
          "metadata": {
            "needs_background": "light"
          }
        },
        {
          "output_type": "display_data",
          "data": {
            "text/plain": [
              "<Figure size 432x288 with 1 Axes>"
            ],
            "image/png": "[encoded data removed]"
          },
          "metadata": {
            "needs_background": "light"
          }
        },
        {
          "output_type": "display_data",
          "data": {
            "text/plain": [
              "<Figure size 432x288 with 1 Axes>"
            ],
            "image/png": "[encoded data removed]"
          },
          "metadata": {
            "needs_background": "light"
          }
        },
        {
          "output_type": "stream",
          "name": "stdout",
          "text": [
            "[[  0   0 255]\n",
            " [  0  85 255]\n",
            " [  0 170 255]\n",
            " [  0 255 255]\n",
            " [ 85   0 255]\n",
            " [ 85  85 255]\n",
            " [ 85 170 255]\n",
            " [ 85 255 255]\n",
            " [170   0 255]\n",
            " [170  85 255]\n",
            " [170 170 255]\n",
            " [170 255 255]\n",
            " [255   0 255]\n",
            " [255  85 255]\n",
            " [255 170 255]\n",
            " [255 255 255]]\n"
          ]
        }
      ],
      "source": [
        "test_colors = make_test_colors()\n",
        "\n",
        "for ii,cc in enumerate(test_colors):\n",
        "  ## do something clever\n",
        "  show_color(cc, guess_color(centroids = centroids, color_dict = color_dict, test_color = cc))\n",
        "print(test_colors)"
      ]
    },
    {
      "cell_type": "markdown",
      "source": [
        "I wrote this Based on 16 color samples, I see 13 were predicted correctly. The ones that were not assigned to the correct color code are because of the wide range of RGB values in the particular segment. Extreme values in RGB as compared to mean values will create misclassification."
      ],
      "metadata": {
        "id": "yoJhEtRATHRg"
      }
    }
  ],
  "metadata": {
    "colab": {
      "provenance": [],
      "include_colab_link": true
    },
    "kernelspec": {
      "display_name": "Python 3",
      "language": "python",
      "name": "python3"
    },
    "language_info": {
      "codemirror_mode": {
        "name": "ipython",
        "version": 3
      },
      "file_extension": ".py",
      "mimetype": "text/x-python",
      "name": "python",
      "nbconvert_exporter": "python",
      "pygments_lexer": "ipython3",
      "version": "3.8.3"
    }
  },
  "nbformat": 4,
  "nbformat_minor": 0
}