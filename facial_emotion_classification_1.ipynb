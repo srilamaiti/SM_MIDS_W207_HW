{
  "nbformat": 4,
  "nbformat_minor": 0,
  "metadata": {
    "colab": {
      "provenance": [],
      "authorship_tag": "ABX9TyMfMoijCiMKgBVUlj+YkMrM",
      "include_colab_link": true
    },
    "kernelspec": {
      "name": "python3",
      "display_name": "Python 3"
    },
    "language_info": {
      "name": "python"
    }
  },
  "cells": [
    {
      "cell_type": "markdown",
      "metadata": {
        "id": "view-in-github",
        "colab_type": "text"
      },
      "source": [
        "<a href=\"https://colab.research.google.com/github/srilamaiti/SM_MIDS_W207_HW/blob/main/facial_emotion_classification_1.ipynb\" target=\"_parent\"><img src=\"https://colab.research.google.com/assets/colab-badge.svg\" alt=\"Open In Colab\"/></a>"
      ]
    },
    {
      "cell_type": "code",
      "execution_count": null,
      "metadata": {
        "id": "fMWLGne7fbtr"
      },
      "outputs": [],
      "source": []
    },
    {
      "cell_type": "markdown",
      "source": [
        "# ***Importing Libraries***"
      ],
      "metadata": {
        "id": "d9XXmiv92GxR"
      }
    },
    {
      "cell_type": "code",
      "execution_count": 2,
      "metadata": {
        "id": "REzJNE-kUsYZ",
        "colab": {
          "base_uri": "https://localhost:8080/"
        },
        "outputId": "89646b5c-6645-4d9b-840a-5412158e9456"
      },
      "outputs": [
        {
          "output_type": "stream",
          "name": "stdout",
          "text": [
            "Mounted at /content/gdrive\n"
          ]
        }
      ],
      "source": [
        "import pandas as pd\n",
        "import numpy as np\n",
        "import os\n",
        "import random\n",
        "import joblib\n",
        "import glob\n",
        "import random\n",
        "from imutils import rotate as rotate\n",
        "from itertools import product\n",
        "import gc\n",
        "from sklearn.utils import shuffle\n",
        "import cv2 as cv\n",
        "import skimage.io as skio\n",
        "\n",
        "import matplotlib.pyplot as plt\n",
        "import seaborn as sns\n",
        "import plotly.express as px\n",
        "import matplotlib.patches as patches\n",
        "from matplotlib.patches import Polygon\n",
        "\n",
        "import tensorflow as tf\n",
        "from tensorflow.keras.preprocessing.image import ImageDataGenerator\n",
        "from tensorflow.keras.layers import RandomFlip\n",
        "from tensorflow.keras.layers import RandomZoom\n",
        "from tensorflow.keras.layers import RandomRotation\n",
        "from tensorflow.keras.layers import Conv2D\n",
        "from tensorflow.keras.layers import MaxPooling2D\n",
        "from tensorflow.keras.layers import AveragePooling2D\n",
        "from tensorflow.keras.layers import Dense\n",
        "from tensorflow.keras.layers import Flatten\n",
        "from tensorflow.keras.layers import Dropout\n",
        "from tensorflow.keras.models import Sequential\n",
        "from tensorflow.keras.layers import BatchNormalization\n",
        "from tensorflow.keras.optimizers import Adam\n",
        "from keras.applications.vgg16 import VGG16\n",
        "from keras.layers import GlobalMaxPooling2D\n",
        "from tensorflow.keras.applications import ResNet50\n",
        "from tensorflow.keras.layers import Input\n",
        "from tensorflow.keras.layers import GlobalAveragePooling2D\n",
        "from tensorflow.keras.layers import BatchNormalization\n",
        "from tensorflow.keras.layers import Activation\n",
        "\n",
        "from tensorflow.keras.preprocessing.image import array_to_img\n",
        "from tensorflow.keras.preprocessing.image import img_to_array\n",
        "from tensorflow.keras.preprocessing.image import load_img\n",
        "from tensorflow.python.ops.numpy_ops import np_config\n",
        "from keras.callbacks import ModelCheckpoint\n",
        "from keras.callbacks import EarlyStopping\n",
        "from keras.callbacks import ReduceLROnPlateau\n",
        "np_config.enable_numpy_behavior()\n",
        "from PIL import Image\n",
        "import cv2\n",
        "\n",
        "from fastai.vision import *\n",
        "from fastai.metrics import error_rate, accuracy\n",
        "\n",
        "# Required to read the data from Kaggle\n",
        "from google.colab import drive\n",
        "drive.mount('/content/gdrive')\n",
        "os.environ['KAGGLE_CONFIG_DIR'] = \"/content/gdrive/MyDrive/Kaggle\"\n",
        "\n",
        "import warnings\n",
        "warnings.simplefilter(\"ignore\", category=DeprecationWarning)"
      ]
    },
    {
      "cell_type": "code",
      "source": [
        "labels = ['happy', 'sad', 'fear', 'angry', 'neutral', 'surprise', 'disgust']\n",
        "label_dict = {'happy' : 1, 'sad' : 2, 'fear' : 3, 'angry' : 4, 'neutral' : 5, 'surprise' : 6, 'disgust' : 7}"
      ],
      "metadata": {
        "id": "PWXhmcnifqn1"
      },
      "execution_count": 3,
      "outputs": []
    },
    {
      "cell_type": "markdown",
      "source": [
        "# ***Support Functionalities***"
      ],
      "metadata": {
        "id": "zfSL4rwi2Voy"
      }
    },
    {
      "cell_type": "markdown",
      "source": [
        "## ***a. Defining Parmeters***"
      ],
      "metadata": {
        "id": "U9Klu_Fz23yb"
      }
    },
    {
      "cell_type": "code",
      "source": [
        "current_working_dir = '/content/gdrive/MyDrive' #os.getcwd()\n",
        "image_file_extension = '.jpg'\n",
        "train_path = 'fdtct_train'\n",
        "test_path = 'fdtct_test'\n",
        "validation_path = 'fdtct_validation'\n",
        "\n",
        "happy_path = 'happy'\n",
        "sad_path = 'sad'\n",
        "disgust_path = 'disgust'\n",
        "angry_path = 'angry'\n",
        "surprise_path = 'surprise'\n",
        "fear_path = 'fear'\n",
        "neutral_path = 'neutral'\n",
        "\n",
        "batch_size = 100\n",
        "image_shape = 48"
      ],
      "metadata": {
        "id": "t1ton3tLU3vz"
      },
      "execution_count": 4,
      "outputs": []
    },
    {
      "cell_type": "markdown",
      "source": [
        "## ***b. Defining Functions***"
      ],
      "metadata": {
        "id": "Bv6CTDgI28vo"
      }
    },
    {
      "cell_type": "code",
      "source": [
        "def get_file_names(dir, image_file_extension = 'jpg'):\n",
        "    \"\"\"\n",
        "    This function lists all the files in the directory.\n",
        "    \"\"\"\n",
        "    return glob.glob(dir + '/*.'+ image_file_extension)"
      ],
      "metadata": {
        "id": "pqyMituepbCJ"
      },
      "execution_count": 5,
      "outputs": []
    },
    {
      "cell_type": "code",
      "source": [
        "def read_image_file_in_np_array(image_file_name_list):\n",
        "    \"\"\"\n",
        "    This function reads each image file in a Numpy array and returns it.\n",
        "    \"\"\"\n",
        "    return np.asarray([cv2.imread(image_file) for image_file in image_file_name_list])"
      ],
      "metadata": {
        "id": "L3_bZ721s1JY"
      },
      "execution_count": 6,
      "outputs": []
    },
    {
      "cell_type": "code",
      "source": [
        "def convert_np_array_to_tensor(np_image_array):\n",
        "    \"\"\"\n",
        "    This function converts the numpy array representation of each image in tensor.\n",
        "    \"\"\"\n",
        "    return tf.convert_to_tensor(np_image_array, dtype = tf.float32)"
      ],
      "metadata": {
        "id": "-SD82yzlxKjv"
      },
      "execution_count": 7,
      "outputs": []
    },
    {
      "cell_type": "code",
      "source": [
        "def create_label(array_length, val):\n",
        "    \"\"\"\n",
        "    This function creates array of the given value\n",
        "    \"\"\"\n",
        "    label_np = np.empty(array_length); label_np.fill(val)\n",
        "    return label_np"
      ],
      "metadata": {
        "id": "FuIQ5JEwz6E2"
      },
      "execution_count": 8,
      "outputs": []
    },
    {
      "cell_type": "code",
      "source": [
        "def convert_to_grayscale(tf_image_list):\n",
        "    \"\"\"\n",
        "    This function converts color image to grayscale.\n",
        "    \"\"\"\n",
        "    return tf.image.rgb_to_grayscale(tf_image_list) / 255.0"
      ],
      "metadata": {
        "id": "ex08CpqJ3X3G"
      },
      "execution_count": 9,
      "outputs": []
    },
    {
      "cell_type": "code",
      "source": [
        "def plotImages(images_arr):\n",
        "    fig, axes = plt.subplots(1, 5, figsize=(20,20))\n",
        "    axes = axes.flatten()\n",
        "    for img, ax in zip( images_arr, axes):\n",
        "        ax.imshow(img)\n",
        "    plt.tight_layout()\n",
        "    plt.show()"
      ],
      "metadata": {
        "id": "aMmOPP3T6Mba"
      },
      "execution_count": 10,
      "outputs": []
    },
    {
      "cell_type": "markdown",
      "source": [
        "# ***Obtaining File Information***"
      ],
      "metadata": {
        "id": "XSqnpJk82fu3"
      }
    },
    {
      "cell_type": "markdown",
      "source": [
        "## ***a. Train Files***"
      ],
      "metadata": {
        "id": "O7Q3zEfz2kfB"
      }
    },
    {
      "cell_type": "code",
      "source": [
        "train_happy_file_list = get_file_names(dir = os.path.join(current_working_dir, train_path, happy_path))\n",
        "train_sad_file_list = get_file_names(dir = os.path.join(current_working_dir, train_path, sad_path))\n",
        "train_angry_file_list = get_file_names(dir = os.path.join(current_working_dir, train_path, angry_path))\n",
        "train_surprise_file_list = get_file_names(dir = os.path.join(current_working_dir, train_path, surprise_path))\n",
        "train_fear_file_list = get_file_names(dir = os.path.join(current_working_dir, train_path, fear_path))\n",
        "train_neutral_file_list = get_file_names(dir = os.path.join(current_working_dir, train_path, neutral_path))\n",
        "train_disgust_file_list = get_file_names(dir = os.path.join(current_working_dir, train_path, disgust_path))"
      ],
      "metadata": {
        "id": "zb32fK9_U31v"
      },
      "execution_count": 11,
      "outputs": []
    },
    {
      "cell_type": "code",
      "source": [
        "print(f\"Number of train happy files: {len(train_happy_file_list)}\")\n",
        "print(f\"Number of train sad files: {len(train_sad_file_list)}\")\n",
        "print(f\"Number of train angry files: {len(train_angry_file_list)}\")\n",
        "print(f\"Number of train neutral files: {len(train_neutral_file_list)}\")\n",
        "print(f\"Number of train disgust files: {len(train_disgust_file_list)}\")\n",
        "print(f\"Number of train fear files: {len(train_fear_file_list)}\")\n",
        "print(f\"Number of train surprise files: {len(train_surprise_file_list)}\")"
      ],
      "metadata": {
        "colab": {
          "base_uri": "https://localhost:8080/"
        },
        "id": "w0zQ6LiHrqRr",
        "outputId": "6af93788-20f4-436a-dfa0-64d67a757cbb"
      },
      "execution_count": 12,
      "outputs": [
        {
          "output_type": "stream",
          "name": "stdout",
          "text": [
            "Number of train happy files: 350\n",
            "Number of train sad files: 350\n",
            "Number of train angry files: 350\n",
            "Number of train neutral files: 350\n",
            "Number of train disgust files: 350\n",
            "Number of train fear files: 350\n",
            "Number of train surprise files: 350\n"
          ]
        }
      ]
    },
    {
      "cell_type": "markdown",
      "source": [
        "## ***b. Test Files***"
      ],
      "metadata": {
        "id": "OE70Y3yW2qc0"
      }
    },
    {
      "cell_type": "code",
      "source": [
        "test_happy_file_list = get_file_names(dir = os.path.join(current_working_dir, test_path, happy_path))\n",
        "test_sad_file_list = get_file_names(dir = os.path.join(current_working_dir, test_path, sad_path))\n",
        "test_angry_file_list = get_file_names(dir = os.path.join(current_working_dir, test_path, angry_path))\n",
        "test_surprise_file_list = get_file_names(dir = os.path.join(current_working_dir, test_path, surprise_path))\n",
        "test_fear_file_list = get_file_names(dir = os.path.join(current_working_dir, test_path, fear_path))\n",
        "test_neutral_file_list = get_file_names(dir = os.path.join(current_working_dir, test_path, neutral_path))\n",
        "test_disgust_file_list = get_file_names(dir = os.path.join(current_working_dir, test_path, disgust_path))"
      ],
      "metadata": {
        "id": "eM-9OMDCrQHc"
      },
      "execution_count": 13,
      "outputs": []
    },
    {
      "cell_type": "code",
      "source": [
        "print(f\"Number of test happy files: {len(test_happy_file_list)}\")\n",
        "print(f\"Number of test sad files: {len(test_sad_file_list)}\")\n",
        "print(f\"Number of test angry files: {len(test_angry_file_list)}\")\n",
        "print(f\"Number of test neutral files: {len(test_neutral_file_list)}\")\n",
        "print(f\"Number of test disgust files: {len(test_disgust_file_list)}\")\n",
        "print(f\"Number of test fear files: {len(test_fear_file_list)}\")\n",
        "print(f\"Number of test surprise files: {len(test_surprise_file_list)}\")"
      ],
      "metadata": {
        "colab": {
          "base_uri": "https://localhost:8080/"
        },
        "id": "PcrWVNqbsGzd",
        "outputId": "30c246fc-495a-4364-a22b-9588ac8c77f4"
      },
      "execution_count": 14,
      "outputs": [
        {
          "output_type": "stream",
          "name": "stdout",
          "text": [
            "Number of test happy files: 112\n",
            "Number of test sad files: 112\n",
            "Number of test angry files: 112\n",
            "Number of test neutral files: 112\n",
            "Number of test disgust files: 111\n",
            "Number of test fear files: 112\n",
            "Number of test surprise files: 112\n"
          ]
        }
      ]
    },
    {
      "cell_type": "markdown",
      "source": [
        "## ***c. Validation Files***"
      ],
      "metadata": {
        "id": "0VwaRq5e2w1X"
      }
    },
    {
      "cell_type": "code",
      "source": [
        "validation_happy_file_list = get_file_names(dir = os.path.join(current_working_dir, validation_path, happy_path))\n",
        "validation_sad_file_list = get_file_names(dir = os.path.join(current_working_dir, validation_path, sad_path))\n",
        "validation_angry_file_list = get_file_names(dir = os.path.join(current_working_dir, validation_path, angry_path))\n",
        "validation_surprise_file_list = get_file_names(dir = os.path.join(current_working_dir, validation_path, surprise_path))\n",
        "validation_fear_file_list = get_file_names(dir = os.path.join(current_working_dir, validation_path, fear_path))\n",
        "validation_neutral_file_list = get_file_names(dir = os.path.join(current_working_dir, validation_path, neutral_path))\n",
        "validation_disgust_file_list = get_file_names(dir = os.path.join(current_working_dir, validation_path, disgust_path))"
      ],
      "metadata": {
        "id": "5gy51wXcrQM8"
      },
      "execution_count": 15,
      "outputs": []
    },
    {
      "cell_type": "code",
      "source": [
        "print(f\"Number of validation happy files: {len(validation_happy_file_list)}\")\n",
        "print(f\"Number of validation sad files: {len(validation_sad_file_list)}\")\n",
        "print(f\"Number of validation angry files: {len(validation_angry_file_list)}\")\n",
        "print(f\"Number of validation neutral files: {len(validation_neutral_file_list)}\")\n",
        "print(f\"Number of validation disgust files: {len(validation_disgust_file_list)}\")\n",
        "print(f\"Number of validation fear files: {len(validation_fear_file_list)}\")\n",
        "print(f\"Number of validation surprise files: {len(validation_surprise_file_list)}\")"
      ],
      "metadata": {
        "colab": {
          "base_uri": "https://localhost:8080/"
        },
        "id": "Mp-zu-_5rQQ1",
        "outputId": "59a0bcba-9d3f-417d-a4d4-621c33afeea3"
      },
      "execution_count": 16,
      "outputs": [
        {
          "output_type": "stream",
          "name": "stdout",
          "text": [
            "Number of validation happy files: 87\n",
            "Number of validation sad files: 87\n",
            "Number of validation angry files: 87\n",
            "Number of validation neutral files: 87\n",
            "Number of validation disgust files: 87\n",
            "Number of validation fear files: 87\n",
            "Number of validation surprise files: 87\n"
          ]
        }
      ]
    },
    {
      "cell_type": "code",
      "source": [
        "import matplotlib.pyplot as plt\n",
        "image = plt.imread(os.path.join(current_working_dir, validation_path, happy_path) + '/100.jpg')\n",
        "plt.imshow(image)"
      ],
      "metadata": {
        "colab": {
          "base_uri": "https://localhost:8080/",
          "height": 285
        },
        "id": "16CtQhuqrQT6",
        "outputId": "70aa8fde-be03-4d57-dd32-c3938102914c"
      },
      "execution_count": 17,
      "outputs": [
        {
          "output_type": "execute_result",
          "data": {
            "text/plain": [
              "<matplotlib.image.AxesImage at 0x7f273a847190>"
            ]
          },
          "metadata": {},
          "execution_count": 17
        },
        {
          "output_type": "display_data",
          "data": {
            "text/plain": [
              "<Figure size 432x288 with 1 Axes>"
            ],
            "image/png": "[encoded data removed]"
          },
          "metadata": {
            "needs_background": "light"
          }
        }
      ]
    },
    {
      "cell_type": "code",
      "source": [
        "# number of images to feed into the NN for every batch\n",
        "batch_size = 128\n",
        "\n",
        "datagen_train = ImageDataGenerator()\n",
        "datagen_validation = ImageDataGenerator()\n",
        "\n",
        "train_generator = datagen_train.flow_from_directory(os.path.join(current_working_dir, train_path),\n",
        "                                                    target_size=(image_shape,image_shape),\n",
        "                                                    color_mode=\"grayscale\",\n",
        "                                                    batch_size=batch_size,\n",
        "                                                    class_mode='categorical',\n",
        "                                                    shuffle=True)\n",
        "\n",
        "validation_generator = datagen_validation.flow_from_directory(os.path.join(current_working_dir, validation_path),\n",
        "                                                    target_size=(image_shape,image_shape),\n",
        "                                                    color_mode=\"grayscale\",\n",
        "                                                    batch_size=batch_size,\n",
        "                                                    class_mode='categorical',\n",
        "                                                    shuffle=False)\n",
        "\n",
        "test_generator = datagen_validation.flow_from_directory(os.path.join(current_working_dir, test_path),\n",
        "                                                    target_size=(image_shape,image_shape),\n",
        "                                                    color_mode=\"grayscale\",\n",
        "                                                    batch_size=batch_size,\n",
        "                                                    class_mode='categorical',\n",
        "                                                    shuffle=False)"
      ],
      "metadata": {
        "colab": {
          "base_uri": "https://localhost:8080/"
        },
        "id": "G_EMAd2VgNk2",
        "outputId": "a16b9033-3cf9-4899-eb68-644ec811c3d6"
      },
      "execution_count": 18,
      "outputs": [
        {
          "output_type": "stream",
          "name": "stdout",
          "text": [
            "Found 2450 images belonging to 7 classes.\n",
            "Found 609 images belonging to 7 classes.\n"
          ]
        }
      ]
    },
    {
      "cell_type": "code",
      "source": [
        "# Initialising the CNN\n",
        "model4 = Sequential()\n",
        "\n",
        "# 1 - Convolution\n",
        "model4.add(Conv2D(64,(3,3), padding='same', input_shape=(48, 48,1)))\n",
        "model4.add(BatchNormalization())\n",
        "model4.add(Activation('relu'))\n",
        "model4.add(MaxPooling2D(pool_size=(2, 2)))\n",
        "model4.add(Dropout(0.25))\n",
        "\n",
        "# 2nd Convolution layer\n",
        "model4.add(Conv2D(128,(5,5), padding='same'))\n",
        "model4.add(BatchNormalization())\n",
        "model4.add(Activation('relu'))\n",
        "model4.add(MaxPooling2D(pool_size=(2, 2)))\n",
        "model4.add(Dropout(0.25))\n",
        "\n",
        "# 3rd Convolution layer\n",
        "model4.add(Conv2D(512,(3,3), padding='same'))\n",
        "model4.add(BatchNormalization())\n",
        "model4.add(Activation('relu'))\n",
        "model4.add(MaxPooling2D(pool_size=(2, 2)))\n",
        "model4.add(Dropout(0.25))\n",
        "\n",
        "# 4th Convolution layer\n",
        "model4.add(Conv2D(512,(3,3), padding='same'))\n",
        "model4.add(BatchNormalization())\n",
        "model4.add(Activation('relu'))\n",
        "model4.add(MaxPooling2D(pool_size=(2, 2)))\n",
        "model4.add(Dropout(0.25))\n",
        "\n",
        "# Flattening\n",
        "model4.add(Flatten())\n",
        "\n",
        "# Fully connected layer 1st layer\n",
        "model4.add(Dense(256))\n",
        "model4.add(BatchNormalization())\n",
        "model4.add(Activation('relu'))\n",
        "model4.add(Dropout(0.25))\n",
        "\n",
        "# Fully connected layer 2nd layer\n",
        "model4.add(Dense(512))\n",
        "model4.add(BatchNormalization())\n",
        "model4.add(Activation('relu'))\n",
        "model4.add(Dropout(0.25))\n",
        "\n",
        "model4.add(Dense(7, activation='softmax'))\n",
        "\n",
        "opt = Adam(lr=0.0001)\n",
        "model4.compile(optimizer=opt, loss='categorical_crossentropy', metrics=['accuracy'])\n",
        "\n",
        "epochs = 100\n",
        "\n",
        "from keras.callbacks import ModelCheckpoint\n",
        "\n",
        "checkpoint = ModelCheckpoint(\"model_weights.h5\", monitor='val_acc', verbose=1, save_best_only=True, mode='max')\n",
        "callbacks_list = [checkpoint]\n",
        "\n",
        "history4 = model4.fit_generator(generator=train_generator,\n",
        "                                steps_per_epoch=train_generator.n//train_generator.batch_size,\n",
        "                                epochs=epochs,\n",
        "                                validation_data = validation_generator,\n",
        "                                validation_steps = validation_generator.n//validation_generator.batch_size,\n",
        "                                callbacks=callbacks_list\n",
        "                                )"
      ],
      "metadata": {
        "colab": {
          "base_uri": "https://localhost:8080/"
        },
        "id": "Fh0CPnUGgP6T",
        "outputId": "a1c1f3c0-2bc5-4b86-ce31-3eda99679dbf"
      },
      "execution_count": null,
      "outputs": [
        {
          "output_type": "stream",
          "name": "stderr",
          "text": [
            "/usr/local/lib/python3.7/dist-packages/keras/optimizers/optimizer_v2/adam.py:110: UserWarning: The `lr` argument is deprecated, use `learning_rate` instead.\n",
            "  super(Adam, self).__init__(name, **kwargs)\n",
            "/usr/local/lib/python3.7/dist-packages/ipykernel_launcher.py:64: UserWarning: `Model.fit_generator` is deprecated and will be removed in a future version. Please use `Model.fit`, which supports generators.\n"
          ]
        },
        {
          "output_type": "stream",
          "name": "stdout",
          "text": [
            "Epoch 1/100\n",
            " 1/19 [>.............................] - ETA: 3:01 - loss: 2.3516 - accuracy: 0.1484"
          ]
        }
      ]
    },
    {
      "cell_type": "code",
      "source": [
        "plt.figure(figsize=(20,10))\n",
        "plt.subplot(1, 2, 1)\n",
        "plt.suptitle('Optimizer : Adam', fontsize=10)\n",
        "plt.ylabel('Loss', fontsize=16)\n",
        "plt.plot(history4.history['loss'], label='Training Loss')\n",
        "plt.plot(history4.history['val_loss'], label='Validation Loss')\n",
        "plt.legend(loc='upper right')\n",
        "\n",
        "plt.subplot(1, 2, 2)\n",
        "plt.ylabel('Accuracy', fontsize=16)\n",
        "plt.plot(history4.history['accuracy'], label='Training Accuracy')\n",
        "plt.plot(history4.history['val_accuracy'], label='Validation Accuracy')\n",
        "plt.legend(loc='lower right')\n",
        "plt.show()"
      ],
      "metadata": {
        "id": "FG5HqDJygYLL"
      },
      "execution_count": null,
      "outputs": []
    }
  ]
}